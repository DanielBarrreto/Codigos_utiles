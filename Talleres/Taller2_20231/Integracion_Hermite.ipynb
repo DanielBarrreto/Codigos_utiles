{
 "cells": [
  {
   "cell_type": "code",
   "execution_count": 1,
   "id": "177cdad0",
   "metadata": {},
   "outputs": [],
   "source": [
    "import numpy as np\n",
    "import matplotlib.pyplot as plt\n",
    "from matplotlib import rc\n",
    "import sympy as sym\n",
    "from sympy.functions import exp\n",
    "import math\n",
    "from tqdm import tqdm"
   ]
  },
  {
   "cell_type": "code",
   "execution_count": 2,
   "id": "ce1b4e33",
   "metadata": {},
   "outputs": [],
   "source": [
    "def Function(x):\n",
    "    return 3*x**5 + 5*x**4 - x**3\n",
    "\n",
    "def Derivative(f,x,h):\n",
    "    d = 0.\n",
    "    \n",
    "    if(h != 0):\n",
    "        d = (f(x+h)-f(x-h))/(2.*h)\n",
    "        \n",
    "    return d"
   ]
  },
  {
   "cell_type": "code",
   "execution_count": 3,
   "id": "7529e314",
   "metadata": {},
   "outputs": [],
   "source": [
    "def NewtonMethod(f,df,xn,error,it,precision=0.001,iterations=1000):\n",
    "    \n",
    "    h_ = 1.0e-4\n",
    "    \n",
    "    while error > precision and it < iterations:\n",
    "        \n",
    "        try:\n",
    "            \n",
    "            xn1 = xn - f(xn)/df(f,xn,h_)+1.0e-10\n",
    "            error = np.abs((xn1-xn)/xn1)        \n",
    "            \n",
    "        except ZeroDivisionError:\n",
    "            print(\"Division by Zero\")\n",
    "            \n",
    "        xn = xn1\n",
    "        it += 1\n",
    "    \n",
    "    #print(it)\n",
    "    if it == iterations:\n",
    "        return False\n",
    "    else:\n",
    "        return xn1"
   ]
  },
  {
   "cell_type": "code",
   "execution_count": 4,
   "id": "414ebca3",
   "metadata": {},
   "outputs": [],
   "source": [
    "def GetRoots(f,df, X, precision_=0.001, tolerancia=5):\n",
    "    \n",
    "    Roots = []\n",
    "    \n",
    "    for i in X:\n",
    "        \n",
    "        root = NewtonMethod(f,df,i,100,0,precision=precision_)\n",
    "        \n",
    "        if root != False:\n",
    "            if round(root,tolerancia) not in Roots:\n",
    "                Roots.append(round(root,tolerancia))\n",
    "            \n",
    "      \n",
    "    return Roots"
   ]
  },
  {
   "cell_type": "code",
   "execution_count": 5,
   "id": "d6a55156",
   "metadata": {},
   "outputs": [],
   "source": [
    "def CreateHermitePoly(n):\n",
    "    \n",
    "    x1 = sym.Symbol('x', real=True)\n",
    "    y = sym.Symbol('y', real=True)\n",
    "    \n",
    "    y = exp(-x1**2)\n",
    "    \n",
    "    poly = (-1)**n*exp(x1**2)*sym.diff(y,x1,n)\n",
    "    \n",
    "    return poly"
   ]
  },
  {
   "cell_type": "code",
   "execution_count": 6,
   "id": "c417ced4",
   "metadata": {},
   "outputs": [],
   "source": [
    "def GetWeight(f,xk,n):\n",
    "    return (2**(n-1)*np.math.factorial(n)*np.sqrt(np.pi))/(n**2 * f(xk)**2 )"
   ]
  },
  {
   "cell_type": "code",
   "execution_count": 7,
   "id": "06d3dc03",
   "metadata": {},
   "outputs": [],
   "source": [
    "def Getleggauss(n):\n",
    "    \n",
    "    if n == 0 or n == 1:\n",
    "        return 0,0\n",
    "    \n",
    "    Hermite = []\n",
    "    Hermite_1 = []\n",
    "    Weights = []\n",
    "    \n",
    "    x = sym.Symbol('x', real=True)  \n",
    "    \n",
    "    for i in range(1,n+1):\n",
    "        \n",
    "        \n",
    "        \n",
    "        poly = CreateHermitePoly(i)\n",
    "        poly1 = CreateHermitePoly(i-1)\n",
    "        \n",
    "    \n",
    "        \n",
    "        Hermite.append(poly)\n",
    "        Hermite_1.append(poly1)\n",
    "        \n",
    "    xi = np.linspace(-100,100,2000)    \n",
    "        \n",
    "   # print(Hermite)    \n",
    "   # print(Hermite_1)    \n",
    "        \n",
    "    pn = sym.lambdify([x], Hermite[n-1],'numpy')\n",
    "    pn1 = sym.lambdify([x], Hermite_1[n-1],'numpy')\n",
    "    \n",
    "    Roots = GetRoots(pn,Derivative, xi, 0.0000001,tolerancia=7)\n",
    "    Roots.sort()   \n",
    "        \n",
    "    for j in Roots:\n",
    "        Weights.append(round(GetWeight(pn1,j,n),9))    \n",
    "\n",
    "        \n",
    "    Roots = np.array(Roots)\n",
    "    Weights = np.array(Weights)\n",
    "    \n",
    "    \n",
    "    return Roots, Weights"
   ]
  },
  {
   "cell_type": "code",
   "execution_count": 8,
   "id": "e0e95c68",
   "metadata": {},
   "outputs": [
    {
     "name": "stdout",
     "output_type": "stream",
     "text": [
      "-5.3874809 0.0\n",
      "-4.6036824 0.0\n",
      "-3.944764 1.09e-07\n",
      "-3.3478546 7.803e-06\n",
      "-2.7888061 0.000228339\n",
      "-2.254974 0.003243773\n",
      "-1.7385377 0.024810523\n",
      "-1.2340762 0.109017214\n",
      "-0.7374737 0.28667553\n",
      "-0.2453407 0.462243673\n",
      "0.2453407 0.462243673\n",
      "0.7374737 0.28667553\n",
      "1.2340762 0.109017214\n",
      "1.7385377 0.024810523\n",
      "2.254974 0.003243773\n",
      "2.7888061 0.000228339\n",
      "3.3478546 7.803e-06\n",
      "3.944764 1.09e-07\n",
      "4.6036824 0.0\n",
      "5.3874809 0.0\n"
     ]
    }
   ],
   "source": [
    "deg = 20\n",
    "Roots, Weights = Getleggauss(deg)\n",
    "\n",
    "\n",
    "for i in range(deg):\n",
    "    print(Roots[i],Weights[i])"
   ]
  },
  {
   "cell_type": "code",
   "execution_count": 42,
   "id": "25834040",
   "metadata": {},
   "outputs": [],
   "source": [
    "# Calculando la integral \n",
    "\n",
    "f = lambda x: 1/np.sqrt(np.pi) * 2 * x**4\n",
    "#f = lambda x: 2 * x**4"
   ]
  },
  {
   "cell_type": "code",
   "execution_count": 43,
   "id": "0840632d",
   "metadata": {},
   "outputs": [],
   "source": [
    "Integral = np.sum( Weights*f(Roots) )"
   ]
  },
  {
   "cell_type": "code",
   "execution_count": 44,
   "id": "befa8285",
   "metadata": {},
   "outputs": [
    {
     "name": "stdout",
     "output_type": "stream",
     "text": [
      "1.499999954\n"
     ]
    }
   ],
   "source": [
    "print(np.round(Integral,10))"
   ]
  },
  {
   "cell_type": "code",
   "execution_count": null,
   "id": "d7d68d9c",
   "metadata": {},
   "outputs": [],
   "source": []
  },
  {
   "cell_type": "code",
   "execution_count": null,
   "id": "a1bfa87a",
   "metadata": {},
   "outputs": [],
   "source": []
  }
 ],
 "metadata": {
  "kernelspec": {
   "display_name": "Python 3 (ipykernel)",
   "language": "python",
   "name": "python3"
  },
  "language_info": {
   "codemirror_mode": {
    "name": "ipython",
    "version": 3
   },
   "file_extension": ".py",
   "mimetype": "text/x-python",
   "name": "python",
   "nbconvert_exporter": "python",
   "pygments_lexer": "ipython3",
   "version": "3.9.12"
  }
 },
 "nbformat": 4,
 "nbformat_minor": 5
}
