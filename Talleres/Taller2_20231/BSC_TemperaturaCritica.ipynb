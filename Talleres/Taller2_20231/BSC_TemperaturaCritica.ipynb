{
 "cells": [
  {
   "cell_type": "code",
   "execution_count": 1,
   "id": "3df6c89b",
   "metadata": {},
   "outputs": [],
   "source": [
    "import numpy as np\n",
    "import matplotlib.pyplot as plt\n",
    "from tqdm import tqdm"
   ]
  },
  {
   "cell_type": "code",
   "execution_count": 2,
   "id": "cf0305cd",
   "metadata": {},
   "outputs": [],
   "source": [
    "# Plot style\n",
    "plt.rcParams['legend.fontsize'] = 15\n",
    "plt.rcParams['xtick.labelsize'] = 10\n",
    "plt.rcParams['ytick.labelsize'] = 10"
   ]
  },
  {
   "cell_type": "code",
   "execution_count": 3,
   "id": "ec8a9890",
   "metadata": {},
   "outputs": [],
   "source": [
    "# Metodo para encontrar la integral\n",
    "x,w = np.polynomial.legendre.leggauss(30)\n",
    "def GetIntegral(f,T,delta):\n",
    "    return np.sum(w*f(x,T,delta))"
   ]
  },
  {
   "cell_type": "code",
   "execution_count": 4,
   "id": "d7fc147e",
   "metadata": {},
   "outputs": [],
   "source": [
    "# Ecuacion de la banda prohibida\n",
    "def Banda(e,T,delta):\n",
    "    TD = 300.\n",
    "    f = 0.5*np.tanh( np.sqrt(e**2 + delta**2)*TD/(2*T) )\n",
    "    f /= np.sqrt(e**2 + delta**2)\n",
    "    return f"
   ]
  },
  {
   "cell_type": "code",
   "execution_count": 5,
   "id": "4b7ebfbc",
   "metadata": {},
   "outputs": [],
   "source": [
    "# Rutina para obtener la temperatura crítica\n",
    "def GetCritiqueTemperature(NV=0.3, dt=1e-4):\n",
    "    \n",
    "    Tc = 0.\n",
    "    Found = False\n",
    "    \n",
    "    T = np.arange(10.,15.,dt,dtype=np.float64)\n",
    "    \n",
    "    for i in tqdm(T):\n",
    "        \n",
    "        Integral = GetIntegral(Banda,i,delta=0.)\n",
    "        \n",
    "        if np.allclose(Integral,1/NV,atol=dt):\n",
    "            Tc = i\n",
    "            Found = True\n",
    "            break\n",
    "            \n",
    "    if Found:\n",
    "        return Tc\n",
    "    else:\n",
    "        return False"
   ]
  },
  {
   "cell_type": "code",
   "execution_count": 6,
   "id": "b72e6a9a",
   "metadata": {},
   "outputs": [
    {
     "name": "stderr",
     "output_type": "stream",
     "text": [
      " 42%|███████████████████████████████████████▋                                                      | 21117/50000 [00:01<00:01, 15968.47it/s]\n"
     ]
    },
    {
     "data": {
      "text/plain": [
       "12.111699999995079"
      ]
     },
     "execution_count": 6,
     "metadata": {},
     "output_type": "execute_result"
    }
   ],
   "source": [
    "GetCritiqueTemperature()"
   ]
  },
  {
   "cell_type": "code",
   "execution_count": null,
   "id": "db9ed277",
   "metadata": {},
   "outputs": [],
   "source": []
  }
 ],
 "metadata": {
  "kernelspec": {
   "display_name": "Python 3 (ipykernel)",
   "language": "python",
   "name": "python3"
  },
  "language_info": {
   "codemirror_mode": {
    "name": "ipython",
    "version": 3
   },
   "file_extension": ".py",
   "mimetype": "text/x-python",
   "name": "python",
   "nbconvert_exporter": "python",
   "pygments_lexer": "ipython3",
   "version": "3.9.12"
  }
 },
 "nbformat": 4,
 "nbformat_minor": 5
}
