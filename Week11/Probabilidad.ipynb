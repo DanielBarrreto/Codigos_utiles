{
 "cells": [
  {
   "cell_type": "code",
   "execution_count": 2,
   "id": "fd41bf5a",
   "metadata": {},
   "outputs": [],
   "source": [
    "import numpy as np\n",
    "import matplotlib.pyplot as plt"
   ]
  },
  {
   "cell_type": "code",
   "execution_count": 5,
   "id": "96e0bb55",
   "metadata": {},
   "outputs": [],
   "source": [
    "def GetSample(N = int(1e4), ncoins=3, weights=None):\n",
    "    \n",
    "    Sample = np.zeros((N,ncoins))\n",
    "    \n",
    "    Events = [0,1]\n",
    "    \n",
    "    for i in range(N):\n",
    "        \n",
    "        if weights == None:\n",
    "            Exp = np.random.choice( Events, ncoins )\n",
    "        \n",
    "        Sample[i] = Exp\n",
    "        \n",
    "    return Sample"
   ]
  },
  {
   "cell_type": "code",
   "execution_count": 6,
   "id": "50e8e3dd",
   "metadata": {},
   "outputs": [],
   "source": [
    "N = 10000\n",
    "Sample = GetSample(N)"
   ]
  },
  {
   "cell_type": "code",
   "execution_count": 7,
   "id": "54810b1b",
   "metadata": {},
   "outputs": [
    {
     "data": {
      "text/plain": [
       "array([[0., 1., 0.],\n",
       "       [1., 0., 0.],\n",
       "       [0., 1., 0.],\n",
       "       ...,\n",
       "       [1., 1., 0.],\n",
       "       [1., 0., 1.],\n",
       "       [0., 1., 0.]])"
      ]
     },
     "execution_count": 7,
     "metadata": {},
     "output_type": "execute_result"
    }
   ],
   "source": [
    "Sample"
   ]
  },
  {
   "cell_type": "code",
   "execution_count": 9,
   "id": "552ecc93",
   "metadata": {},
   "outputs": [],
   "source": [
    "Frecuencias = np.array([], dtype = np.int64)\n",
    "\n",
    "for i in range(Sample.shape[0]):\n",
    "    \n",
    "    NCaras  = 0\n",
    "    \n",
    "    for j in range(Sample.shape[1]):\n",
    "        \n",
    "        if Sample[i,j] == 0:\n",
    "            NCaras += 1 \n",
    "            \n",
    "    Frecuencias = np.append(Frecuencias,NCaras)"
   ]
  },
  {
   "cell_type": "code",
   "execution_count": 11,
   "id": "6108d59c",
   "metadata": {},
   "outputs": [
    {
     "data": {
      "text/plain": [
       "array([2, 2, 2, ..., 1, 1, 2])"
      ]
     },
     "execution_count": 11,
     "metadata": {},
     "output_type": "execute_result"
    }
   ],
   "source": [
    "Frecuencias"
   ]
  },
  {
   "cell_type": "code",
   "execution_count": 13,
   "id": "0f7ec5db",
   "metadata": {},
   "outputs": [
    {
     "data": {
      "text/plain": [
       "(array([0.41866667, 0.        , 0.        , 1.27666667, 0.        ,\n",
       "        0.        , 1.21933333, 0.        , 0.        , 0.41866667]),\n",
       " array([0. , 0.3, 0.6, 0.9, 1.2, 1.5, 1.8, 2.1, 2.4, 2.7, 3. ]),\n",
       " <BarContainer object of 10 artists>)"
      ]
     },
     "execution_count": 13,
     "metadata": {},
     "output_type": "execute_result"
    },
    {
     "data": {
      "image/png": "[encoded data removed]",
      "text/plain": [
       "<Figure size 432x288 with 1 Axes>"
      ]
     },
     "metadata": {
      "needs_background": "light"
     },
     "output_type": "display_data"
    }
   ],
   "source": [
    "plt.hist(Frecuencias,density=True)"
   ]
  },
  {
   "cell_type": "code",
   "execution_count": 16,
   "id": "e9be56cf",
   "metadata": {},
   "outputs": [
    {
     "name": "stdout",
     "output_type": "stream",
     "text": [
      "3658 0.3658 0.375\n"
     ]
    }
   ],
   "source": [
    "ii = np.where( Frecuencias == 2)\n",
    "Events = len(Frecuencias[ii])\n",
    "print(Events, Events/N, 3/8)"
   ]
  },
  {
   "cell_type": "code",
   "execution_count": null,
   "id": "401edaf2",
   "metadata": {},
   "outputs": [],
   "source": []
  }
 ],
 "metadata": {
  "kernelspec": {
   "display_name": "Python 3 (ipykernel)",
   "language": "python",
   "name": "python3"
  },
  "language_info": {
   "codemirror_mode": {
    "name": "ipython",
    "version": 3
   },
   "file_extension": ".py",
   "mimetype": "text/x-python",
   "name": "python",
   "nbconvert_exporter": "python",
   "pygments_lexer": "ipython3",
   "version": "3.9.12"
  }
 },
 "nbformat": 4,
 "nbformat_minor": 5
}
