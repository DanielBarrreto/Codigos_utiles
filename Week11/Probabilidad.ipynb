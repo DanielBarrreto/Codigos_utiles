{
 "cells": [
  {
   "cell_type": "code",
   "execution_count": 2,
   "id": "f3fc53e2",
   "metadata": {},
   "outputs": [],
   "source": [
    "import numpy as np\n",
    "import matplotlib.pyplot as plt"
   ]
  },
  {
   "cell_type": "code",
   "execution_count": 17,
   "id": "f76ef51b",
   "metadata": {},
   "outputs": [],
   "source": [
    "def GetSample(N = int(1e4), ncoins=3, weights=None):\n",
    "    \n",
    "    Sample = np.zeros((N,ncoins))\n",
    "    \n",
    "    Events = [0,1]\n",
    "    \n",
    "    for i in range(N):\n",
    "        \n",
    "        if weights == None:\n",
    "            Exp = np.random.choice( Events, ncoins )\n",
    "        else:\n",
    "            Exp = np.random.choice( Events, ncoins, p= weights )\n",
    "            \n",
    "        \n",
    "        Sample[i] = Exp\n",
    "        \n",
    "    return Sample"
   ]
  },
  {
   "cell_type": "code",
   "execution_count": 26,
   "id": "efdc1f4e",
   "metadata": {},
   "outputs": [],
   "source": [
    "N = 10000\n",
    "Sample = GetSample(N,ncoins=10,weights=[0.5,0.5])"
   ]
  },
  {
   "cell_type": "code",
   "execution_count": 27,
   "id": "ad365b61",
   "metadata": {},
   "outputs": [
    {
     "data": {
      "text/plain": [
       "array([[0., 0., 1., ..., 1., 0., 1.],\n",
       "       [1., 0., 1., ..., 1., 1., 0.],\n",
       "       [0., 1., 0., ..., 1., 1., 1.],\n",
       "       ...,\n",
       "       [1., 1., 1., ..., 0., 0., 1.],\n",
       "       [1., 1., 1., ..., 0., 0., 0.],\n",
       "       [0., 1., 1., ..., 0., 0., 0.]])"
      ]
     },
     "execution_count": 27,
     "metadata": {},
     "output_type": "execute_result"
    }
   ],
   "source": [
    "Sample"
   ]
  },
  {
   "cell_type": "code",
   "execution_count": 28,
   "id": "a08ab319",
   "metadata": {},
   "outputs": [],
   "source": [
    "Frecuencias = np.array([], dtype = np.int64)\n",
    "\n",
    "for i in range(Sample.shape[0]):\n",
    "    \n",
    "    NCaras  = 0\n",
    "    \n",
    "    for j in range(Sample.shape[1]):\n",
    "        \n",
    "        if Sample[i,j] == 0:\n",
    "            NCaras += 1 \n",
    "            \n",
    "    Frecuencias = np.append(Frecuencias,NCaras)"
   ]
  },
  {
   "cell_type": "code",
   "execution_count": 29,
   "id": "3bbd09a3",
   "metadata": {},
   "outputs": [
    {
     "data": {
      "text/plain": [
       "array([4, 4, 6, ..., 2, 4, 6])"
      ]
     },
     "execution_count": 29,
     "metadata": {},
     "output_type": "execute_result"
    }
   ],
   "source": [
    "Frecuencias"
   ]
  },
  {
   "cell_type": "code",
   "execution_count": 30,
   "id": "45bf4005",
   "metadata": {},
   "outputs": [
    {
     "data": {
      "text/plain": [
       "(array([0.0008, 0.0096, 0.0444, 0.1177, 0.203 , 0.2495, 0.2048, 0.1164,\n",
       "        0.0443, 0.0095]),\n",
       " array([ 0.,  1.,  2.,  3.,  4.,  5.,  6.,  7.,  8.,  9., 10.]),\n",
       " <BarContainer object of 10 artists>)"
      ]
     },
     "execution_count": 30,
     "metadata": {},
     "output_type": "execute_result"
    },
    {
     "data": {
      "image/png": "[encoded data removed]",
      "text/plain": [
       "<Figure size 432x288 with 1 Axes>"
      ]
     },
     "metadata": {
      "needs_background": "light"
     },
     "output_type": "display_data"
    }
   ],
   "source": [
    "plt.hist(Frecuencias,density=True)"
   ]
  },
  {
   "cell_type": "code",
   "execution_count": 31,
   "id": "106b29ba",
   "metadata": {},
   "outputs": [
    {
     "name": "stdout",
     "output_type": "stream",
     "text": [
      "444 0.0444 0.375\n"
     ]
    }
   ],
   "source": [
    "ii = np.where( Frecuencias == 2)\n",
    "Events = len(Frecuencias[ii])\n",
    "print(Events, Events/N, 3/8)"
   ]
  },
  {
   "cell_type": "markdown",
   "id": "ec229e7c",
   "metadata": {},
   "source": [
    "# Histograma"
   ]
  },
  {
   "cell_type": "code",
   "execution_count": 34,
   "id": "d550c758",
   "metadata": {},
   "outputs": [
    {
     "data": {
      "text/plain": [
       "array([ 0.,  1.,  2.,  3.,  4.,  5.,  6.,  7.,  8.,  9., 10., 11.])"
      ]
     },
     "execution_count": 34,
     "metadata": {},
     "output_type": "execute_result"
    }
   ],
   "source": [
    "bins = np.linspace(0,11,12)\n",
    "bins"
   ]
  },
  {
   "cell_type": "code",
   "execution_count": 35,
   "id": "48fc1e9a",
   "metadata": {},
   "outputs": [],
   "source": [
    "H,bines = np.histogram(Frecuencias,bins=bins)"
   ]
  },
  {
   "cell_type": "code",
   "execution_count": 36,
   "id": "ccdf026d",
   "metadata": {},
   "outputs": [
    {
     "data": {
      "text/plain": [
       "array([   8,   96,  444, 1177, 2030, 2495, 2048, 1164,  443,   87,    8])"
      ]
     },
     "execution_count": 36,
     "metadata": {},
     "output_type": "execute_result"
    }
   ],
   "source": [
    "H"
   ]
  },
  {
   "cell_type": "code",
   "execution_count": 37,
   "id": "16ef54c9",
   "metadata": {},
   "outputs": [],
   "source": [
    "HNorm = H / np.sum(H)"
   ]
  },
  {
   "cell_type": "code",
   "execution_count": 38,
   "id": "a65ab5a3",
   "metadata": {},
   "outputs": [
    {
     "data": {
      "text/plain": [
       "array([0.0008, 0.0096, 0.0444, 0.1177, 0.203 , 0.2495, 0.2048, 0.1164,\n",
       "       0.0443, 0.0087, 0.0008])"
      ]
     },
     "execution_count": 38,
     "metadata": {},
     "output_type": "execute_result"
    }
   ],
   "source": [
    "HNorm"
   ]
  },
  {
   "cell_type": "code",
   "execution_count": 41,
   "id": "1fd21b43",
   "metadata": {},
   "outputs": [
    {
     "data": {
      "text/plain": [
       "4.995299999999999"
      ]
     },
     "execution_count": 41,
     "metadata": {},
     "output_type": "execute_result"
    }
   ],
   "source": [
    "E = np.sum(bins[:-1]*HNorm)\n",
    "E"
   ]
  },
  {
   "cell_type": "code",
   "execution_count": 42,
   "id": "e572254e",
   "metadata": {},
   "outputs": [
    {
     "data": {
      "text/plain": [
       "2.47527791"
      ]
     },
     "execution_count": 42,
     "metadata": {},
     "output_type": "execute_result"
    }
   ],
   "source": [
    "Var = np.sum(  (bins[:-1]-E)**2*HNorm  )\n",
    "Var"
   ]
  },
  {
   "cell_type": "code",
   "execution_count": null,
   "id": "f53dd571",
   "metadata": {},
   "outputs": [],
   "source": []
  }
 ],
 "metadata": {
  "kernelspec": {
   "display_name": "Python 3 (ipykernel)",
   "language": "python",
   "name": "python3"
  },
  "language_info": {
   "codemirror_mode": {
    "name": "ipython",
    "version": 3
   },
   "file_extension": ".py",
   "mimetype": "text/x-python",
   "name": "python",
   "nbconvert_exporter": "python",
   "pygments_lexer": "ipython3",
   "version": "3.9.12"
  }
 },
 "nbformat": 4,
 "nbformat_minor": 5
}
