{
 "cells": [
  {
   "cell_type": "code",
   "execution_count": 1,
   "id": "b68e13ce",
   "metadata": {},
   "outputs": [],
   "source": [
    "import numpy as np\n",
    "import matplotlib.pyplot as plt"
   ]
  },
  {
   "cell_type": "code",
   "execution_count": 2,
   "id": "9c0c1a64",
   "metadata": {},
   "outputs": [],
   "source": [
    "def GetSample(N = int(1e4), ncoins=3, weights=None):\n",
    "    \n",
    "    Sample = np.zeros((N,ncoins))\n",
    "    \n",
    "    Events = [0,1]\n",
    "    \n",
    "    for i in range(N):\n",
    "        \n",
    "        if weights == None:\n",
    "            Exp = np.random.choice( Events, ncoins )\n",
    "        else:\n",
    "            Exp = np.random.choice( Events, ncoins, p= weights )\n",
    "            \n",
    "        \n",
    "        Sample[i] = Exp\n",
    "        \n",
    "    return Sample"
   ]
  },
  {
   "cell_type": "code",
   "execution_count": 28,
   "id": "a18d22b2",
   "metadata": {},
   "outputs": [],
   "source": [
    "N = 10000\n",
    "ncoins = 10\n",
    "Sample = GetSample(N,ncoins=ncoins,weights=[0.5,0.5])"
   ]
  },
  {
   "cell_type": "code",
   "execution_count": 23,
   "id": "9fc9d046",
   "metadata": {},
   "outputs": [
    {
     "data": {
      "text/plain": [
       "array([[1., 0., 1., ..., 0., 1., 1.],\n",
       "       [0., 1., 1., ..., 1., 1., 0.],\n",
       "       [0., 0., 1., ..., 0., 1., 1.],\n",
       "       ...,\n",
       "       [0., 1., 0., ..., 0., 1., 0.],\n",
       "       [0., 1., 1., ..., 1., 1., 1.],\n",
       "       [1., 1., 1., ..., 1., 0., 1.]])"
      ]
     },
     "execution_count": 23,
     "metadata": {},
     "output_type": "execute_result"
    }
   ],
   "source": [
    "Sample"
   ]
  },
  {
   "cell_type": "code",
   "execution_count": 24,
   "id": "711a104c",
   "metadata": {},
   "outputs": [],
   "source": [
    "Frecuencias = np.array([], dtype = np.int64)\n",
    "\n",
    "for i in range(Sample.shape[0]):\n",
    "    \n",
    "    NCaras  = 0\n",
    "    \n",
    "    for j in range(Sample.shape[1]):\n",
    "        \n",
    "        if Sample[i,j] == 0:\n",
    "            NCaras += 1 \n",
    "            \n",
    "    Frecuencias = np.append(Frecuencias,NCaras)"
   ]
  },
  {
   "cell_type": "code",
   "execution_count": 25,
   "id": "a89d17cd",
   "metadata": {},
   "outputs": [
    {
     "data": {
      "text/plain": [
       "array([5, 5, 6, ..., 5, 3, 4])"
      ]
     },
     "execution_count": 25,
     "metadata": {},
     "output_type": "execute_result"
    }
   ],
   "source": [
    "Frecuencias"
   ]
  },
  {
   "cell_type": "markdown",
   "id": "6251c8d2",
   "metadata": {},
   "source": [
    "# Calculamos probabilidad"
   ]
  },
  {
   "cell_type": "code",
   "execution_count": 30,
   "id": "651a220f",
   "metadata": {},
   "outputs": [
    {
     "name": "stdout",
     "output_type": "stream",
     "text": [
      "466 0.0466 0.375\n"
     ]
    }
   ],
   "source": [
    "ii = np.where( Frecuencias == 2)\n",
    "Events = len(Frecuencias[ii])\n",
    "print(Events, Events/N, 3/8)"
   ]
  },
  {
   "cell_type": "markdown",
   "id": "5c0589ee",
   "metadata": {},
   "source": [
    "# Histograma"
   ]
  },
  {
   "cell_type": "code",
   "execution_count": 31,
   "id": "242c1bf3",
   "metadata": {},
   "outputs": [
    {
     "data": {
      "text/plain": [
       "array([ 0.,  1.,  2.,  3.,  4.,  5.,  6.,  7.,  8.,  9., 10., 11.])"
      ]
     },
     "execution_count": 31,
     "metadata": {},
     "output_type": "execute_result"
    }
   ],
   "source": [
    "bins = np.linspace(0,ncoins+1,ncoins+2)\n",
    "bins"
   ]
  },
  {
   "cell_type": "code",
   "execution_count": 32,
   "id": "394caeca",
   "metadata": {},
   "outputs": [],
   "source": [
    "H,bines = np.histogram(Frecuencias,bins=bins)\n",
    "w = np.diff(bines)\n",
    "# Marcas de clase\n",
    "m = bines[:-1]"
   ]
  },
  {
   "cell_type": "code",
   "execution_count": 33,
   "id": "a9a87f60",
   "metadata": {},
   "outputs": [
    {
     "data": {
      "text/plain": [
       "array([   4,  106,  466, 1197, 1990, 2455, 2017, 1160,  498,   91,   16])"
      ]
     },
     "execution_count": 33,
     "metadata": {},
     "output_type": "execute_result"
    }
   ],
   "source": [
    "H"
   ]
  },
  {
   "cell_type": "code",
   "execution_count": 34,
   "id": "e9bac522",
   "metadata": {},
   "outputs": [],
   "source": [
    "HNorm = H / np.sum(H*w)"
   ]
  },
  {
   "cell_type": "code",
   "execution_count": 35,
   "id": "2a4f8380",
   "metadata": {},
   "outputs": [
    {
     "data": {
      "text/plain": [
       "array([0.0004, 0.0106, 0.0466, 0.1197, 0.199 , 0.2455, 0.2017, 0.116 ,\n",
       "       0.0498, 0.0091, 0.0016])"
      ]
     },
     "execution_count": 35,
     "metadata": {},
     "output_type": "execute_result"
    }
   ],
   "source": [
    "HNorm"
   ]
  },
  {
   "cell_type": "code",
   "execution_count": 36,
   "id": "6c1c15be",
   "metadata": {},
   "outputs": [
    {
     "data": {
      "text/plain": [
       "array([ 0.,  1.,  2.,  3.,  4.,  5.,  6.,  7.,  8.,  9., 10.])"
      ]
     },
     "execution_count": 36,
     "metadata": {},
     "output_type": "execute_result"
    }
   ],
   "source": [
    "m"
   ]
  },
  {
   "cell_type": "code",
   "execution_count": 37,
   "id": "5b978e28",
   "metadata": {},
   "outputs": [
    {
     "data": {
      "text/plain": [
       "<BarContainer object of 11 artists>"
      ]
     },
     "execution_count": 37,
     "metadata": {},
     "output_type": "execute_result"
    },
    {
     "data": {
      "image/png": "[encoded data removed]",
      "text/plain": [
       "<Figure size 432x288 with 1 Axes>"
      ]
     },
     "metadata": {
      "needs_background": "light"
     },
     "output_type": "display_data"
    }
   ],
   "source": [
    "plt.bar(m,HNorm,width=w,ec='k')"
   ]
  },
  {
   "cell_type": "code",
   "execution_count": 38,
   "id": "641e7306",
   "metadata": {},
   "outputs": [
    {
     "data": {
      "text/plain": [
       "5.0049"
      ]
     },
     "execution_count": 38,
     "metadata": {},
     "output_type": "execute_result"
    }
   ],
   "source": [
    "# Valor medio\n",
    "xbar = np.sum(m*HNorm)\n",
    "xbar"
   ]
  },
  {
   "cell_type": "code",
   "execution_count": 39,
   "id": "98f85d54",
   "metadata": {},
   "outputs": [
    {
     "data": {
      "text/plain": [
       "2.57627599"
      ]
     },
     "execution_count": 39,
     "metadata": {},
     "output_type": "execute_result"
    }
   ],
   "source": [
    "# Varianza\n",
    "Var = np.sum( (m-xbar)**2*HNorm  )\n",
    "Var"
   ]
  },
  {
   "cell_type": "code",
   "execution_count": 40,
   "id": "fe49464d",
   "metadata": {},
   "outputs": [
    {
     "data": {
      "text/plain": [
       "1.605078188126672"
      ]
     },
     "execution_count": 40,
     "metadata": {},
     "output_type": "execute_result"
    }
   ],
   "source": [
    "# Desviacion estandar\n",
    "std = np.sqrt(Var)\n",
    "std"
   ]
  },
  {
   "cell_type": "code",
   "execution_count": 41,
   "id": "64db2965",
   "metadata": {},
   "outputs": [],
   "source": [
    "# Tercer momento\n",
    "x3 = np.sum( (m-xbar)**3 * HNorm ) "
   ]
  },
  {
   "cell_type": "code",
   "execution_count": 42,
   "id": "63d2f9d9",
   "metadata": {},
   "outputs": [
    {
     "data": {
      "text/plain": [
       "0.01828932288759043"
      ]
     },
     "execution_count": 42,
     "metadata": {},
     "output_type": "execute_result"
    }
   ],
   "source": [
    "# Coeficiente de asimetria de Fisher\n",
    "gamma = x3/std**3\n",
    "gamma"
   ]
  },
  {
   "cell_type": "code",
   "execution_count": 43,
   "id": "7bdf108d",
   "metadata": {},
   "outputs": [
    {
     "data": {
      "text/plain": [
       "18.27164654004856"
      ]
     },
     "execution_count": 43,
     "metadata": {},
     "output_type": "execute_result"
    }
   ],
   "source": [
    "#Curtosis\n",
    "x4 = np.sum( (m-xbar)**4 * HNorm ) \n",
    "x4"
   ]
  },
  {
   "cell_type": "code",
   "execution_count": 44,
   "id": "619f3ee0",
   "metadata": {},
   "outputs": [
    {
     "data": {
      "text/plain": [
       "-0.2470842960647226"
      ]
     },
     "execution_count": 44,
     "metadata": {},
     "output_type": "execute_result"
    }
   ],
   "source": [
    "# Coeficiente de Curtosis\n",
    "gamma2 = x4/std**4 - 3\n",
    "gamma2"
   ]
  },
  {
   "cell_type": "code",
   "execution_count": null,
   "id": "c6ccbd3f",
   "metadata": {},
   "outputs": [],
   "source": []
  }
 ],
 "metadata": {
  "kernelspec": {
   "display_name": "Python 3 (ipykernel)",
   "language": "python",
   "name": "python3"
  },
  "language_info": {
   "codemirror_mode": {
    "name": "ipython",
    "version": 3
   },
   "file_extension": ".py",
   "mimetype": "text/x-python",
   "name": "python",
   "nbconvert_exporter": "python",
   "pygments_lexer": "ipython3",
   "version": "3.9.12"
  }
 },
 "nbformat": 4,
 "nbformat_minor": 5
}
