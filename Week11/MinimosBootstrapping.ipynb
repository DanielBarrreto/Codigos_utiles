{
 "cells": [
  {
   "cell_type": "code",
   "execution_count": 1,
   "id": "7f450a75",
   "metadata": {},
   "outputs": [
    {
     "data": {
      "text/html": [
       "<style>.container { width:90% !important; }</style>"
      ],
      "text/plain": [
       "<IPython.core.display.HTML object>"
      ]
     },
     "metadata": {},
     "output_type": "display_data"
    }
   ],
   "source": [
    "#%matplotlib notebook\n",
    "from IPython.display import display, HTML\n",
    "display(HTML(\"<style>.container { width:90% !important; }</style>\"))\n",
    "\n",
    "import numpy as np\n",
    "import matplotlib.pyplot as plt\n",
    "import sympy as sym\n",
    "\n",
    "from scipy.stats import norm\n",
    "from scipy.stats import t\n",
    "from scipy.stats import chi2\n",
    "\n",
    "from scipy import integrate\n",
    "\n",
    "import os\n",
    "import os.path as path\n",
    "import wget\n",
    "\n",
    "from tqdm import tqdm\n",
    "import corner"
   ]
  },
  {
   "cell_type": "code",
   "execution_count": 2,
   "id": "b95883d0",
   "metadata": {},
   "outputs": [],
   "source": [
    "sample = np.array([0.974,0.950,0.932,1.104,1.038,0.920,0.935,0.907,0.810,0.915])"
   ]
  },
  {
   "cell_type": "code",
   "execution_count": 3,
   "id": "7a54b29f",
   "metadata": {},
   "outputs": [
    {
     "data": {
      "text/plain": [
       "0.9484999999999999"
      ]
     },
     "execution_count": 3,
     "metadata": {},
     "output_type": "execute_result"
    }
   ],
   "source": [
    "np.mean(sample)"
   ]
  },
  {
   "cell_type": "code",
   "execution_count": 4,
   "id": "60fbf1fb",
   "metadata": {},
   "outputs": [],
   "source": [
    "def Resample(sample):\n",
    "    \n",
    "    resample_ = np.random.choice( sample, size=len(sample), replace=True )\n",
    "    return resample_\n",
    "    "
   ]
  },
  {
   "cell_type": "code",
   "execution_count": 5,
   "id": "8de90bc0",
   "metadata": {},
   "outputs": [
    {
     "data": {
      "text/plain": [
       "0.9836"
      ]
     },
     "execution_count": 5,
     "metadata": {},
     "output_type": "execute_result"
    }
   ],
   "source": [
    "np.mean(Resample(sample))"
   ]
  },
  {
   "cell_type": "code",
   "execution_count": 6,
   "id": "6c6eca2e",
   "metadata": {},
   "outputs": [],
   "source": [
    "def Bootstrapping(sample, N = int(1e5)):\n",
    "    \n",
    "    Mean_Dist = np.zeros( N )\n",
    "    \n",
    "    for i in tqdm(range(N)):\n",
    "        resample_ = Resample(sample)\n",
    "        Mean_Dist[i] = np.mean(resample_)\n",
    "        \n",
    "    return Mean_Dist"
   ]
  },
  {
   "cell_type": "code",
   "execution_count": 7,
   "id": "d83fe3fc",
   "metadata": {},
   "outputs": [
    {
     "name": "stderr",
     "output_type": "stream",
     "text": [
      "100%|████████████████████████████████████████████████████| 100000/100000 [00:09<00:00, 10657.80it/s]\n"
     ]
    }
   ],
   "source": [
    "Mean_Dist = Bootstrapping(sample)"
   ]
  },
  {
   "cell_type": "code",
   "execution_count": null,
   "id": "9f07387c",
   "metadata": {},
   "outputs": [],
   "source": []
  },
  {
   "cell_type": "code",
   "execution_count": 22,
   "id": "0ca7c3a3",
   "metadata": {},
   "outputs": [
    {
     "name": "stdout",
     "output_type": "stream",
     "text": [
      "0.9484999999999999 0.02378585056572575\n"
     ]
    }
   ],
   "source": [
    "# Parametros de la distribucion\n",
    "N = len(Mean_Dist)\n",
    "xbar = np.mean(sample)\n",
    "#xbar = np.percentile(Mean_Dist,50)\n",
    "std = np.std(Mean_Dist)\n",
    "print(xbar,std)"
   ]
  },
  {
   "cell_type": "code",
   "execution_count": 23,
   "id": "1a3121ab",
   "metadata": {},
   "outputs": [],
   "source": [
    "def Gaussian(x,mu,sigma): # Luego será el Likelihood\n",
    "    \n",
    "    return np.exp( -(x-mu)**2/(2*sigma**2) )/np.sqrt(2*np.pi*sigma**2)"
   ]
  },
  {
   "cell_type": "code",
   "execution_count": 24,
   "id": "77d18a24",
   "metadata": {},
   "outputs": [],
   "source": [
    "x = np.linspace(np.min(sample),np.max(sample),100)\n",
    "y = Gaussian(x,xbar,std)"
   ]
  },
  {
   "cell_type": "code",
   "execution_count": 25,
   "id": "b61b1309",
   "metadata": {},
   "outputs": [
    {
     "data": {
      "text/plain": [
       "<matplotlib.lines.Line2D at 0x7f9157591310>"
      ]
     },
     "execution_count": 25,
     "metadata": {},
     "output_type": "execute_result"
    },
    {
     "data": {
      "image/png": "[encoded data removed]",
      "text/plain": [
       "<Figure size 432x288 with 1 Axes>"
      ]
     },
     "metadata": {
      "needs_background": "light"
     },
     "output_type": "display_data"
    }
   ],
   "source": [
    "plt.hist(Mean_Dist,bins=np.arange(np.min(sample),np.max(sample),0.01),density=True)\n",
    "plt.plot(x,y,color='r')\n",
    "plt.axvline(x=1,color='k')"
   ]
  },
  {
   "cell_type": "code",
   "execution_count": 12,
   "id": "58e2e88f",
   "metadata": {},
   "outputs": [
    {
     "name": "stdout",
     "output_type": "stream",
     "text": [
      "0.015187994334378025\n"
     ]
    }
   ],
   "source": [
    "#probabilidad de obtener usando el modelo de probabilidad\n",
    "I = integrate.quad(Gaussian,1.,np.inf,args=(xbar,std))[0]\n",
    "print(I)"
   ]
  },
  {
   "cell_type": "code",
   "execution_count": 13,
   "id": "d27a7ea4",
   "metadata": {},
   "outputs": [
    {
     "name": "stdout",
     "output_type": "stream",
     "text": [
      "0.018519257\n"
     ]
    }
   ],
   "source": [
    "# Usando los datos los eventos donde la media es igual o mayor a 1.\n",
    "datasort = np.sort(Mean_Dist)\n",
    "\n",
    "ii = np.where( datasort >= 1. )\n",
    "\n",
    "EventosFavorables = np.sum( datasort[ii] )\n",
    "\n",
    "frecuencia_relativa = EventosFavorables/N\n",
    "print(frecuencia_relativa)"
   ]
  },
  {
   "cell_type": "code",
   "execution_count": 29,
   "id": "6aaebf67",
   "metadata": {},
   "outputs": [
    {
     "name": "stdout",
     "output_type": "stream",
     "text": [
      "\r",
      "  0% [                                                                                  ]   0 / 521\r",
      "100% [..................................................................................] 521 / 521"
     ]
    }
   ],
   "source": [
    "if not path.exists('Data'):\n",
    "    os.mkdir('Data')\n",
    "    \n",
    "file = 'Data/Minimos.dat' \n",
    "\n",
    "#url = 'https://raw.githubusercontent.com/asegura4488/Database/main/MetodosComputacionalesReforma/MinimosLineal.txt'\n",
    "url = 'https://raw.githubusercontent.com/asegura4488/Database/main/MetodosComputacionalesReforma/MinimosCuadratico.txt'\n",
    "\n",
    "if not path.exists(file):\n",
    "    Path_ = wget.download(url,file)\n",
    "else:\n",
    "    Path_ = file"
   ]
  },
  {
   "cell_type": "code",
   "execution_count": 30,
   "id": "86b64c2f",
   "metadata": {},
   "outputs": [
    {
     "name": "stdout",
     "output_type": "stream",
     "text": [
      "20\n"
     ]
    }
   ],
   "source": [
    "data = np.loadtxt(Path_)\n",
    "x = data[:,0]\n",
    "y = data[:,1]\n",
    "N = len(x)\n",
    "sigma = np.random.uniform(0,0.2,N)\n",
    "sigma\n",
    "print(N)"
   ]
  },
  {
   "cell_type": "code",
   "execution_count": 31,
   "id": "21cf04d4",
   "metadata": {},
   "outputs": [
    {
     "data": {
      "text/plain": [
       "<ErrorbarContainer object of 3 artists>"
      ]
     },
     "execution_count": 31,
     "metadata": {},
     "output_type": "execute_result"
    },
    {
     "data": {
      "image/png": "[encoded data removed]",
      "text/plain": [
       "<Figure size 432x288 with 1 Axes>"
      ]
     },
     "metadata": {
      "needs_background": "light"
     },
     "output_type": "display_data"
    }
   ],
   "source": [
    "plt.errorbar(x,y,yerr=sigma,fmt='o')"
   ]
  },
  {
   "cell_type": "code",
   "execution_count": 32,
   "id": "e07a7bc1",
   "metadata": {},
   "outputs": [],
   "source": [
    "def GetFit(x,y,n=2):\n",
    "    \n",
    "    l = x.shape[0]\n",
    "    b = y\n",
    "    \n",
    "    A = np.ones((l,n+1))\n",
    "    \n",
    "    for i in range(1,n+1):\n",
    "        A[:,i] = x**i\n",
    "        \n",
    "    AT = np.dot(A.T,A)\n",
    "    bT = np.dot(A.T,b)\n",
    "    \n",
    "    xsol = np.linalg.solve(AT,bT)\n",
    "    \n",
    "    return xsol"
   ]
  },
  {
   "cell_type": "code",
   "execution_count": 34,
   "id": "b78d04d8",
   "metadata": {},
   "outputs": [
    {
     "data": {
      "text/plain": [
       "array([1.22132054, 6.09075205, 2.9565874 ])"
      ]
     },
     "execution_count": 34,
     "metadata": {},
     "output_type": "execute_result"
    }
   ],
   "source": [
    "n = 2\n",
    "param = GetFit(x,y,n)\n",
    "param"
   ]
  },
  {
   "cell_type": "code",
   "execution_count": 35,
   "id": "81fe6933",
   "metadata": {},
   "outputs": [],
   "source": [
    "def GetModel(x,p):\n",
    "    \n",
    "    y = 0\n",
    "    for n in range(len(p)):\n",
    "        y += p[n]*x**n\n",
    "        \n",
    "    return y"
   ]
  },
  {
   "cell_type": "code",
   "execution_count": 36,
   "id": "eb47726e",
   "metadata": {},
   "outputs": [
    {
     "data": {
      "text/latex": [
       "$\\displaystyle 2.95658740177385 x^{2} + 6.0907520463624 x + 1.2213205361703$"
      ],
      "text/plain": [
       "2.95658740177385*x**2 + 6.0907520463624*x + 1.2213205361703"
      ]
     },
     "execution_count": 36,
     "metadata": {},
     "output_type": "execute_result"
    }
   ],
   "source": [
    "X = sym.Symbol('x',real=True)\n",
    "GetModel(X,param)"
   ]
  },
  {
   "cell_type": "code",
   "execution_count": 37,
   "id": "bb3ddb54",
   "metadata": {},
   "outputs": [
    {
     "data": {
      "text/plain": [
       "[<matplotlib.lines.Line2D at 0x7f9157365bb0>]"
      ]
     },
     "execution_count": 37,
     "metadata": {},
     "output_type": "execute_result"
    },
    {
     "data": {
      "image/png": "[encoded data removed]",
      "text/plain": [
       "<Figure size 432x288 with 1 Axes>"
      ]
     },
     "metadata": {
      "needs_background": "light"
     },
     "output_type": "display_data"
    }
   ],
   "source": [
    "_x = np.linspace(np.min(x),np.max(x),50)\n",
    "\n",
    "_y = GetModel(_x,param)\n",
    "\n",
    "plt.errorbar(x,y,yerr=sigma,fmt='o')\n",
    "plt.plot(_x,_y,color='r')"
   ]
  },
  {
   "cell_type": "markdown",
   "id": "de1df596",
   "metadata": {},
   "source": [
    "# Bootstrapping (Bradley Efron 1979)"
   ]
  },
  {
   "cell_type": "code",
   "execution_count": 38,
   "id": "4043b22d",
   "metadata": {},
   "outputs": [
    {
     "data": {
      "text/plain": [
       "{0.0: -3.348886,\n",
       " 0.5263158: 10.779,\n",
       " 1.052632: 13.12721,\n",
       " 1.578947: 21.20879,\n",
       " 2.105263: 20.63223,\n",
       " 2.631579: 34.11089,\n",
       " 3.157895: 60.66644,\n",
       " 3.684211: 55.07888,\n",
       " 4.210526: 81.89598,\n",
       " 4.736842: 96.83438,\n",
       " 5.263158: 117.5549,\n",
       " 5.789474: 130.5394,\n",
       " 6.315789: 147.7079,\n",
       " 6.842105: 185.1728,\n",
       " 7.368421: 210.7779,\n",
       " 7.894737: 235.0856,\n",
       " 8.421053: 266.336,\n",
       " 8.947368: 297.0943,\n",
       " 9.473684: 322.7923,\n",
       " 10.0: 352.3838}"
      ]
     },
     "execution_count": 38,
     "metadata": {},
     "output_type": "execute_result"
    }
   ],
   "source": [
    "dict1 = dict(zip(x,y))\n",
    "dict1"
   ]
  },
  {
   "cell_type": "code",
   "execution_count": 46,
   "id": "d37bc79a",
   "metadata": {},
   "outputs": [],
   "source": [
    "def GetBootstrapping(x,n=2,NTrials=int(3e4)):\n",
    "    \n",
    "    Values = np.zeros((NTrials,n+1))\n",
    "    \n",
    "    #print(Values)\n",
    "    \n",
    "    for i in tqdm(range(NTrials)):\n",
    "        \n",
    "        x1 = Resample(x)\n",
    "        \n",
    "        y1 = np.array([])\n",
    "        for j in x1:\n",
    "            y1 = np.append(y1,dict1[j])\n",
    "            \n",
    "        p = GetFit(x1,y1,n)\n",
    "        \n",
    "        Values[i] = p\n",
    "        \n",
    "    return Values"
   ]
  },
  {
   "cell_type": "code",
   "execution_count": 62,
   "id": "baf76ea0",
   "metadata": {},
   "outputs": [
    {
     "name": "stderr",
     "output_type": "stream",
     "text": [
      "100%|███████████████████████████████████████████████████████| 30000/30000 [00:17<00:00, 1721.90it/s]\n"
     ]
    }
   ],
   "source": [
    "Mean_Dist = GetBootstrapping(x,n=2)"
   ]
  },
  {
   "cell_type": "code",
   "execution_count": 58,
   "id": "54338ee4",
   "metadata": {},
   "outputs": [
    {
     "data": {
      "text/plain": [
       "(array([1.000e+00, 0.000e+00, 0.000e+00, 0.000e+00, 3.000e+00, 3.000e+00,\n",
       "        3.000e+00, 6.000e+00, 7.000e+00, 2.900e+01, 2.210e+02, 1.433e+03,\n",
       "        3.261e+03, 6.735e+03, 8.200e+03, 5.669e+03, 2.595e+03, 1.125e+03,\n",
       "        4.090e+02, 1.880e+02, 6.700e+01, 3.000e+01, 9.000e+00, 2.000e+00,\n",
       "        3.000e+00, 0.000e+00, 0.000e+00, 0.000e+00, 0.000e+00, 1.000e+00]),\n",
       " array([-0.76920134, -0.71798314, -0.66676494, -0.61554674, -0.56432854,\n",
       "        -0.51311034, -0.46189214, -0.41067394, -0.35945574, -0.30823754,\n",
       "        -0.25701934, -0.20580113, -0.15458293, -0.10336473, -0.05214653,\n",
       "        -0.00092833,  0.05028987,  0.10150807,  0.15272627,  0.20394447,\n",
       "         0.25516267,  0.30638087,  0.35759907,  0.40881727,  0.46003547,\n",
       "         0.51125367,  0.56247187,  0.61369007,  0.66490827,  0.71612647,\n",
       "         0.76734467]),\n",
       " <BarContainer object of 30 artists>)"
      ]
     },
     "execution_count": 58,
     "metadata": {},
     "output_type": "execute_result"
    },
    {
     "data": {
      "image/png": "[encoded data removed]",
      "text/plain": [
       "<Figure size 432x288 with 1 Axes>"
      ]
     },
     "metadata": {
      "needs_background": "light"
     },
     "output_type": "display_data"
    }
   ],
   "source": [
    "plt.hist(Mean_Dist[:,3],bins=30)"
   ]
  },
  {
   "cell_type": "code",
   "execution_count": 65,
   "id": "fd9316fa",
   "metadata": {},
   "outputs": [
    {
     "data": {
      "text/plain": [
       "array([1.42326207, 5.96725778, 2.96973632])"
      ]
     },
     "execution_count": 65,
     "metadata": {},
     "output_type": "execute_result"
    }
   ],
   "source": [
    "params = np.percentile(Mean_Dist,50,axis=0)\n",
    "params"
   ]
  },
  {
   "cell_type": "code",
   "execution_count": 68,
   "id": "3124b536",
   "metadata": {},
   "outputs": [
    {
     "data": {
      "image/png": "[encoded data removed]",
      "text/plain": [
       "<Figure size 576x288 with 3 Axes>"
      ]
     },
     "metadata": {
      "needs_background": "light"
     },
     "output_type": "display_data"
    }
   ],
   "source": [
    "fig, axes = plt.subplots( len(params), figsize=(8,4), sharex=True )\n",
    "labels=[r'$a_{0}$',r'$a_{1}$',r'$a_{2}$']\n",
    "\n",
    "for i in range(len(params)):\n",
    "    \n",
    "    ax = axes[i]\n",
    "    ax.plot(Mean_Dist[:,i],'k',alpha=0.8)\n",
    "    ax.set_ylabel(labels[i])\n",
    "    \n",
    "axes[-1].set_label('Step numer')"
   ]
  },
  {
   "cell_type": "code",
   "execution_count": 73,
   "id": "e1787010",
   "metadata": {},
   "outputs": [
    {
     "data": {
      "image/png": "[encoded data removed]",
      "text/plain": [
       "<Figure size 547.2x547.2 with 9 Axes>"
      ]
     },
     "metadata": {
      "needs_background": "light"
     },
     "output_type": "display_data"
    }
   ],
   "source": [
    "truths = params\n",
    "figure = corner.corner( Mean_Dist, truths = truths, labels = labels, quantiles = [0.16,0.50,0.84], show_titles=True )"
   ]
  },
  {
   "cell_type": "code",
   "execution_count": null,
   "id": "68d7c084",
   "metadata": {},
   "outputs": [],
   "source": []
  }
 ],
 "metadata": {
  "kernelspec": {
   "display_name": "Python 3 (ipykernel)",
   "language": "python",
   "name": "python3"
  },
  "language_info": {
   "codemirror_mode": {
    "name": "ipython",
    "version": 3
   },
   "file_extension": ".py",
   "mimetype": "text/x-python",
   "name": "python",
   "nbconvert_exporter": "python",
   "pygments_lexer": "ipython3",
   "version": "3.9.12"
  }
 },
 "nbformat": 4,
 "nbformat_minor": 5
}
