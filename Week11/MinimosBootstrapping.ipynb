{
 "cells": [
  {
   "cell_type": "code",
   "execution_count": 1,
   "id": "7f450a75",
   "metadata": {},
   "outputs": [
    {
     "data": {
      "text/html": [
       "<style>.container { width:90% !important; }</style>"
      ],
      "text/plain": [
       "<IPython.core.display.HTML object>"
      ]
     },
     "metadata": {},
     "output_type": "display_data"
    }
   ],
   "source": [
    "#%matplotlib notebook\n",
    "from IPython.display import display, HTML\n",
    "display(HTML(\"<style>.container { width:90% !important; }</style>\"))\n",
    "\n",
    "import numpy as np\n",
    "import matplotlib.pyplot as plt\n",
    "import sympy as sym\n",
    "\n",
    "from scipy.stats import norm\n",
    "from scipy.stats import t\n",
    "from scipy.stats import chi2\n",
    "\n",
    "from scipy import integrate\n",
    "\n",
    "import os\n",
    "import os.path as path\n",
    "import wget\n",
    "\n",
    "from tqdm import tqdm\n",
    "import corner"
   ]
  },
  {
   "cell_type": "code",
   "execution_count": 2,
   "id": "b95883d0",
   "metadata": {},
   "outputs": [],
   "source": [
    "sample = np.array([0.974,0.950,0.932,1.104,1.038,0.920,0.935,0.907,0.810,0.915])"
   ]
  },
  {
   "cell_type": "code",
   "execution_count": 3,
   "id": "7a54b29f",
   "metadata": {},
   "outputs": [
    {
     "data": {
      "text/plain": [
       "0.9484999999999999"
      ]
     },
     "execution_count": 3,
     "metadata": {},
     "output_type": "execute_result"
    }
   ],
   "source": [
    "np.mean(sample)"
   ]
  },
  {
   "cell_type": "code",
   "execution_count": 4,
   "id": "60fbf1fb",
   "metadata": {},
   "outputs": [],
   "source": [
    "def Resample(sample):\n",
    "    \n",
    "    resample_ = np.random.choice( sample, size=len(sample), replace=True )\n",
    "    return resample_\n",
    "    "
   ]
  },
  {
   "cell_type": "code",
   "execution_count": 5,
   "id": "8de90bc0",
   "metadata": {},
   "outputs": [
    {
     "data": {
      "text/plain": [
       "0.9169"
      ]
     },
     "execution_count": 5,
     "metadata": {},
     "output_type": "execute_result"
    }
   ],
   "source": [
    "np.mean(Resample(sample))"
   ]
  },
  {
   "cell_type": "code",
   "execution_count": 6,
   "id": "6c6eca2e",
   "metadata": {},
   "outputs": [],
   "source": [
    "def Bootstrapping(sample, N = int(1e5)):\n",
    "    \n",
    "    Mean_Dist = np.zeros( N )\n",
    "    \n",
    "    for i in tqdm(range(N)):\n",
    "        resample_ = Resample(sample)\n",
    "        Mean_Dist[i] = np.mean(resample_)\n",
    "        \n",
    "    return Mean_Dist"
   ]
  },
  {
   "cell_type": "code",
   "execution_count": 7,
   "id": "d83fe3fc",
   "metadata": {},
   "outputs": [
    {
     "name": "stderr",
     "output_type": "stream",
     "text": [
      "100%|████████████████████████████████████████████████████| 100000/100000 [00:06<00:00, 15604.60it/s]\n"
     ]
    }
   ],
   "source": [
    "Mean_Dist = Bootstrapping(sample)"
   ]
  },
  {
   "cell_type": "code",
   "execution_count": null,
   "id": "9f07387c",
   "metadata": {},
   "outputs": [],
   "source": []
  },
  {
   "cell_type": "code",
   "execution_count": 8,
   "id": "0ca7c3a3",
   "metadata": {},
   "outputs": [
    {
     "name": "stdout",
     "output_type": "stream",
     "text": [
      "0.9484999999999999 0.023634467473429056\n"
     ]
    }
   ],
   "source": [
    "# Parametros de la distribucion\n",
    "N = len(Mean_Dist)\n",
    "xbar = np.mean(sample)\n",
    "#xbar = np.percentile(Mean_Dist,50)\n",
    "std = np.std(Mean_Dist)\n",
    "print(xbar,std)"
   ]
  },
  {
   "cell_type": "code",
   "execution_count": 9,
   "id": "1a3121ab",
   "metadata": {},
   "outputs": [],
   "source": [
    "def Gaussian(x,mu,sigma): # Luego será el Likelihood\n",
    "    \n",
    "    return np.exp( -(x-mu)**2/(2*sigma**2) )/np.sqrt(2*np.pi*sigma**2)"
   ]
  },
  {
   "cell_type": "code",
   "execution_count": 10,
   "id": "77d18a24",
   "metadata": {},
   "outputs": [],
   "source": [
    "x = np.linspace(np.min(sample),np.max(sample),100)\n",
    "y = Gaussian(x,xbar,std)"
   ]
  },
  {
   "cell_type": "code",
   "execution_count": 11,
   "id": "b61b1309",
   "metadata": {},
   "outputs": [
    {
     "data": {
      "text/plain": [
       "<matplotlib.lines.Line2D at 0x7f9f881fa760>"
      ]
     },
     "execution_count": 11,
     "metadata": {},
     "output_type": "execute_result"
    },
    {
     "data": {
      "image/png": "[encoded data removed]",
      "text/plain": [
       "<Figure size 432x288 with 1 Axes>"
      ]
     },
     "metadata": {
      "needs_background": "light"
     },
     "output_type": "display_data"
    }
   ],
   "source": [
    "plt.hist(Mean_Dist,bins=np.arange(np.min(sample),np.max(sample),0.01),density=True)\n",
    "plt.plot(x,y,color='r')\n",
    "plt.axvline(x=1,color='k')"
   ]
  },
  {
   "cell_type": "code",
   "execution_count": 12,
   "id": "58e2e88f",
   "metadata": {},
   "outputs": [
    {
     "name": "stdout",
     "output_type": "stream",
     "text": [
      "0.014665055596985251\n"
     ]
    }
   ],
   "source": [
    "#probabilidad de obtener usando el modelo de probabilidad\n",
    "I = integrate.quad(Gaussian,1.,np.inf,args=(xbar,std))[0]\n",
    "print(I)"
   ]
  },
  {
   "cell_type": "code",
   "execution_count": 13,
   "id": "d27a7ea4",
   "metadata": {},
   "outputs": [
    {
     "name": "stdout",
     "output_type": "stream",
     "text": [
      "0.018093061000000004\n"
     ]
    }
   ],
   "source": [
    "# Usando los datos los eventos donde la media es igual o mayor a 1.\n",
    "datasort = np.sort(Mean_Dist)\n",
    "\n",
    "ii = np.where( datasort >= 1. )\n",
    "\n",
    "EventosFavorables = np.sum( datasort[ii] )\n",
    "\n",
    "frecuencia_relativa = EventosFavorables/N\n",
    "print(frecuencia_relativa)"
   ]
  },
  {
   "cell_type": "code",
   "execution_count": 14,
   "id": "6aaebf67",
   "metadata": {},
   "outputs": [],
   "source": [
    "if not path.exists('Data'):\n",
    "    os.mkdir('Data')\n",
    "    \n",
    "file = 'Data/Minimos.dat' \n",
    "\n",
    "#url = 'https://raw.githubusercontent.com/asegura4488/Database/main/MetodosComputacionalesReforma/MinimosLineal.txt'\n",
    "url = 'https://raw.githubusercontent.com/asegura4488/Database/main/MetodosComputacionalesReforma/MinimosCuadratico.txt'\n",
    "\n",
    "if not path.exists(file):\n",
    "    Path_ = wget.download(url,file)\n",
    "else:\n",
    "    Path_ = file"
   ]
  },
  {
   "cell_type": "code",
   "execution_count": 15,
   "id": "86b64c2f",
   "metadata": {},
   "outputs": [
    {
     "name": "stdout",
     "output_type": "stream",
     "text": [
      "20\n"
     ]
    }
   ],
   "source": [
    "data = np.loadtxt(Path_)\n",
    "x = data[:,0]\n",
    "y = data[:,1]\n",
    "N = len(x)\n",
    "sigma = np.random.uniform(0,0.2,N)\n",
    "sigma\n",
    "print(N)"
   ]
  },
  {
   "cell_type": "code",
   "execution_count": 16,
   "id": "21cf04d4",
   "metadata": {},
   "outputs": [
    {
     "data": {
      "text/plain": [
       "<ErrorbarContainer object of 3 artists>"
      ]
     },
     "execution_count": 16,
     "metadata": {},
     "output_type": "execute_result"
    },
    {
     "data": {
      "image/png": "[encoded data removed]",
      "text/plain": [
       "<Figure size 432x288 with 1 Axes>"
      ]
     },
     "metadata": {
      "needs_background": "light"
     },
     "output_type": "display_data"
    }
   ],
   "source": [
    "plt.errorbar(x,y,yerr=sigma,fmt='o')"
   ]
  },
  {
   "cell_type": "code",
   "execution_count": 17,
   "id": "e07a7bc1",
   "metadata": {},
   "outputs": [],
   "source": [
    "def GetFit(x,y,n=2):\n",
    "    \n",
    "    l = x.shape[0]\n",
    "    b = y\n",
    "    \n",
    "    A = np.ones((l,n+1))\n",
    "    \n",
    "    for i in range(1,n+1):\n",
    "        A[:,i] = x**i\n",
    "        \n",
    "    AT = np.dot(A.T,A)\n",
    "    bT = np.dot(A.T,b)\n",
    "    \n",
    "    xsol = np.linalg.solve(AT,bT)\n",
    "    \n",
    "    return xsol"
   ]
  },
  {
   "cell_type": "code",
   "execution_count": 18,
   "id": "b78d04d8",
   "metadata": {},
   "outputs": [
    {
     "data": {
      "text/plain": [
       "array([1.22132054, 6.09075205, 2.9565874 ])"
      ]
     },
     "execution_count": 18,
     "metadata": {},
     "output_type": "execute_result"
    }
   ],
   "source": [
    "n = 2\n",
    "param = GetFit(x,y,n)\n",
    "param"
   ]
  },
  {
   "cell_type": "code",
   "execution_count": 19,
   "id": "81fe6933",
   "metadata": {},
   "outputs": [],
   "source": [
    "def GetModel(x,p):\n",
    "    \n",
    "    y = 0\n",
    "    for n in range(len(p)):\n",
    "        y += p[n]*x**n\n",
    "        \n",
    "    return y"
   ]
  },
  {
   "cell_type": "code",
   "execution_count": 20,
   "id": "eb47726e",
   "metadata": {},
   "outputs": [
    {
     "data": {
      "text/latex": [
       "$\\displaystyle 2.95658740177385 x^{2} + 6.0907520463624 x + 1.2213205361703$"
      ],
      "text/plain": [
       "2.95658740177385*x**2 + 6.0907520463624*x + 1.2213205361703"
      ]
     },
     "execution_count": 20,
     "metadata": {},
     "output_type": "execute_result"
    }
   ],
   "source": [
    "X = sym.Symbol('x',real=True)\n",
    "GetModel(X,param)"
   ]
  },
  {
   "cell_type": "code",
   "execution_count": 21,
   "id": "bb3ddb54",
   "metadata": {},
   "outputs": [
    {
     "data": {
      "text/plain": [
       "[<matplotlib.lines.Line2D at 0x7f9f834ed730>]"
      ]
     },
     "execution_count": 21,
     "metadata": {},
     "output_type": "execute_result"
    },
    {
     "data": {
      "image/png": "[encoded data removed]",
      "text/plain": [
       "<Figure size 432x288 with 1 Axes>"
      ]
     },
     "metadata": {
      "needs_background": "light"
     },
     "output_type": "display_data"
    }
   ],
   "source": [
    "_x = np.linspace(np.min(x),np.max(x),50)\n",
    "\n",
    "_y = GetModel(_x,param)\n",
    "\n",
    "plt.errorbar(x,y,yerr=sigma,fmt='o')\n",
    "plt.plot(_x,_y,color='r')"
   ]
  },
  {
   "cell_type": "markdown",
   "id": "de1df596",
   "metadata": {},
   "source": [
    "# Bootstrapping (Bradley Efron 1979)"
   ]
  },
  {
   "cell_type": "code",
   "execution_count": 22,
   "id": "4043b22d",
   "metadata": {},
   "outputs": [
    {
     "data": {
      "text/plain": [
       "{0.0: -3.348886,\n",
       " 0.5263158: 10.779,\n",
       " 1.052632: 13.12721,\n",
       " 1.578947: 21.20879,\n",
       " 2.105263: 20.63223,\n",
       " 2.631579: 34.11089,\n",
       " 3.157895: 60.66644,\n",
       " 3.684211: 55.07888,\n",
       " 4.210526: 81.89598,\n",
       " 4.736842: 96.83438,\n",
       " 5.263158: 117.5549,\n",
       " 5.789474: 130.5394,\n",
       " 6.315789: 147.7079,\n",
       " 6.842105: 185.1728,\n",
       " 7.368421: 210.7779,\n",
       " 7.894737: 235.0856,\n",
       " 8.421053: 266.336,\n",
       " 8.947368: 297.0943,\n",
       " 9.473684: 322.7923,\n",
       " 10.0: 352.3838}"
      ]
     },
     "execution_count": 22,
     "metadata": {},
     "output_type": "execute_result"
    }
   ],
   "source": [
    "dict1 = dict(zip(x,y))\n",
    "dict1"
   ]
  },
  {
   "cell_type": "code",
   "execution_count": 23,
   "id": "d37bc79a",
   "metadata": {},
   "outputs": [],
   "source": [
    "def GetBootstrapping(x,n=2,NTrials=int(3e4)):\n",
    "    \n",
    "    Values = np.zeros((NTrials,n+1))\n",
    "    \n",
    "    #print(Values)\n",
    "    \n",
    "    for i in tqdm(range(NTrials)):\n",
    "        \n",
    "        x1 = Resample(x)\n",
    "        \n",
    "        y1 = np.array([])\n",
    "        for j in x1:\n",
    "            y1 = np.append(y1,dict1[j])\n",
    "            \n",
    "        p = GetFit(x1,y1,n)\n",
    "        \n",
    "        Values[i] = p\n",
    "        \n",
    "    return Values"
   ]
  },
  {
   "cell_type": "code",
   "execution_count": 24,
   "id": "1e51ec14",
   "metadata": {},
   "outputs": [
    {
     "name": "stderr",
     "output_type": "stream",
     "text": [
      "100%|███████████████████████████████████████████████████████| 30000/30000 [00:09<00:00, 3201.90it/s]\n"
     ]
    }
   ],
   "source": [
    "Mean_Dist = GetBootstrapping(x,n=2)"
   ]
  },
  {
   "cell_type": "code",
   "execution_count": 26,
   "id": "9616ca35",
   "metadata": {},
   "outputs": [
    {
     "data": {
      "text/plain": [
       "(array([1.000e+00, 2.000e+00, 3.000e+00, 5.000e+00, 8.000e+00, 2.200e+01,\n",
       "        4.800e+01, 2.720e+02, 9.250e+02, 2.587e+03, 4.497e+03, 5.856e+03,\n",
       "        5.597e+03, 4.227e+03, 2.781e+03, 1.522e+03, 8.500e+02, 4.110e+02,\n",
       "        2.070e+02, 1.060e+02, 4.500e+01, 1.800e+01, 4.000e+00, 1.000e+00,\n",
       "        3.000e+00, 0.000e+00, 1.000e+00, 0.000e+00, 0.000e+00, 1.000e+00]),\n",
       " array([2.04124173, 2.11781809, 2.19439445, 2.2709708 , 2.34754716,\n",
       "        2.42412352, 2.50069988, 2.57727624, 2.6538526 , 2.73042896,\n",
       "        2.80700531, 2.88358167, 2.96015803, 3.03673439, 3.11331075,\n",
       "        3.18988711, 3.26646347, 3.34303982, 3.41961618, 3.49619254,\n",
       "        3.5727689 , 3.64934526, 3.72592162, 3.80249798, 3.87907433,\n",
       "        3.95565069, 4.03222705, 4.10880341, 4.18537977, 4.26195613,\n",
       "        4.33853248]),\n",
       " <BarContainer object of 30 artists>)"
      ]
     },
     "execution_count": 26,
     "metadata": {},
     "output_type": "execute_result"
    },
    {
     "data": {
      "image/png": "[encoded data removed]",
      "text/plain": [
       "<Figure size 432x288 with 1 Axes>"
      ]
     },
     "metadata": {
      "needs_background": "light"
     },
     "output_type": "display_data"
    }
   ],
   "source": [
    "plt.hist(Mean_Dist[:,2],bins=30)"
   ]
  },
  {
   "cell_type": "code",
   "execution_count": 27,
   "id": "2db8096a",
   "metadata": {},
   "outputs": [
    {
     "data": {
      "text/plain": [
       "array([1.41617282, 5.94946607, 2.97016345])"
      ]
     },
     "execution_count": 27,
     "metadata": {},
     "output_type": "execute_result"
    }
   ],
   "source": [
    "params = np.percentile(Mean_Dist,50,axis=0)\n",
    "params"
   ]
  },
  {
   "cell_type": "code",
   "execution_count": 28,
   "id": "9013b516",
   "metadata": {},
   "outputs": [
    {
     "data": {
      "image/png": "[encoded data removed]",
      "text/plain": [
       "<Figure size 576x288 with 3 Axes>"
      ]
     },
     "metadata": {
      "needs_background": "light"
     },
     "output_type": "display_data"
    }
   ],
   "source": [
    "fig, axes = plt.subplots( len(params), figsize=(8,4), sharex=True )\n",
    "labels=[r'$a_{0}$',r'$a_{1}$',r'$a_{2}$',r'$a_{3}$']\n",
    "\n",
    "for i in range(len(params)):\n",
    "    \n",
    "    ax = axes[i]\n",
    "    ax.plot(Mean_Dist[:,i],'k',alpha=0.8)\n",
    "    ax.set_ylabel(labels[i])\n",
    "    \n",
    "axes[-1].set_label('Step numer')"
   ]
  },
  {
   "cell_type": "code",
   "execution_count": 29,
   "id": "cec53f6e",
   "metadata": {},
   "outputs": [
    {
     "data": {
      "image/png": "[encoded data removed]",
      "text/plain": [
       "<Figure size 547.2x547.2 with 9 Axes>"
      ]
     },
     "metadata": {
      "needs_background": "light"
     },
     "output_type": "display_data"
    }
   ],
   "source": [
    "truths = params\n",
    "figure = corner.corner( Mean_Dist, \n",
    "                       truths = truths, \n",
    "                       labels = labels, \n",
    "                       quantiles = [0.16,0.50,0.84], \n",
    "                       show_titles=True,\n",
    "                      title_kwargs={'fontsize':15})"
   ]
  },
  {
   "cell_type": "code",
   "execution_count": null,
   "id": "d0db4e6f",
   "metadata": {},
   "outputs": [],
   "source": []
  },
  {
   "cell_type": "code",
   "execution_count": null,
   "id": "57715316",
   "metadata": {},
   "outputs": [],
   "source": []
  }
 ],
 "metadata": {
  "kernelspec": {
   "display_name": "Python 3 (ipykernel)",
   "language": "python",
   "name": "python3"
  },
  "language_info": {
   "codemirror_mode": {
    "name": "ipython",
    "version": 3
   },
   "file_extension": ".py",
   "mimetype": "text/x-python",
   "name": "python",
   "nbconvert_exporter": "python",
   "pygments_lexer": "ipython3",
   "version": "3.9.12"
  }
 },
 "nbformat": 4,
 "nbformat_minor": 5
}
