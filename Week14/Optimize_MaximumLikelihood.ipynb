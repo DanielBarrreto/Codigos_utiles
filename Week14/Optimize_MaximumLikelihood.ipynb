{
 "cells": [
  {
   "cell_type": "code",
   "execution_count": 1,
   "id": "101fb41d",
   "metadata": {},
   "outputs": [],
   "source": [
    "#%matplotlib notebook\n",
    "import numpy as np\n",
    "import matplotlib.pyplot as plt\n",
    "\n",
    "import sympy as sym\n",
    "from scipy.stats import chi2\n",
    "import scipy.optimize as spo\n",
    "\n",
    "import os\n",
    "import os.path as path\n",
    "import wget"
   ]
  },
  {
   "cell_type": "code",
   "execution_count": 2,
   "id": "aaccfefa",
   "metadata": {},
   "outputs": [
    {
     "name": "stdout",
     "output_type": "stream",
     "text": [
      "\r",
      "  0% [                                                                                  ]   0 / 521\r",
      "100% [..................................................................................] 521 / 521File loaded\n"
     ]
    }
   ],
   "source": [
    "if not path.exists('Data'):\n",
    "    os.mkdir('Data')\n",
    "\n",
    "!rm Data/Minimos.dat\n",
    "\n",
    "file = 'Data/Minimos.dat'\n",
    "\n",
    "\n",
    "#url = 'https://raw.githubusercontent.com/asegura4488/Database/main/MetodosComputacionalesReforma/MinimosLineal.txt'\n",
    "url = 'https://raw.githubusercontent.com/asegura4488/Database/main/MetodosComputacionalesReforma/MinimosCuadratico.txt'\n",
    "\n",
    "if not path.exists(file):\n",
    "    Path_ = wget.download(url,file)\n",
    "    print('File loaded')\n",
    "else:\n",
    "    Path_ = file"
   ]
  },
  {
   "cell_type": "code",
   "execution_count": 38,
   "id": "f17e5251",
   "metadata": {},
   "outputs": [],
   "source": [
    "data = np.loadtxt(Path_)\n",
    "x = data[:,0]\n",
    "y = data[:,1]\n",
    "N = len(x)\n",
    "\n",
    "sigma = np.random.normal(loc=0,scale=20,size=N)\n",
    "sigma = np.abs(sigma)"
   ]
  },
  {
   "cell_type": "code",
   "execution_count": 39,
   "id": "7aafd95a",
   "metadata": {},
   "outputs": [
    {
     "data": {
      "text/plain": [
       "<ErrorbarContainer object of 3 artists>"
      ]
     },
     "execution_count": 39,
     "metadata": {},
     "output_type": "execute_result"
    },
    {
     "data": {
      "image/png": "[encoded data removed]",
      "text/plain": [
       "<Figure size 432x288 with 1 Axes>"
      ]
     },
     "metadata": {
      "needs_background": "light"
     },
     "output_type": "display_data"
    }
   ],
   "source": [
    "plt.errorbar(x,y,yerr=sigma,fmt='.')"
   ]
  },
  {
   "cell_type": "code",
   "execution_count": 64,
   "id": "cfb534b1",
   "metadata": {},
   "outputs": [],
   "source": [
    "# MOdelo\n",
    "def GetModel(x,p):\n",
    "    \n",
    "    y = 0\n",
    "    for n in range(len(p)):\n",
    "        y += p[n]*x**n\n",
    "    \n",
    "    #y = p[0]*np.exp(p[1]*x)\n",
    "        \n",
    "    return y"
   ]
  },
  {
   "cell_type": "code",
   "execution_count": 65,
   "id": "474d4fbd",
   "metadata": {},
   "outputs": [],
   "source": [
    "def Chi2(p,x,y,sigma):\n",
    "    return np.sum (  (y-GetModel(x,p))**2/(2*sigma**2) )"
   ]
  },
  {
   "cell_type": "code",
   "execution_count": 66,
   "id": "64de2be9",
   "metadata": {},
   "outputs": [
    {
     "data": {
      "text/plain": [
       "array([1., 1., 1., 1.])"
      ]
     },
     "execution_count": 66,
     "metadata": {},
     "output_type": "execute_result"
    }
   ],
   "source": [
    "p0 = np.ones(4)\n",
    "p0"
   ]
  },
  {
   "cell_type": "code",
   "execution_count": 67,
   "id": "7d59d465",
   "metadata": {},
   "outputs": [],
   "source": [
    "nll = lambda *p: Chi2(*p)"
   ]
  },
  {
   "cell_type": "code",
   "execution_count": 68,
   "id": "5bad064d",
   "metadata": {},
   "outputs": [
    {
     "name": "stdout",
     "output_type": "stream",
     "text": [
      "Optimization terminated successfully.\n",
      "         Current function value: 23.076936\n",
      "         Iterations: 18\n",
      "         Function evaluations: 135\n",
      "         Gradient evaluations: 27\n"
     ]
    }
   ],
   "source": [
    "result = spo.minimize( nll, p0, args=(x,y,sigma),options={'disp':True} )"
   ]
  },
  {
   "cell_type": "code",
   "execution_count": 69,
   "id": "e08ae414",
   "metadata": {},
   "outputs": [
    {
     "data": {
      "text/plain": [
       "array([-4.41862783, 12.16186166,  0.84613603,  0.17896156])"
      ]
     },
     "execution_count": 69,
     "metadata": {},
     "output_type": "execute_result"
    }
   ],
   "source": [
    "bestparam = result.x\n",
    "bestparam"
   ]
  },
  {
   "cell_type": "code",
   "execution_count": 70,
   "id": "48861bde",
   "metadata": {},
   "outputs": [
    {
     "data": {
      "text/plain": [
       "1.4423085062242922"
      ]
     },
     "execution_count": 70,
     "metadata": {},
     "output_type": "execute_result"
    }
   ],
   "source": [
    "result.fun/(N - len(p0))"
   ]
  },
  {
   "cell_type": "code",
   "execution_count": 71,
   "id": "bbeb1c43",
   "metadata": {},
   "outputs": [
    {
     "data": {
      "text/plain": [
       "[<matplotlib.lines.Line2D at 0x7f126f0a2a60>]"
      ]
     },
     "execution_count": 71,
     "metadata": {},
     "output_type": "execute_result"
    },
    {
     "data": {
      "image/png": "[encoded data removed]",
      "text/plain": [
       "<Figure size 432x288 with 1 Axes>"
      ]
     },
     "metadata": {
      "needs_background": "light"
     },
     "output_type": "display_data"
    }
   ],
   "source": [
    "_x = np.linspace(np.min(x),np.max(x),100)\n",
    "_y = GetModel(_x,bestparam)\n",
    "#print(_y)\n",
    "plt.errorbar(x,y,yerr=sigma,fmt='.')\n",
    "plt.plot(_x,_y,color='r')"
   ]
  },
  {
   "cell_type": "code",
   "execution_count": 47,
   "id": "e6438f46",
   "metadata": {},
   "outputs": [
    {
     "data": {
      "text/plain": [
       "[-5.96299877, 10.63035412, 2.52584151]"
      ]
     },
     "execution_count": 47,
     "metadata": {},
     "output_type": "execute_result"
    }
   ],
   "source": [
    "[-5.96299877, 10.63035412,  2.52584151]"
   ]
  },
  {
   "cell_type": "code",
   "execution_count": 49,
   "id": "52918f1b",
   "metadata": {},
   "outputs": [
    {
     "data": {
      "text/plain": [
       "array([7.54055878, 0.81910983, 3.52266742])"
      ]
     },
     "execution_count": 49,
     "metadata": {},
     "output_type": "execute_result"
    }
   ],
   "source": [
    "bestparam"
   ]
  },
  {
   "cell_type": "code",
   "execution_count": null,
   "id": "a438f862",
   "metadata": {},
   "outputs": [],
   "source": []
  }
 ],
 "metadata": {
  "kernelspec": {
   "display_name": "Python 3 (ipykernel)",
   "language": "python",
   "name": "python3"
  },
  "language_info": {
   "codemirror_mode": {
    "name": "ipython",
    "version": 3
   },
   "file_extension": ".py",
   "mimetype": "text/x-python",
   "name": "python",
   "nbconvert_exporter": "python",
   "pygments_lexer": "ipython3",
   "version": "3.9.12"
  }
 },
 "nbformat": 4,
 "nbformat_minor": 5
}
