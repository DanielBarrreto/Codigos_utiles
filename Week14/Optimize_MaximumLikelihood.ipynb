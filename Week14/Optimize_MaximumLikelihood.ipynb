{
 "cells": [
  {
   "cell_type": "code",
   "execution_count": 1,
   "id": "101fb41d",
   "metadata": {},
   "outputs": [],
   "source": [
    "#%matplotlib notebook\n",
    "import numpy as np\n",
    "import matplotlib.pyplot as plt\n",
    "\n",
    "import sympy as sym\n",
    "from scipy.stats import chi2\n",
    "import scipy.optimize as spo\n",
    "\n",
    "import os\n",
    "import os.path as path\n",
    "import wget"
   ]
  },
  {
   "cell_type": "code",
   "execution_count": 2,
   "id": "aaccfefa",
   "metadata": {},
   "outputs": [
    {
     "name": "stdout",
     "output_type": "stream",
     "text": [
      "\r",
      "  0% [                                                                                  ]   0 / 521\r",
      "100% [..................................................................................] 521 / 521File loaded\n"
     ]
    }
   ],
   "source": [
    "if not path.exists('Data'):\n",
    "    os.mkdir('Data')\n",
    "\n",
    "!rm Data/Minimos.dat\n",
    "\n",
    "file = 'Data/Minimos.dat'\n",
    "\n",
    "\n",
    "#url = 'https://raw.githubusercontent.com/asegura4488/Database/main/MetodosComputacionalesReforma/MinimosLineal.txt'\n",
    "url = 'https://raw.githubusercontent.com/asegura4488/Database/main/MetodosComputacionalesReforma/MinimosCuadratico.txt'\n",
    "\n",
    "if not path.exists(file):\n",
    "    Path_ = wget.download(url,file)\n",
    "    print('File loaded')\n",
    "else:\n",
    "    Path_ = file"
   ]
  },
  {
   "cell_type": "code",
   "execution_count": 5,
   "id": "f17e5251",
   "metadata": {},
   "outputs": [],
   "source": [
    "data = np.loadtxt(Path_)\n",
    "x = data[:,0]\n",
    "y = data[:,1]\n",
    "N = len(x)\n",
    "\n",
    "sigma = np.random.normal(loc=0,scale=10,size=N)\n",
    "sigma = np.abs(sigma)"
   ]
  },
  {
   "cell_type": "code",
   "execution_count": 6,
   "id": "df7d51a4",
   "metadata": {},
   "outputs": [
    {
     "data": {
      "text/plain": [
       "<ErrorbarContainer object of 3 artists>"
      ]
     },
     "execution_count": 6,
     "metadata": {},
     "output_type": "execute_result"
    },
    {
     "data": {
      "image/png": "[encoded data removed]",
      "text/plain": [
       "<Figure size 432x288 with 1 Axes>"
      ]
     },
     "metadata": {
      "needs_background": "light"
     },
     "output_type": "display_data"
    }
   ],
   "source": [
    "plt.errorbar(x,y,yerr=sigma,fmt='.')"
   ]
  },
  {
   "cell_type": "code",
   "execution_count": null,
   "id": "204bc8aa",
   "metadata": {},
   "outputs": [],
   "source": []
  }
 ],
 "metadata": {
  "kernelspec": {
   "display_name": "Python 3 (ipykernel)",
   "language": "python",
   "name": "python3"
  },
  "language_info": {
   "codemirror_mode": {
    "name": "ipython",
    "version": 3
   },
   "file_extension": ".py",
   "mimetype": "text/x-python",
   "name": "python",
   "nbconvert_exporter": "python",
   "pygments_lexer": "ipython3",
   "version": "3.9.12"
  }
 },
 "nbformat": 4,
 "nbformat_minor": 5
}
