{
 "cells": [
  {
   "cell_type": "code",
   "execution_count": 2,
   "id": "84b0779d",
   "metadata": {},
   "outputs": [],
   "source": [
    "import scipy.optimize as spo\n",
    "import numpy as np\n",
    "import matplotlib.pyplot as plt"
   ]
  },
  {
   "cell_type": "code",
   "execution_count": 3,
   "id": "da182cb5",
   "metadata": {},
   "outputs": [],
   "source": [
    "def f(x):\n",
    "    return x**2 - 12*x + 20"
   ]
  },
  {
   "cell_type": "code",
   "execution_count": 6,
   "id": "025a61fd",
   "metadata": {},
   "outputs": [],
   "source": [
    "x = np.linspace(0,10,100)\n",
    "y = f(x)"
   ]
  },
  {
   "cell_type": "code",
   "execution_count": 7,
   "id": "fa7fd4ba",
   "metadata": {},
   "outputs": [
    {
     "data": {
      "text/plain": [
       "[<matplotlib.lines.Line2D at 0x7f29b3ca2130>]"
      ]
     },
     "execution_count": 7,
     "metadata": {},
     "output_type": "execute_result"
    },
    {
     "data": {
      "image/png": "[encoded data removed]",
      "text/plain": [
       "<Figure size 432x288 with 1 Axes>"
      ]
     },
     "metadata": {
      "needs_background": "light"
     },
     "output_type": "display_data"
    }
   ],
   "source": [
    "plt.plot(x,y)"
   ]
  },
  {
   "cell_type": "code",
   "execution_count": 8,
   "id": "e6808166",
   "metadata": {},
   "outputs": [
    {
     "name": "stdout",
     "output_type": "stream",
     "text": [
      "Optimization terminated successfully.\n",
      "         Current function value: -16.000000\n",
      "         Iterations: 20\n",
      "         Function evaluations: 40\n"
     ]
    },
    {
     "data": {
      "text/plain": [
       " final_simplex: (array([[6.        ],\n",
       "       [6.00009766]]), array([-16.        , -15.99999999]))\n",
       "           fun: -16.000000000000007\n",
       "       message: 'Optimization terminated successfully.'\n",
       "          nfev: 40\n",
       "           nit: 20\n",
       "        status: 0\n",
       "       success: True\n",
       "             x: array([6.])"
      ]
     },
     "execution_count": 8,
     "metadata": {},
     "output_type": "execute_result"
    }
   ],
   "source": [
    "x0 = 2\n",
    "result = spo.minimize( f, x0, options={'disp':True}, method='Nelder-Mead' )\n",
    "result"
   ]
  },
  {
   "cell_type": "code",
   "execution_count": 9,
   "id": "5740e915",
   "metadata": {},
   "outputs": [
    {
     "data": {
      "text/plain": [
       "array([6.])"
      ]
     },
     "execution_count": 9,
     "metadata": {},
     "output_type": "execute_result"
    }
   ],
   "source": [
    "result.x"
   ]
  },
  {
   "cell_type": "code",
   "execution_count": 10,
   "id": "3a9a642a",
   "metadata": {},
   "outputs": [
    {
     "data": {
      "text/plain": [
       "-16.000000000000007"
      ]
     },
     "execution_count": 10,
     "metadata": {},
     "output_type": "execute_result"
    }
   ],
   "source": [
    "result.fun"
   ]
  },
  {
   "cell_type": "code",
   "execution_count": 11,
   "id": "813aad2b",
   "metadata": {},
   "outputs": [],
   "source": [
    "def g(p):\n",
    "    return -p[0]*p[1]"
   ]
  },
  {
   "cell_type": "code",
   "execution_count": 23,
   "id": "5ea37806",
   "metadata": {},
   "outputs": [
    {
     "name": "stdout",
     "output_type": "stream",
     "text": [
      "Optimization terminated successfully    (Exit mode 0)\n",
      "            Current function value: -1249.9999999999957\n",
      "            Iterations: 4\n",
      "            Function evaluations: 12\n",
      "            Gradient evaluations: 4\n"
     ]
    }
   ],
   "source": [
    "p0 = [20.,20.]\n",
    "bounds = ( (1,100),(1,100) )\n",
    "constraints = ( {  'type':'eq', 'fun': lambda p: 2*p[0] + p[1] -100 } )\n",
    "\n",
    "result = spo.minimize( g, p0, options={'disp':True},constraints=constraints,bounds=bounds )"
   ]
  },
  {
   "cell_type": "code",
   "execution_count": 24,
   "id": "d250e55f",
   "metadata": {},
   "outputs": [
    {
     "data": {
      "text/plain": [
       "array([25.0000015, 49.999997 ])"
      ]
     },
     "execution_count": 24,
     "metadata": {},
     "output_type": "execute_result"
    }
   ],
   "source": [
    "result.x"
   ]
  },
  {
   "cell_type": "code",
   "execution_count": null,
   "id": "4f07d496",
   "metadata": {},
   "outputs": [],
   "source": []
  }
 ],
 "metadata": {
  "kernelspec": {
   "display_name": "Python 3 (ipykernel)",
   "language": "python",
   "name": "python3"
  },
  "language_info": {
   "codemirror_mode": {
    "name": "ipython",
    "version": 3
   },
   "file_extension": ".py",
   "mimetype": "text/x-python",
   "name": "python",
   "nbconvert_exporter": "python",
   "pygments_lexer": "ipython3",
   "version": "3.9.12"
  }
 },
 "nbformat": 4,
 "nbformat_minor": 5
}
