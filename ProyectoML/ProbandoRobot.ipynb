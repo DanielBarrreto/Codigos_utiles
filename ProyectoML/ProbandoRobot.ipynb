{
 "cells": [
  {
   "cell_type": "code",
   "execution_count": 1,
   "id": "93dd3b05",
   "metadata": {},
   "outputs": [],
   "source": [
    "import numpy as np\n",
    "import matplotlib.pyplot as plt\n",
    "from matplotlib import cm\n",
    "from IPython.display import clear_output\n",
    "import time"
   ]
  },
  {
   "cell_type": "code",
   "execution_count": 2,
   "id": "16eff845",
   "metadata": {},
   "outputs": [],
   "source": [
    "sigm = lambda x: 1/(1+np.exp(-x))"
   ]
  },
  {
   "cell_type": "code",
   "execution_count": 3,
   "id": "cf51872b",
   "metadata": {},
   "outputs": [],
   "source": [
    "class Layer:\n",
    "    \n",
    "    def __init__(self, NC, NN, ActFunc, rate=0.1):\n",
    "        \n",
    "        self.NC = NC\n",
    "        self.NN = NN\n",
    "        self.ActFunc = ActFunc\n",
    "        self.rate = rate\n",
    "        \n",
    "\n",
    "        # Weights and Biases of the layer\n",
    "        self.W = np.random.uniform( -10.,10., size=(self.NC,self.NN) )\n",
    "        self.b = np.random.uniform( -10.,10., size=(1,self.NN) )\n",
    "        \n",
    "    def Activation(self,x): # input\n",
    "        z = np.dot(x,self.W) + self.b # average sum\n",
    "        return self.ActFunc( z )[0]   # activation function      \n",
    "    \n",
    "    # No mutamos en \n",
    "    #def Mutate(self):\n",
    "    \n",
    "    #    self.W += np.random.normal( loc=0., scale=self.rate, size=(self.NC,self.NN))\n",
    "    #    self.b += np.random.normal( loc=0., scale=self.rate, size=(1,self.NN))"
   ]
  },
  {
   "cell_type": "code",
   "execution_count": 4,
   "id": "c5d94f6c",
   "metadata": {},
   "outputs": [],
   "source": [
    "# Creamos una red con la misma configuración del entrenamiento\n",
    "l0 = Layer(2,5,sigm)\n",
    "l1 = Layer(5,3,sigm)\n",
    "l2 = Layer(3,2,sigm)"
   ]
  },
  {
   "cell_type": "code",
   "execution_count": 5,
   "id": "459b046e",
   "metadata": {},
   "outputs": [],
   "source": [
    "l0.b = [[ 5.4678804,  -3.16624792, -4.4382485,  -8.20623171,  9.69987255]]\n",
    "l1.b = [[-11.67278187,   3.56205012,   8.70221925]]\n",
    "l2.b = [[3.33446265, 6.04996944]]\n",
    "l0.W = [[-0.09089465, -6.35489966, -1.13315918, 11.43356067, 7.20555635],\\\n",
    "        [-8.77721197,  2.67482497,  1.66138927, -1.86730663, 15.91481531]]\n",
    "l1.W = [[  5.77834675,  -3.53166118,  -9.73301126],\\\n",
    "        [ -4.0327467,   -4.41093953,  9.29315928],\\\n",
    "        [ -2.51863765, -2.65488345,  10.95597963],\\\n",
    "        [  1.25626154, -13.32734179,   8.5666491 ],\\\n",
    "        [ -8.0541932,   18.89787652,  -4.5821854 ]]\n",
    "l2.W = [[ -2.21073147,  -4.25720495],\\\n",
    "        [ -8.57434787, -10.16441292],\\\n",
    "        [ 14.63493879,  11.552582  ]]"
   ]
  },
  {
   "cell_type": "code",
   "execution_count": 6,
   "id": "8d4c0547",
   "metadata": {},
   "outputs": [],
   "source": [
    "Layers = [l0,l1,l2]"
   ]
  },
  {
   "cell_type": "code",
   "execution_count": 7,
   "id": "45c865b8",
   "metadata": {},
   "outputs": [],
   "source": [
    "class Robot:\n",
    "    \n",
    "    def __init__(self,dt,Layers,Id=0):\n",
    "        \n",
    "        # Time\n",
    "        self.dt = dt\n",
    "        self.Id = Id\n",
    "        \n",
    "        # Status\n",
    "        self.Status = 1\n",
    "        \n",
    "        # Position\n",
    "        self.r = np.array([0.,0.])\n",
    "         \n",
    "        # Velocity\n",
    "        #theta = np.random.uniform(0.25*np.pi - 0.2, 0.25*np.pi + 0.2)\n",
    "        theta = np.random.uniform(0.,2*np.pi)\n",
    "        #theta = 0.\n",
    "        V = 1.0 # parametro libre\n",
    "        self.v = np.array([V*np.cos(theta),V*np.sin(theta)])\n",
    "        \n",
    "        # Brain\n",
    "        self.SetLayers(Layers)\n",
    "        \n",
    "        # Fitness\n",
    "        self.Steps = 0\n",
    "        self.Fitness = np.inf\n",
    "        \n",
    "    def Evolution(self):\n",
    "        \n",
    "        self.r += self.dt*self.v\n",
    "        \n",
    "    def Reset(self):\n",
    "        \n",
    "        # Vuelve a la vida\n",
    "        self.Status = 1\n",
    "        \n",
    "        # Restart Steps\n",
    "        self.Steps = 0\n",
    "        # No reiniciamos el fitness para comparar entre epocas\n",
    "        \n",
    "        \n",
    "        # Vuelve al punto inicial\n",
    "        self.r = np.array([0.,0.]) \n",
    "        \n",
    "        # Si es buena idea\n",
    "        theta = np.random.uniform(0.,2*np.pi)\n",
    "        V = 1.0 # parametro libre\n",
    "        self.v = np.array([V*np.cos(theta),V*np.sin(theta)])\n",
    "        \n",
    "        #self.v += np.random.normal(0,0.05,size=(2,)) \n",
    "        \n",
    "    def CheckLimits(self,Limits):\n",
    "        \n",
    "        for i in range(2):\n",
    "            if self.r[i] > Limits[i][1] or self.r[i] < Limits[i][0]:\n",
    "                self.Status = 0  \n",
    "     \n",
    "    def SetLayers(self,Layers):\n",
    "        self.Layers = Layers\n",
    "        \n",
    "    def GetLayers(self):\n",
    "        return self.Layers\n",
    "        \n",
    "    def BrainActivation(self,x,threshold=0.8):\n",
    "        \n",
    "        for i in range(len(self.Layers)):\n",
    "            if i == 0:\n",
    "                output = self.Layers[i].Activation(x) \n",
    "            else:\n",
    "                output = self.Layers[i].Activation(output)\n",
    "        \n",
    "        self.Activation = np.round(output,6) # Significa cambiar vx o vy\n",
    "       \n",
    "        # Aqui cambiamos la velocidad\n",
    "        for i in range(2):\n",
    "            if self.Activation[i] >= threshold:\n",
    "                self.v[i] = -self.v[i]\n",
    "        #       self.Steps -= 0.5 # Penalizamos el cambio de velocidad\n",
    "                \n",
    "        return self.Activation\n",
    "     \n",
    "    # No necesitamos mutar en la prueba de la red neuronal    \n",
    "    #def Mutate(self):\n",
    "        \n",
    "    #    for i in range(len(self.Layers)):\n",
    "    #        self.Layers[i].Mutate()\n",
    "            \n",
    "    def Print(self):\n",
    "        print('{} {} {} {} {} {}'.format(self.Id,self.r,self.Status,self.Steps,self.Fitness,self.Activation))"
   ]
  },
  {
   "cell_type": "code",
   "execution_count": 8,
   "id": "037fa66b",
   "metadata": {},
   "outputs": [],
   "source": [
    "dt = 0.05\n",
    "t = np.arange(0.,20.,dt)\n",
    "Limits = np.array([[-1,1],[-1,1]])"
   ]
  },
  {
   "cell_type": "code",
   "execution_count": 9,
   "id": "63b9ba92",
   "metadata": {},
   "outputs": [],
   "source": [
    "def GetRobots(N):\n",
    "    \n",
    "    Robots = []\n",
    "    \n",
    "    # Creamos N robots con el grafo del entrenamiento,\n",
    "    ## para ver el comportamiento con los diferentes Condiciones I\n",
    "    for i in range(N):    \n",
    "        r = Robot(dt,Layers,Id=i)\n",
    "        Robots.append(r)\n",
    "        \n",
    "    return Robots"
   ]
  },
  {
   "cell_type": "code",
   "execution_count": 10,
   "id": "d83923e6",
   "metadata": {},
   "outputs": [],
   "source": [
    "def Plot(t):\n",
    "    \n",
    "    fig = plt.figure(figsize=(10,10))\n",
    "    ax = fig.add_subplot(221)\n",
    "    \n",
    "    \n",
    "    ax.set_xlim(Limits[0][0],Limits[0][1])\n",
    "    ax.set_ylim(Limits[1][0],Limits[1][1])  \n",
    "    \n",
    "    ax.set_title('t={:.2f}'.format(t))\n",
    "    \n",
    "    ax1 = fig.add_subplot(222)\n",
    "    ax1.set_ylim(0,1)\n",
    "    \n",
    "    ax2 = fig.add_subplot(224)\n",
    "    ax2.set_ylim(0,1)\n",
    "    \n",
    "    return ax,ax1,ax2"
   ]
  },
  {
   "cell_type": "code",
   "execution_count": 11,
   "id": "82397805",
   "metadata": {},
   "outputs": [],
   "source": [
    "def TimeEvolutionPlot(Robots,t):\n",
    "    \n",
    "    for it in range(len(t)):\n",
    "        \n",
    "        clear_output(wait=True)\n",
    "        \n",
    "        ax,ax1,ax2 = Plot(t[it])\n",
    "        \n",
    "        Activationx=np.zeros(len(Robots))\n",
    "        Activationy=np.zeros(len(Robots))\n",
    "        \n",
    "        for i,p in enumerate(Robots):\n",
    "            \n",
    "            p.Evolution()\n",
    "            p.CheckLimits(Limits)\n",
    "            \n",
    "            # Activamos el cerebro\n",
    "            _ = p.BrainActivation(p.r)\n",
    "            \n",
    "            if p.Status == 1:\n",
    "                p.Steps += 1\n",
    "            else:\n",
    "                Robots.pop(i)\n",
    "            \n",
    "            ax.scatter(p.r[0],p.r[1],label='Id {} Act {}'.format(p.Id,np.round(p.Activation,2)))   \n",
    "            ax.quiver(p.r[0],p.r[1],p.v[0],p.v[1])\n",
    "            ax.legend(loc='upper center', ncol=1, bbox_to_anchor=(0.5,-0.1),frameon=False, fontsize=10)\n",
    "            \n",
    "            Activationx[i] = p.Activation[0]\n",
    "            Activationy[i] = p.Activation[1]\n",
    "             \n",
    "        ax1.scatter(np.arange(0,len(Robots),1),Activationx,marker='o',label='Activación Cerebral X')    \n",
    "        ax1.axhline(y=0.8,color='r')\n",
    "        ax1.legend(loc=1)\n",
    "        ax2.scatter(np.arange(0,len(Robots),1),Activationy,marker='o',label='Activación Cerebral Y')    \n",
    "        ax2.axhline(y=0.8,color='r')\n",
    "        ax2.legend(loc=1)\n",
    "        \n",
    "        plt.show()\n",
    "            \n",
    "        \n",
    "        time.sleep(0.001)"
   ]
  },
  {
   "cell_type": "code",
   "execution_count": 12,
   "id": "1979779f",
   "metadata": {},
   "outputs": [],
   "source": [
    "RobotsTesting = GetRobots(10)"
   ]
  },
  {
   "cell_type": "code",
   "execution_count": 13,
   "id": "63d0a2ee",
   "metadata": {},
   "outputs": [
    {
     "data": {
      "image/png": "[encoded data removed]",
      "text/plain": [
       "<Figure size 720x720 with 3 Axes>"
      ]
     },
     "metadata": {
      "needs_background": "light"
     },
     "output_type": "display_data"
    }
   ],
   "source": [
    "TimeEvolutionPlot(RobotsTesting,t)"
   ]
  },
  {
   "cell_type": "code",
   "execution_count": null,
   "id": "95453ad3",
   "metadata": {},
   "outputs": [],
   "source": []
  },
  {
   "cell_type": "code",
   "execution_count": null,
   "id": "a169a4bf",
   "metadata": {},
   "outputs": [],
   "source": []
  }
 ],
 "metadata": {
  "kernelspec": {
   "display_name": "Python 3 (ipykernel)",
   "language": "python",
   "name": "python3"
  },
  "language_info": {
   "codemirror_mode": {
    "name": "ipython",
    "version": 3
   },
   "file_extension": ".py",
   "mimetype": "text/x-python",
   "name": "python",
   "nbconvert_exporter": "python",
   "pygments_lexer": "ipython3",
   "version": "3.9.12"
  }
 },
 "nbformat": 4,
 "nbformat_minor": 5
}
