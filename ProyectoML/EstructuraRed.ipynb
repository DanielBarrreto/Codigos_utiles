{
 "cells": [
  {
   "cell_type": "code",
   "execution_count": 3,
   "id": "afff289a",
   "metadata": {},
   "outputs": [],
   "source": [
    "%matplotlib notebook\n",
    "import numpy as np\n",
    "import matplotlib.pyplot as plt\n",
    "from matplotlib import cm\n",
    "from mpl_toolkits.mplot3d import axes3d"
   ]
  },
  {
   "cell_type": "code",
   "execution_count": 4,
   "id": "45096637",
   "metadata": {},
   "outputs": [],
   "source": [
    "sigm = lambda x: 1/(1+np.exp(-x))"
   ]
  },
  {
   "cell_type": "code",
   "execution_count": 27,
   "id": "02b8ae39",
   "metadata": {},
   "outputs": [],
   "source": [
    "class Layer:\n",
    "    \n",
    "    def __init__(self, NC, NN, ActFunc):\n",
    "        \n",
    "        self.NC = NC\n",
    "        self.NN = NN\n",
    "        self.ActFunc = ActFunc\n",
    "        \n",
    "        self.W = np.random.uniform( -10,10, size=(self.NC,self.NN) )\n",
    "        self.b = np.random.uniform( -10,10, size=(1,self.NN) )\n",
    "        \n",
    "    def Activation(self,x):\n",
    "        z = np.dot(x,self.W) + self.b\n",
    "        return self.ActFunc(z)[0]\n",
    "    \n",
    "    def Mutate(self):\n",
    "        self.W += np.random.normal( loc=0.,scale=0.05,size=(self.NC,self.NN) )\n",
    "        self.b += np.random.normal( loc=0.,scale=0.05,size=(1,self.NN) )\n",
    "        "
   ]
  },
  {
   "cell_type": "code",
   "execution_count": 28,
   "id": "606dad01",
   "metadata": {},
   "outputs": [],
   "source": [
    "L0 = Layer(2,4,sigm)"
   ]
  },
  {
   "cell_type": "code",
   "execution_count": 29,
   "id": "e63ef8b9",
   "metadata": {},
   "outputs": [
    {
     "data": {
      "text/plain": [
       "array([[-6.1786611 ,  6.43114532, -5.78382414,  0.14439184],\n",
       "       [ 0.30431398, -3.38988695, -3.44003589, -9.25747639]])"
      ]
     },
     "execution_count": 29,
     "metadata": {},
     "output_type": "execute_result"
    }
   ],
   "source": [
    "L0.W"
   ]
  },
  {
   "cell_type": "code",
   "execution_count": 30,
   "id": "e986f116",
   "metadata": {},
   "outputs": [
    {
     "data": {
      "text/plain": [
       "array([[-8.23759498, -8.56583437, -2.81471976, -3.81981355]])"
      ]
     },
     "execution_count": 30,
     "metadata": {},
     "output_type": "execute_result"
    }
   ],
   "source": [
    "L0.b"
   ]
  },
  {
   "cell_type": "code",
   "execution_count": 31,
   "id": "8a2c69c2",
   "metadata": {},
   "outputs": [],
   "source": [
    "x = [0.1,0.5]"
   ]
  },
  {
   "cell_type": "code",
   "execution_count": 32,
   "id": "ece16ff9",
   "metadata": {},
   "outputs": [
    {
     "data": {
      "text/plain": [
       "array([1.66008739e-04, 6.65384984e-05, 5.98128789e-03, 2.17278664e-04])"
      ]
     },
     "execution_count": 32,
     "metadata": {},
     "output_type": "execute_result"
    }
   ],
   "source": [
    "L0.Activation(x)"
   ]
  },
  {
   "cell_type": "code",
   "execution_count": 33,
   "id": "6728fa9a",
   "metadata": {},
   "outputs": [],
   "source": [
    "L0.Mutate()"
   ]
  },
  {
   "cell_type": "code",
   "execution_count": 34,
   "id": "a7d2ed41",
   "metadata": {},
   "outputs": [
    {
     "data": {
      "text/plain": [
       "array([1.68849589e-04, 6.45193509e-05, 5.42993372e-03, 1.98947082e-04])"
      ]
     },
     "execution_count": 34,
     "metadata": {},
     "output_type": "execute_result"
    }
   ],
   "source": [
    "L0.Activation(x)"
   ]
  },
  {
   "cell_type": "code",
   "execution_count": null,
   "id": "849ef9e9",
   "metadata": {},
   "outputs": [],
   "source": []
  }
 ],
 "metadata": {
  "kernelspec": {
   "display_name": "Python 3 (ipykernel)",
   "language": "python",
   "name": "python3"
  },
  "language_info": {
   "codemirror_mode": {
    "name": "ipython",
    "version": 3
   },
   "file_extension": ".py",
   "mimetype": "text/x-python",
   "name": "python",
   "nbconvert_exporter": "python",
   "pygments_lexer": "ipython3",
   "version": "3.9.12"
  }
 },
 "nbformat": 4,
 "nbformat_minor": 5
}
