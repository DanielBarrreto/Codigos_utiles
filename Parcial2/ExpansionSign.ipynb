{
 "cells": [
  {
   "cell_type": "code",
   "execution_count": 1,
   "id": "459e78ab",
   "metadata": {},
   "outputs": [],
   "source": [
    "import numpy as np\n",
    "import matplotlib.pyplot as plt\n",
    "from matplotlib import rc\n",
    "from tqdm import tqdm\n",
    "import sympy as sym"
   ]
  },
  {
   "cell_type": "code",
   "execution_count": 2,
   "id": "dbba321f",
   "metadata": {},
   "outputs": [],
   "source": [
    "def sign(x):\n",
    "    \n",
    "    if x < 0:\n",
    "        return -1.\n",
    "    elif x == 0:\n",
    "        return 0.\n",
    "    else:\n",
    "        return 1."
   ]
  },
  {
   "cell_type": "code",
   "execution_count": 3,
   "id": "8fa2a571",
   "metadata": {},
   "outputs": [],
   "source": [
    "sign = np.vectorize(sign)"
   ]
  },
  {
   "cell_type": "code",
   "execution_count": 4,
   "id": "115c9cff",
   "metadata": {},
   "outputs": [],
   "source": [
    "_x = np.linspace(-1,1,101)\n",
    "_y = sign(_x)"
   ]
  },
  {
   "cell_type": "code",
   "execution_count": 5,
   "id": "e4f7e4a0",
   "metadata": {},
   "outputs": [
    {
     "data": {
      "text/plain": [
       "<matplotlib.collections.PathCollection at 0x7f2c5f2c13d0>"
      ]
     },
     "execution_count": 5,
     "metadata": {},
     "output_type": "execute_result"
    },
    {
     "data": {
      "image/png": "[encoded data removed]",
      "text/plain": [
       "<Figure size 432x288 with 1 Axes>"
      ]
     },
     "metadata": {
      "needs_background": "light"
     },
     "output_type": "display_data"
    }
   ],
   "source": [
    "plt.scatter(_x,_y,color='r',marker='.')"
   ]
  },
  {
   "cell_type": "code",
   "execution_count": 6,
   "id": "a8908ff7",
   "metadata": {},
   "outputs": [],
   "source": [
    "x = sym.Symbol('x',Real=True)\n",
    "y = sym.Symbol('y',Real=True)\n",
    "xi, wi = np.polynomial.legendre.leggauss(15)\n",
    "#puntos de gauss"
   ]
  },
  {
   "cell_type": "code",
   "execution_count": 7,
   "id": "abb360b2",
   "metadata": {},
   "outputs": [],
   "source": [
    "def GetLegendre(n):\n",
    "    \n",
    "    y = (x**2 - 1)**n\n",
    "    \n",
    "    p = sym.diff(y,x,n)/(2**n * np.math.factorial(n))\n",
    "    \n",
    "    return p"
   ]
  },
  {
   "cell_type": "code",
   "execution_count": 8,
   "id": "2bbbf02d",
   "metadata": {},
   "outputs": [],
   "source": [
    "N = 20\n",
    "Legendre = []\n",
    "\n",
    "for i in range(N):\n",
    "    Legendre.append(GetLegendre(i))"
   ]
  },
  {
   "cell_type": "code",
   "execution_count": 9,
   "id": "e1dc3817",
   "metadata": {},
   "outputs": [],
   "source": [
    "def Pn(Legendre):\n",
    "    pn = sym.lambdify([x],Legendre,'numpy')\n",
    "    return pn"
   ]
  },
  {
   "cell_type": "code",
   "execution_count": 10,
   "id": "dccd3294",
   "metadata": {},
   "outputs": [],
   "source": [
    "def GetCoefficient(n,f,Legendre):\n",
    "    \n",
    "    cn = 1.0\n",
    "    \n",
    "    cn *= np.sum( wi*f(xi)*Pn(Legendre)(xi))\n",
    "    cn *= (2*n+1)/2.\n",
    "    \n",
    "    return cn"
   ]
  },
  {
   "cell_type": "code",
   "execution_count": 11,
   "id": "a06182b3",
   "metadata": {},
   "outputs": [
    {
     "data": {
      "text/plain": [
       "array([ 6.93889390e-17,  1.48971231e+00,  1.73472348e-17, -8.38742583e-01,\n",
       "        3.12250226e-17,  6.15369232e-01, -6.76542156e-17, -4.68994560e-01,\n",
       "       -2.94902991e-17,  3.48540946e-01, -1.82145965e-17, -2.36219080e-01,\n",
       "       -2.16840434e-17,  1.22517145e-01,  0.00000000e+00, -1.84201441e-17,\n",
       "        7.15573434e-17, -1.39529963e-01, -1.60461922e-17,  3.07786739e-01])"
      ]
     },
     "execution_count": 11,
     "metadata": {},
     "output_type": "execute_result"
    }
   ],
   "source": [
    "cn = np.zeros(N)\n",
    "\n",
    "for i in range(N):\n",
    "    cn[i] = GetCoefficient(i,sign,Legendre[i])\n",
    "    \n",
    "cn"
   ]
  },
  {
   "cell_type": "code",
   "execution_count": 12,
   "id": "5e592a18",
   "metadata": {},
   "outputs": [
    {
     "name": "stderr",
     "output_type": "stream",
     "text": [
      "100%|█████████████████████████████████████████████████████████████████████████████████████████████████████| 101/101 [00:08<00:00, 12.27it/s]\n"
     ]
    }
   ],
   "source": [
    "_yapprox = np.zeros_like(_x)\n",
    "\n",
    "for i in tqdm(range(len(_yapprox))):\n",
    "    \n",
    "    sum_ = 0.\n",
    "    for j in range(N):\n",
    "        sum_ += cn[j]*Pn(Legendre[j])(_x[i])\n",
    "    \n",
    "    _yapprox[i] = sum_"
   ]
  },
  {
   "cell_type": "code",
   "execution_count": 13,
   "id": "ef9f8ed2",
   "metadata": {},
   "outputs": [
    {
     "data": {
      "text/plain": [
       "<matplotlib.legend.Legend at 0x7f2c5e52e820>"
      ]
     },
     "execution_count": 13,
     "metadata": {},
     "output_type": "execute_result"
    },
    {
     "data": {
      "image/png": "[encoded data removed]",
      "text/plain": [
       "<Figure size 432x288 with 1 Axes>"
      ]
     },
     "metadata": {
      "needs_background": "light"
     },
     "output_type": "display_data"
    }
   ],
   "source": [
    "plt.title('Expansión en la base de Legendre al grado n={}'.format(N))\n",
    "plt.scatter(_x,_y,color='r',marker='.',label=r'$sgn(x)$')\n",
    "plt.plot(_x,_yapprox,color='b',label=r'$\\sum_{n} c_{n}P_{n}(x)$')\n",
    "plt.legend()\n",
    "#plt.savefig('LegendreAprox.pdf')"
   ]
  },
  {
   "cell_type": "code",
   "execution_count": null,
   "id": "de6c42ed",
   "metadata": {},
   "outputs": [],
   "source": []
  },
  {
   "cell_type": "code",
   "execution_count": null,
   "id": "d0d01ba2",
   "metadata": {},
   "outputs": [],
   "source": []
  }
 ],
 "metadata": {
  "kernelspec": {
   "display_name": "Python 3 (ipykernel)",
   "language": "python",
   "name": "python3"
  },
  "language_info": {
   "codemirror_mode": {
    "name": "ipython",
    "version": 3
   },
   "file_extension": ".py",
   "mimetype": "text/x-python",
   "name": "python",
   "nbconvert_exporter": "python",
   "pygments_lexer": "ipython3",
   "version": "3.9.12"
  }
 },
 "nbformat": 4,
 "nbformat_minor": 5
}
