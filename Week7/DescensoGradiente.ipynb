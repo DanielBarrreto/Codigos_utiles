{
 "cells": [
  {
   "cell_type": "code",
   "execution_count": 1,
   "id": "c7c52c2f",
   "metadata": {},
   "outputs": [],
   "source": [
    "import numpy as np\n",
    "import matplotlib.pyplot as plt\n",
    "from IPython.display import clear_output\n",
    "import time"
   ]
  },
  {
   "cell_type": "code",
   "execution_count": 2,
   "id": "8afa75ea",
   "metadata": {},
   "outputs": [],
   "source": [
    "G = (lambda x,y,z: 3*x - y - z - 1., \\\n",
    "    lambda x,y,z: -x + 3*y + z - 3., \\\n",
    "    lambda x,y,z: 2*x + y + 4*z - 7.)"
   ]
  },
  {
   "cell_type": "code",
   "execution_count": 3,
   "id": "92584e1f",
   "metadata": {},
   "outputs": [],
   "source": [
    "def GetVectorF(G,r):\n",
    "    \n",
    "    dim = len(G)\n",
    "    \n",
    "    v = np.zeros(dim)\n",
    "    \n",
    "    for i in range(dim):\n",
    "        v[i] = G[i](r[0],r[1],r[2])\n",
    "        \n",
    "    return v"
   ]
  },
  {
   "cell_type": "code",
   "execution_count": 4,
   "id": "52b6ca0b",
   "metadata": {},
   "outputs": [
    {
     "data": {
      "text/plain": [
       "array([0., 0., 0.])"
      ]
     },
     "execution_count": 4,
     "metadata": {},
     "output_type": "execute_result"
    }
   ],
   "source": [
    "GetVectorF(G,[1,1,1])"
   ]
  },
  {
   "cell_type": "code",
   "execution_count": 5,
   "id": "9799109b",
   "metadata": {},
   "outputs": [],
   "source": [
    "def GetMetric(G,r):\n",
    "    v = GetVectorF(G,r)\n",
    "    return 0.5*np.linalg.norm(v)**2"
   ]
  },
  {
   "cell_type": "code",
   "execution_count": 6,
   "id": "23edf5d5",
   "metadata": {},
   "outputs": [
    {
     "data": {
      "text/plain": [
       "0.0"
      ]
     },
     "execution_count": 6,
     "metadata": {},
     "output_type": "execute_result"
    }
   ],
   "source": [
    "GetMetric(G,[1,1,1])"
   ]
  },
  {
   "cell_type": "code",
   "execution_count": 7,
   "id": "df010fe7",
   "metadata": {},
   "outputs": [],
   "source": [
    "def GetJacobian(G,r,h=1e-6):\n",
    "    \n",
    "    dim = len(G)\n",
    "    \n",
    "    J = np.zeros((dim,dim))\n",
    "    \n",
    "    for i in range(dim):\n",
    "        J[i,0] = (G[i]( r[0] + h,r[1],r[2]) - G[i]( r[0] - h,r[1],r[2]))/(2*h)\n",
    "        J[i,1] = (G[i]( r[0] ,r[1]+h,r[2]) - G[i]( r[0],r[1]-h,r[2]))/(2*h)\n",
    "        J[i,2] = (G[i]( r[0],r[1],r[2]+h) - G[i]( r[0],r[1],r[2]-h))/(2*h)\n",
    "        \n",
    "    return J.T"
   ]
  },
  {
   "cell_type": "code",
   "execution_count": 8,
   "id": "3310670b",
   "metadata": {},
   "outputs": [
    {
     "data": {
      "text/plain": [
       "array([[ 3., -1.,  2.],\n",
       "       [-1.,  3.,  1.],\n",
       "       [-1.,  1.,  4.]])"
      ]
     },
     "execution_count": 8,
     "metadata": {},
     "output_type": "execute_result"
    }
   ],
   "source": [
    "GetJacobian(G,[0,0,0])"
   ]
  },
  {
   "cell_type": "code",
   "execution_count": 9,
   "id": "baf894ec",
   "metadata": {},
   "outputs": [],
   "source": [
    "def GetFig(F,R,it):\n",
    "    \n",
    "    fig = plt.figure(figsize=(5,4))\n",
    "    \n",
    "    ax = fig.add_subplot(121)\n",
    "    ax1 = fig.add_subplot(122)\n",
    "    \n",
    "    ax.plot(F[:it])\n",
    "    ax1.plot(R[:it])\n",
    "    plt.show()"
   ]
  },
  {
   "cell_type": "code",
   "execution_count": 10,
   "id": "c7ace556",
   "metadata": {},
   "outputs": [],
   "source": [
    "def GetSolve(G,r,lr=1e-5,epochs=int(1e5),error=1e-7):\n",
    "    \n",
    "    d = 1\n",
    "    it = 0\n",
    "    Vector_F = np.array([])\n",
    "    Vector_R = np.array(r)\n",
    "    \n",
    "    while  d > error and it < epochs:\n",
    "        \n",
    "        CurrentF = GetMetric(G,r)\n",
    "        \n",
    "        J = GetJacobian(G,r)\n",
    "        \n",
    "        GVector = GetVectorF(G,r)\n",
    "        \n",
    "        # Machine Learning\n",
    "        r -= lr*np.dot(J,GVector)\n",
    "        \n",
    "        Vector_R = np.vstack((Vector_R,r))\n",
    "        \n",
    "        NewF = GetMetric(G,r)\n",
    "        \n",
    "        Vector_F = np.append(Vector_F,NewF)\n",
    "        \n",
    "        if it%500 == 0:\n",
    "            clear_output(wait=True)\n",
    "            GetFig(Vector_F,Vector_R,it)\n",
    "            time.sleep(0.01)\n",
    "            \n",
    "        it += 1\n",
    "        \n",
    "    return r,it"
   ]
  },
  {
   "cell_type": "code",
   "execution_count": null,
   "id": "524786b1",
   "metadata": {},
   "outputs": [
    {
     "data": {
      "image/png": "[encoded data removed]",
      "text/plain": [
       "<Figure size 360x288 with 2 Axes>"
      ]
     },
     "metadata": {
      "needs_background": "light"
     },
     "output_type": "display_data"
    }
   ],
   "source": [
    "xsol,it = GetSolve(G,[0,0,0])"
   ]
  },
  {
   "cell_type": "code",
   "execution_count": null,
   "id": "3de2f0a0",
   "metadata": {},
   "outputs": [],
   "source": []
  }
 ],
 "metadata": {
  "kernelspec": {
   "display_name": "Python 3 (ipykernel)",
   "language": "python",
   "name": "python3"
  },
  "language_info": {
   "codemirror_mode": {
    "name": "ipython",
    "version": 3
   },
   "file_extension": ".py",
   "mimetype": "text/x-python",
   "name": "python",
   "nbconvert_exporter": "python",
   "pygments_lexer": "ipython3",
   "version": "3.9.12"
  }
 },
 "nbformat": 4,
 "nbformat_minor": 5
}
