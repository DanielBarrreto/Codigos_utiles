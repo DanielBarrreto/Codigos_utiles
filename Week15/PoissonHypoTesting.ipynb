{
 "cells": [
  {
   "cell_type": "code",
   "execution_count": 1,
   "id": "441e3d40",
   "metadata": {},
   "outputs": [],
   "source": [
    "import numpy as np\n",
    "import matplotlib.pyplot as plt\n",
    "from matplotlib import rc\n",
    "import pandas as pd\n",
    "from scipy.stats import chi2\n",
    "from scipy.stats import poisson\n",
    "\n",
    "from scipy.stats import norm\n",
    "\n",
    "import os.path as path\n",
    "import wget\n",
    "import os"
   ]
  },
  {
   "cell_type": "code",
   "execution_count": 2,
   "id": "eb388d0a",
   "metadata": {},
   "outputs": [
    {
     "name": "stdout",
     "output_type": "stream",
     "text": [
      "\r",
      "  0% [                                                                                    ]  0 / 66\r",
      "100% [....................................................................................] 66 / 66File loaded\n"
     ]
    }
   ],
   "source": [
    "# Descargamos data\n",
    "if not path.exists('Data'):\n",
    "    os.mkdir('Data')\n",
    "\n",
    "!rm Data/*\n",
    "\n",
    "file = 'Data/data.csv'\n",
    "url = 'https://raw.githubusercontent.com/asegura4488/Database/main/MetodosComputacionalesReforma/PoissonCars.csv'\n",
    "\n",
    "if not path.exists(file):\n",
    "    Path_ = wget.download(url,file)\n",
    "    print('File loaded')\n",
    "else:\n",
    "    Path_ = file"
   ]
  },
  {
   "cell_type": "code",
   "execution_count": 3,
   "id": "1a88e39a",
   "metadata": {},
   "outputs": [
    {
     "data": {
      "text/html": [
       "<div>\n",
       "<style scoped>\n",
       "    .dataframe tbody tr th:only-of-type {\n",
       "        vertical-align: middle;\n",
       "    }\n",
       "\n",
       "    .dataframe tbody tr th {\n",
       "        vertical-align: top;\n",
       "    }\n",
       "\n",
       "    .dataframe thead th {\n",
       "        text-align: right;\n",
       "    }\n",
       "</style>\n",
       "<table border=\"1\" class=\"dataframe\">\n",
       "  <thead>\n",
       "    <tr style=\"text-align: right;\">\n",
       "      <th></th>\n",
       "      <th>Errores</th>\n",
       "      <th>ObsFreq</th>\n",
       "    </tr>\n",
       "  </thead>\n",
       "  <tbody>\n",
       "    <tr>\n",
       "      <th>0</th>\n",
       "      <td>0</td>\n",
       "      <td>18</td>\n",
       "    </tr>\n",
       "    <tr>\n",
       "      <th>1</th>\n",
       "      <td>1</td>\n",
       "      <td>53</td>\n",
       "    </tr>\n",
       "    <tr>\n",
       "      <th>2</th>\n",
       "      <td>2</td>\n",
       "      <td>103</td>\n",
       "    </tr>\n",
       "    <tr>\n",
       "      <th>3</th>\n",
       "      <td>3</td>\n",
       "      <td>107</td>\n",
       "    </tr>\n",
       "    <tr>\n",
       "      <th>4</th>\n",
       "      <td>4</td>\n",
       "      <td>82</td>\n",
       "    </tr>\n",
       "    <tr>\n",
       "      <th>5</th>\n",
       "      <td>5</td>\n",
       "      <td>46</td>\n",
       "    </tr>\n",
       "    <tr>\n",
       "      <th>6</th>\n",
       "      <td>6</td>\n",
       "      <td>18</td>\n",
       "    </tr>\n",
       "    <tr>\n",
       "      <th>7</th>\n",
       "      <td>7</td>\n",
       "      <td>10</td>\n",
       "    </tr>\n",
       "    <tr>\n",
       "      <th>8</th>\n",
       "      <td>8</td>\n",
       "      <td>2</td>\n",
       "    </tr>\n",
       "    <tr>\n",
       "      <th>9</th>\n",
       "      <td>9</td>\n",
       "      <td>1</td>\n",
       "    </tr>\n",
       "  </tbody>\n",
       "</table>\n",
       "</div>"
      ],
      "text/plain": [
       "   Errores  ObsFreq\n",
       "0        0       18\n",
       "1        1       53\n",
       "2        2      103\n",
       "3        3      107\n",
       "4        4       82\n",
       "5        5       46\n",
       "6        6       18\n",
       "7        7       10\n",
       "8        8        2\n",
       "9        9        1"
      ]
     },
     "execution_count": 3,
     "metadata": {},
     "output_type": "execute_result"
    }
   ],
   "source": [
    "data = pd.read_csv(Path_)\n",
    "data"
   ]
  },
  {
   "cell_type": "code",
   "execution_count": 6,
   "id": "6e37a9bf",
   "metadata": {},
   "outputs": [],
   "source": [
    "Errores = data.Errores\n",
    "ObsFreq = data.ObsFreq\n",
    "N = np.sum(ObsFreq)"
   ]
  },
  {
   "cell_type": "code",
   "execution_count": 7,
   "id": "08ad8bd1",
   "metadata": {},
   "outputs": [
    {
     "data": {
      "text/plain": [
       "3.047727272727273"
      ]
     },
     "execution_count": 7,
     "metadata": {},
     "output_type": "execute_result"
    }
   ],
   "source": [
    "lambda_ = np.sum(Errores*ObsFreq)/N\n",
    "lambda_"
   ]
  },
  {
   "cell_type": "code",
   "execution_count": 13,
   "id": "1d5b1419",
   "metadata": {},
   "outputs": [
    {
     "data": {
      "text/plain": [
       "array([0.04746668, 0.1446655 , 0.22045049, 0.22395766, 0.17064047,\n",
       "       0.10401312, 0.05283394, 0.02300335, 0.00876349, 0.00296764])"
      ]
     },
     "execution_count": 13,
     "metadata": {},
     "output_type": "execute_result"
    }
   ],
   "source": [
    "pe = poisson.pmf(Errores,lambda_)\n",
    "pe"
   ]
  },
  {
   "cell_type": "code",
   "execution_count": 14,
   "id": "b55786ab",
   "metadata": {},
   "outputs": [
    {
     "data": {
      "text/plain": [
       "array([20.88533951, 63.65281884, 96.99821598, 98.54136941, 75.08180476,\n",
       "       45.76577281, 23.24693233, 10.12147281,  3.85593609,  1.30576018])"
      ]
     },
     "execution_count": 14,
     "metadata": {},
     "output_type": "execute_result"
    }
   ],
   "source": [
    "fe = pe*N\n",
    "fe"
   ]
  },
  {
   "cell_type": "code",
   "execution_count": 16,
   "id": "f0af5e62",
   "metadata": {},
   "outputs": [
    {
     "data": {
      "text/plain": [
       "0     18\n",
       "1     53\n",
       "2    103\n",
       "3    107\n",
       "4     82\n",
       "5     46\n",
       "6     18\n",
       "7     10\n",
       "8      2\n",
       "9      1\n",
       "Name: ObsFreq, dtype: int64"
      ]
     },
     "execution_count": 16,
     "metadata": {},
     "output_type": "execute_result"
    }
   ],
   "source": [
    "ObsFreq"
   ]
  },
  {
   "cell_type": "code",
   "execution_count": null,
   "id": "375ec644",
   "metadata": {},
   "outputs": [],
   "source": []
  }
 ],
 "metadata": {
  "kernelspec": {
   "display_name": "Python 3 (ipykernel)",
   "language": "python",
   "name": "python3"
  },
  "language_info": {
   "codemirror_mode": {
    "name": "ipython",
    "version": 3
   },
   "file_extension": ".py",
   "mimetype": "text/x-python",
   "name": "python",
   "nbconvert_exporter": "python",
   "pygments_lexer": "ipython3",
   "version": "3.9.12"
  }
 },
 "nbformat": 4,
 "nbformat_minor": 5
}
