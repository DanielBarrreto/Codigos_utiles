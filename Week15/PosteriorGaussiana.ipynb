{
 "cells": [
  {
   "cell_type": "code",
   "execution_count": 2,
   "id": "7057b46a",
   "metadata": {},
   "outputs": [
    {
     "data": {
      "text/html": [
       "<style>.container { width:100% !important; }</style>"
      ],
      "text/plain": [
       "<IPython.core.display.HTML object>"
      ]
     },
     "metadata": {},
     "output_type": "display_data"
    }
   ],
   "source": [
    "# %matplotlib notebook\n",
    "from IPython.display import display, IFrame, HTML\n",
    "display(HTML(\"<style>.container { width:100% !important; }</style>\"))\n",
    "\n",
    "import numpy             as np\n",
    "import matplotlib.pyplot as plt\n",
    "from mpl_toolkits.mplot3d import Axes3D\n",
    "\n",
    "from matplotlib          import rc \n",
    "from matplotlib          import cm\n",
    "\n",
    "import pandas as pd\n",
    "import corner\n",
    "\n",
    "import os\n",
    "import os.path as path\n",
    "import wget\n",
    "\n",
    "from tqdm import tqdm\n",
    "\n",
    "from scipy.integrate import dblquad\n",
    "from scipy.integrate import quad"
   ]
  },
  {
   "cell_type": "code",
   "execution_count": 3,
   "id": "28138f85",
   "metadata": {},
   "outputs": [
    {
     "name": "stdout",
     "output_type": "stream",
     "text": [
      "\r",
      "  0% [                                                                                ]    0 / 1836\r",
      "100% [................................................................................] 1836 / 1836File loaded\n"
     ]
    }
   ],
   "source": [
    "# Descargamos data\n",
    "if not path.exists('Data'):\n",
    "    os.mkdir('Data')\n",
    "\n",
    "!rm Data/*\n",
    "\n",
    "file = 'Data/Gaussiana.csv'\n",
    "url = 'https://raw.githubusercontent.com/asegura4488/Database/main/MetodosComputacionalesReforma/Gaussiano.csv'\n",
    "#url = 'https://raw.githubusercontent.com/asegura4488/DataBase/main/MetodosComputacionales/Likelihood.dat'\n",
    "if not path.exists(file):\n",
    "    Path_ = wget.download(url,file)\n",
    "    print('File loaded')\n",
    "else:\n",
    "    Path_ = file"
   ]
  },
  {
   "cell_type": "code",
   "execution_count": 10,
   "id": "ef2f3869",
   "metadata": {},
   "outputs": [],
   "source": [
    "data = pd.read_csv(Path_)\n",
    "X = data.x"
   ]
  },
  {
   "cell_type": "code",
   "execution_count": 11,
   "id": "c4e68ab5",
   "metadata": {},
   "outputs": [
    {
     "data": {
      "text/plain": [
       "(array([ 3.,  9.,  6., 13., 25., 19., 14.,  8.,  2.,  1.]),\n",
       " array([-0.3806526 ,  0.56123737,  1.50312733,  2.4450173 ,  3.38690727,\n",
       "         4.32879724,  5.2706872 ,  6.21257717,  7.15446714,  8.0963571 ,\n",
       "         9.03824707]),\n",
       " <BarContainer object of 10 artists>)"
      ]
     },
     "execution_count": 11,
     "metadata": {},
     "output_type": "execute_result"
    },
    {
     "data": {
      "image/png": "[encoded data removed]",
      "text/plain": [
       "<Figure size 432x288 with 1 Axes>"
      ]
     },
     "metadata": {
      "needs_background": "light"
     },
     "output_type": "display_data"
    }
   ],
   "source": [
    "plt.hist(data)"
   ]
  },
  {
   "cell_type": "code",
   "execution_count": 8,
   "id": "f3fefd2a",
   "metadata": {},
   "outputs": [],
   "source": [
    "def LogPrior(p):\n",
    "    \n",
    "    mu, sigma = p\n",
    "    \n",
    "    if 3 <= mu <= 5. and 0.5 <= sigma <= 3.5:\n",
    "        return 0.\n",
    "    else:\n",
    "        return -np.inf"
   ]
  },
  {
   "cell_type": "code",
   "execution_count": 9,
   "id": "3db484b6",
   "metadata": {},
   "outputs": [],
   "source": [
    "def Gauss(p,x):\n",
    "    \n",
    "    mu, sigma = p\n",
    "    \n",
    "    return np.exp( -0.5*(x-mu)**2/sigma**2  )/np.sqrt(2*np.pi*sigma**2)"
   ]
  },
  {
   "cell_type": "code",
   "execution_count": 13,
   "id": "2f3e9027",
   "metadata": {},
   "outputs": [],
   "source": [
    "#Gauss([4,1],X)"
   ]
  },
  {
   "cell_type": "code",
   "execution_count": 14,
   "id": "9b81d45e",
   "metadata": {},
   "outputs": [],
   "source": [
    "def Likelihood(p,x):\n",
    "    return Gauss(p,x)"
   ]
  },
  {
   "cell_type": "code",
   "execution_count": 15,
   "id": "f1c497f1",
   "metadata": {},
   "outputs": [],
   "source": [
    "def JointLikelihood(p,x):\n",
    "    return np.sum( np.log(Likelihood(p,x)) )"
   ]
  },
  {
   "cell_type": "code",
   "execution_count": 17,
   "id": "52091df3",
   "metadata": {},
   "outputs": [
    {
     "data": {
      "text/plain": [
       "-201.9620098710374"
      ]
     },
     "execution_count": 17,
     "metadata": {},
     "output_type": "execute_result"
    }
   ],
   "source": [
    "JointLikelihood([4,2],X)"
   ]
  },
  {
   "cell_type": "code",
   "execution_count": null,
   "id": "0654f6db",
   "metadata": {},
   "outputs": [],
   "source": [
    "def LogPosterior(p,x):\n",
    "    \n",
    "    LogP = LogPrior(p)"
   ]
  }
 ],
 "metadata": {
  "kernelspec": {
   "display_name": "Python 3 (ipykernel)",
   "language": "python",
   "name": "python3"
  },
  "language_info": {
   "codemirror_mode": {
    "name": "ipython",
    "version": 3
   },
   "file_extension": ".py",
   "mimetype": "text/x-python",
   "name": "python",
   "nbconvert_exporter": "python",
   "pygments_lexer": "ipython3",
   "version": "3.9.12"
  }
 },
 "nbformat": 4,
 "nbformat_minor": 5
}
