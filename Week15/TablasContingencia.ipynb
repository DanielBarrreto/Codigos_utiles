{
 "cells": [
  {
   "cell_type": "code",
   "execution_count": 1,
   "id": "b1491add",
   "metadata": {},
   "outputs": [],
   "source": [
    "import numpy as np\n",
    "import matplotlib.pyplot as plt\n",
    "from matplotlib import rc\n",
    "import pandas as pd\n",
    "from scipy.stats import chi2\n",
    "from scipy.stats import norm\n",
    "import os.path as path\n",
    "import wget\n",
    "import os"
   ]
  },
  {
   "cell_type": "code",
   "execution_count": 2,
   "id": "f39c30ca",
   "metadata": {},
   "outputs": [
    {
     "name": "stdout",
     "output_type": "stream",
     "text": [
      "\r",
      "  0% [                                                                                    ]  0 / 51\r",
      "100% [....................................................................................] 51 / 51File loaded\n"
     ]
    }
   ],
   "source": [
    "# Descargamos data\n",
    "if not path.exists('Data'):\n",
    "    os.mkdir('Data')\n",
    "\n",
    "!rm Data/*\n",
    "\n",
    "file = 'Data/data.csv'\n",
    "url = 'https://raw.githubusercontent.com/asegura4488/Database/main/MetodosComputacionalesReforma/Restaurante.csv'\n",
    "\n",
    "if not path.exists(file):\n",
    "    Path_ = wget.download(url,file)\n",
    "    print('File loaded')\n",
    "else:\n",
    "    Path_ = file"
   ]
  },
  {
   "cell_type": "code",
   "execution_count": 3,
   "id": "8b587490",
   "metadata": {},
   "outputs": [
    {
     "data": {
      "text/html": [
       "<div>\n",
       "<style scoped>\n",
       "    .dataframe tbody tr th:only-of-type {\n",
       "        vertical-align: middle;\n",
       "    }\n",
       "\n",
       "    .dataframe tbody tr th {\n",
       "        vertical-align: top;\n",
       "    }\n",
       "\n",
       "    .dataframe thead th {\n",
       "        text-align: right;\n",
       "    }\n",
       "</style>\n",
       "<table border=\"1\" class=\"dataframe\">\n",
       "  <thead>\n",
       "    <tr style=\"text-align: right;\">\n",
       "      <th></th>\n",
       "      <th>Precio1</th>\n",
       "      <th>Precio2</th>\n",
       "      <th>Precio3</th>\n",
       "    </tr>\n",
       "  </thead>\n",
       "  <tbody>\n",
       "    <tr>\n",
       "      <th>0</th>\n",
       "      <td>38</td>\n",
       "      <td>55</td>\n",
       "      <td>52</td>\n",
       "    </tr>\n",
       "    <tr>\n",
       "      <th>1</th>\n",
       "      <td>39</td>\n",
       "      <td>65</td>\n",
       "      <td>55</td>\n",
       "    </tr>\n",
       "    <tr>\n",
       "      <th>2</th>\n",
       "      <td>43</td>\n",
       "      <td>60</td>\n",
       "      <td>63</td>\n",
       "    </tr>\n",
       "  </tbody>\n",
       "</table>\n",
       "</div>"
      ],
      "text/plain": [
       "   Precio1  Precio2  Precio3\n",
       "0       38       55       52\n",
       "1       39       65       55\n",
       "2       43       60       63"
      ]
     },
     "execution_count": 3,
     "metadata": {},
     "output_type": "execute_result"
    }
   ],
   "source": [
    "data = pd.read_csv(Path_,sep=',')\n",
    "data"
   ]
  },
  {
   "cell_type": "code",
   "execution_count": 10,
   "id": "9ae8af2d",
   "metadata": {},
   "outputs": [
    {
     "data": {
      "text/plain": [
       "array([[38., 55., 52.],\n",
       "       [39., 65., 55.],\n",
       "       [43., 60., 63.]])"
      ]
     },
     "execution_count": 10,
     "metadata": {},
     "output_type": "execute_result"
    }
   ],
   "source": [
    "f = np.array(data,np.float64)\n",
    "f"
   ]
  },
  {
   "cell_type": "code",
   "execution_count": 11,
   "id": "8bd4e28d",
   "metadata": {},
   "outputs": [
    {
     "data": {
      "text/plain": [
       "470.0"
      ]
     },
     "execution_count": 11,
     "metadata": {},
     "output_type": "execute_result"
    }
   ],
   "source": [
    "N = np.sum(f)\n",
    "N"
   ]
  },
  {
   "cell_type": "code",
   "execution_count": 12,
   "id": "b17682c7",
   "metadata": {},
   "outputs": [
    {
     "data": {
      "text/plain": [
       "array([[0.08085106, 0.11702128, 0.1106383 ],\n",
       "       [0.08297872, 0.13829787, 0.11702128],\n",
       "       [0.09148936, 0.12765957, 0.13404255]])"
      ]
     },
     "execution_count": 12,
     "metadata": {},
     "output_type": "execute_result"
    }
   ],
   "source": [
    "f = f/N\n",
    "f"
   ]
  },
  {
   "cell_type": "code",
   "execution_count": 18,
   "id": "825675da",
   "metadata": {},
   "outputs": [],
   "source": [
    "g = np.sum(f,axis=1)\n",
    "h = np.sum(f,axis=0)"
   ]
  },
  {
   "cell_type": "code",
   "execution_count": 19,
   "id": "16f00a5a",
   "metadata": {},
   "outputs": [
    {
     "data": {
      "text/plain": [
       "array([0.30851064, 0.33829787, 0.35319149])"
      ]
     },
     "execution_count": 19,
     "metadata": {},
     "output_type": "execute_result"
    }
   ],
   "source": [
    "g"
   ]
  },
  {
   "cell_type": "code",
   "execution_count": 20,
   "id": "0aa1bcae",
   "metadata": {},
   "outputs": [
    {
     "data": {
      "text/plain": [
       "array([0.25531915, 0.38297872, 0.36170213])"
      ]
     },
     "execution_count": 20,
     "metadata": {},
     "output_type": "execute_result"
    }
   ],
   "source": [
    "h"
   ]
  },
  {
   "cell_type": "code",
   "execution_count": 21,
   "id": "78b67419",
   "metadata": {},
   "outputs": [
    {
     "data": {
      "text/plain": [
       "array([[0., 0., 0.],\n",
       "       [0., 0., 0.],\n",
       "       [0., 0., 0.]])"
      ]
     },
     "execution_count": 21,
     "metadata": {},
     "output_type": "execute_result"
    }
   ],
   "source": [
    "po = np.zeros_like(f)\n",
    "po"
   ]
  },
  {
   "cell_type": "code",
   "execution_count": 22,
   "id": "6ddd9721",
   "metadata": {},
   "outputs": [],
   "source": [
    "for i in range(3):\n",
    "    for j in range(3):\n",
    "        po[i,j] = g[i]*h[j]"
   ]
  },
  {
   "cell_type": "code",
   "execution_count": 23,
   "id": "50291ad8",
   "metadata": {},
   "outputs": [
    {
     "data": {
      "text/plain": [
       "array([[0.07876867, 0.11815301, 0.11158895],\n",
       "       [0.08637392, 0.12956089, 0.12236306],\n",
       "       [0.09017655, 0.13526483, 0.12775011]])"
      ]
     },
     "execution_count": 23,
     "metadata": {},
     "output_type": "execute_result"
    }
   ],
   "source": [
    "po"
   ]
  },
  {
   "cell_type": "code",
   "execution_count": 24,
   "id": "26140fc0",
   "metadata": {},
   "outputs": [
    {
     "data": {
      "text/plain": [
       "array([[0.08085106, 0.11702128, 0.1106383 ],\n",
       "       [0.08297872, 0.13829787, 0.11702128],\n",
       "       [0.09148936, 0.12765957, 0.13404255]])"
      ]
     },
     "execution_count": 24,
     "metadata": {},
     "output_type": "execute_result"
    }
   ],
   "source": [
    "f"
   ]
  },
  {
   "cell_type": "code",
   "execution_count": 25,
   "id": "fb722902",
   "metadata": {},
   "outputs": [],
   "source": [
    "fo = f*N\n",
    "fe = po*N"
   ]
  },
  {
   "cell_type": "code",
   "execution_count": 27,
   "id": "a2749159",
   "metadata": {},
   "outputs": [
    {
     "data": {
      "text/plain": [
       "array([[38., 55., 52.],\n",
       "       [39., 65., 55.],\n",
       "       [43., 60., 63.]])"
      ]
     },
     "execution_count": 27,
     "metadata": {},
     "output_type": "execute_result"
    }
   ],
   "source": [
    "fo"
   ]
  },
  {
   "cell_type": "code",
   "execution_count": 28,
   "id": "42b5a3d9",
   "metadata": {},
   "outputs": [
    {
     "data": {
      "text/plain": [
       "array([[37.0212766 , 55.53191489, 52.44680851],\n",
       "       [40.59574468, 60.89361702, 57.5106383 ],\n",
       "       [42.38297872, 63.57446809, 60.04255319]])"
      ]
     },
     "execution_count": 28,
     "metadata": {},
     "output_type": "execute_result"
    }
   ],
   "source": [
    "fe"
   ]
  },
  {
   "cell_type": "code",
   "execution_count": 29,
   "id": "8d1bb13f",
   "metadata": {},
   "outputs": [],
   "source": [
    "def GetChi2(x,y):\n",
    "    return np.sum( (x-y)**2/y )"
   ]
  },
  {
   "cell_type": "code",
   "execution_count": 30,
   "id": "30840b22",
   "metadata": {},
   "outputs": [
    {
     "data": {
      "text/plain": [
       "0.8396477840721938"
      ]
     },
     "execution_count": 30,
     "metadata": {},
     "output_type": "execute_result"
    }
   ],
   "source": [
    "ObsChi2 = GetChi2(fo,fe)\n",
    "ObsChi2"
   ]
  },
  {
   "cell_type": "code",
   "execution_count": 31,
   "id": "f666c009",
   "metadata": {},
   "outputs": [],
   "source": [
    "df = 4"
   ]
  },
  {
   "cell_type": "code",
   "execution_count": 32,
   "id": "1d4d38b5",
   "metadata": {},
   "outputs": [
    {
     "data": {
      "text/plain": [
       "9.487729036781154"
      ]
     },
     "execution_count": 32,
     "metadata": {},
     "output_type": "execute_result"
    }
   ],
   "source": [
    "# Valor critico\n",
    "CriChi2 = chi2.ppf(0.95,df=df)\n",
    "CriChi2"
   ]
  },
  {
   "cell_type": "code",
   "execution_count": 33,
   "id": "f46f8820",
   "metadata": {},
   "outputs": [],
   "source": [
    "x = np.linspace(0,20,50)\n",
    "y = chi2.pdf(x,df=df)"
   ]
  },
  {
   "cell_type": "code",
   "execution_count": 37,
   "id": "161fc8aa",
   "metadata": {},
   "outputs": [
    {
     "data": {
      "text/plain": [
       "<matplotlib.lines.Line2D at 0x7f05bffa0b80>"
      ]
     },
     "execution_count": 37,
     "metadata": {},
     "output_type": "execute_result"
    },
    {
     "data": {
      "image/png": "[encoded data removed]",
      "text/plain": [
       "<Figure size 432x288 with 1 Axes>"
      ]
     },
     "metadata": {
      "needs_background": "light"
     },
     "output_type": "display_data"
    }
   ],
   "source": [
    "plt.plot(x,y)\n",
    "plt.axvline(x=ObsChi2,color='k')\n",
    "plt.axvline(x=CriChi2,color='r')"
   ]
  },
  {
   "cell_type": "code",
   "execution_count": 43,
   "id": "631d105d",
   "metadata": {},
   "outputs": [],
   "source": [
    "CL = chi2.cdf(ObsChi2,df=df)"
   ]
  },
  {
   "cell_type": "code",
   "execution_count": 44,
   "id": "70395316",
   "metadata": {},
   "outputs": [],
   "source": [
    "pvalue = 1 - CL"
   ]
  },
  {
   "cell_type": "code",
   "execution_count": 45,
   "id": "9f25bcc4",
   "metadata": {},
   "outputs": [
    {
     "data": {
      "text/plain": [
       "0.9330550769215175"
      ]
     },
     "execution_count": 45,
     "metadata": {},
     "output_type": "execute_result"
    }
   ],
   "source": [
    "pvalue"
   ]
  },
  {
   "cell_type": "code",
   "execution_count": null,
   "id": "b45461be",
   "metadata": {},
   "outputs": [],
   "source": []
  }
 ],
 "metadata": {
  "kernelspec": {
   "display_name": "Python 3 (ipykernel)",
   "language": "python",
   "name": "python3"
  },
  "language_info": {
   "codemirror_mode": {
    "name": "ipython",
    "version": 3
   },
   "file_extension": ".py",
   "mimetype": "text/x-python",
   "name": "python",
   "nbconvert_exporter": "python",
   "pygments_lexer": "ipython3",
   "version": "3.9.12"
  }
 },
 "nbformat": 4,
 "nbformat_minor": 5
}
