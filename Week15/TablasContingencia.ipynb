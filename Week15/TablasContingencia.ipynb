{
 "cells": [
  {
   "cell_type": "code",
   "execution_count": 1,
   "id": "b1491add",
   "metadata": {},
   "outputs": [],
   "source": [
    "import numpy as np\n",
    "import matplotlib.pyplot as plt\n",
    "from matplotlib import rc\n",
    "import pandas as pd\n",
    "from scipy.stats import chi2\n",
    "from scipy.stats import norm\n",
    "import os.path as path\n",
    "import wget\n",
    "import os"
   ]
  },
  {
   "cell_type": "code",
   "execution_count": 2,
   "id": "f39c30ca",
   "metadata": {},
   "outputs": [
    {
     "name": "stdout",
     "output_type": "stream",
     "text": [
      "\r",
      "  0% [                                                                                    ]  0 / 51\r",
      "100% [....................................................................................] 51 / 51File loaded\n"
     ]
    }
   ],
   "source": [
    "# Descargamos data\n",
    "if not path.exists('Data'):\n",
    "    os.mkdir('Data')\n",
    "\n",
    "!rm Data/*\n",
    "\n",
    "file = 'Data/data.csv'\n",
    "url = 'https://raw.githubusercontent.com/asegura4488/Database/main/MetodosComputacionalesReforma/Restaurante.csv'\n",
    "\n",
    "if not path.exists(file):\n",
    "    Path_ = wget.download(url,file)\n",
    "    print('File loaded')\n",
    "else:\n",
    "    Path_ = file"
   ]
  },
  {
   "cell_type": "code",
   "execution_count": 3,
   "id": "8b587490",
   "metadata": {},
   "outputs": [
    {
     "data": {
      "text/html": [
       "<div>\n",
       "<style scoped>\n",
       "    .dataframe tbody tr th:only-of-type {\n",
       "        vertical-align: middle;\n",
       "    }\n",
       "\n",
       "    .dataframe tbody tr th {\n",
       "        vertical-align: top;\n",
       "    }\n",
       "\n",
       "    .dataframe thead th {\n",
       "        text-align: right;\n",
       "    }\n",
       "</style>\n",
       "<table border=\"1\" class=\"dataframe\">\n",
       "  <thead>\n",
       "    <tr style=\"text-align: right;\">\n",
       "      <th></th>\n",
       "      <th>Precio1</th>\n",
       "      <th>Precio2</th>\n",
       "      <th>Precio3</th>\n",
       "    </tr>\n",
       "  </thead>\n",
       "  <tbody>\n",
       "    <tr>\n",
       "      <th>0</th>\n",
       "      <td>38</td>\n",
       "      <td>55</td>\n",
       "      <td>52</td>\n",
       "    </tr>\n",
       "    <tr>\n",
       "      <th>1</th>\n",
       "      <td>39</td>\n",
       "      <td>65</td>\n",
       "      <td>55</td>\n",
       "    </tr>\n",
       "    <tr>\n",
       "      <th>2</th>\n",
       "      <td>43</td>\n",
       "      <td>60</td>\n",
       "      <td>63</td>\n",
       "    </tr>\n",
       "  </tbody>\n",
       "</table>\n",
       "</div>"
      ],
      "text/plain": [
       "   Precio1  Precio2  Precio3\n",
       "0       38       55       52\n",
       "1       39       65       55\n",
       "2       43       60       63"
      ]
     },
     "execution_count": 3,
     "metadata": {},
     "output_type": "execute_result"
    }
   ],
   "source": [
    "data = pd.read_csv(Path_,sep=',')\n",
    "data"
   ]
  },
  {
   "cell_type": "code",
   "execution_count": 10,
   "id": "da8122fa",
   "metadata": {},
   "outputs": [
    {
     "data": {
      "text/plain": [
       "array([[38., 55., 52.],\n",
       "       [39., 65., 55.],\n",
       "       [43., 60., 63.]])"
      ]
     },
     "execution_count": 10,
     "metadata": {},
     "output_type": "execute_result"
    }
   ],
   "source": [
    "f = np.array(data,np.float64)\n",
    "f"
   ]
  },
  {
   "cell_type": "code",
   "execution_count": 11,
   "id": "8bd4e28d",
   "metadata": {},
   "outputs": [
    {
     "data": {
      "text/plain": [
       "470.0"
      ]
     },
     "execution_count": 11,
     "metadata": {},
     "output_type": "execute_result"
    }
   ],
   "source": [
    "N = np.sum(f)\n",
    "N"
   ]
  },
  {
   "cell_type": "code",
   "execution_count": 12,
   "id": "b7af2424",
   "metadata": {},
   "outputs": [
    {
     "data": {
      "text/plain": [
       "array([[0.08085106, 0.11702128, 0.1106383 ],\n",
       "       [0.08297872, 0.13829787, 0.11702128],\n",
       "       [0.09148936, 0.12765957, 0.13404255]])"
      ]
     },
     "execution_count": 12,
     "metadata": {},
     "output_type": "execute_result"
    }
   ],
   "source": [
    "f = f/N\n",
    "f"
   ]
  },
  {
   "cell_type": "code",
   "execution_count": 18,
   "id": "822407d5",
   "metadata": {},
   "outputs": [],
   "source": [
    "g = np.sum(f,axis=1)\n",
    "h = np.sum(f,axis=0)"
   ]
  },
  {
   "cell_type": "code",
   "execution_count": 19,
   "id": "0ffe5399",
   "metadata": {},
   "outputs": [
    {
     "data": {
      "text/plain": [
       "array([0.30851064, 0.33829787, 0.35319149])"
      ]
     },
     "execution_count": 19,
     "metadata": {},
     "output_type": "execute_result"
    }
   ],
   "source": [
    "g"
   ]
  },
  {
   "cell_type": "code",
   "execution_count": 20,
   "id": "ead28bb4",
   "metadata": {},
   "outputs": [
    {
     "data": {
      "text/plain": [
       "array([0.25531915, 0.38297872, 0.36170213])"
      ]
     },
     "execution_count": 20,
     "metadata": {},
     "output_type": "execute_result"
    }
   ],
   "source": [
    "h"
   ]
  },
  {
   "cell_type": "code",
   "execution_count": 21,
   "id": "ec0225f6",
   "metadata": {},
   "outputs": [
    {
     "data": {
      "text/plain": [
       "array([[0., 0., 0.],\n",
       "       [0., 0., 0.],\n",
       "       [0., 0., 0.]])"
      ]
     },
     "execution_count": 21,
     "metadata": {},
     "output_type": "execute_result"
    }
   ],
   "source": [
    "po = np.zeros_like(f)\n",
    "po"
   ]
  },
  {
   "cell_type": "code",
   "execution_count": 22,
   "id": "35b8f34d",
   "metadata": {},
   "outputs": [],
   "source": [
    "for i in range(3):\n",
    "    for j in range(3):\n",
    "        po[i,j] = g[i]*h[j]"
   ]
  },
  {
   "cell_type": "code",
   "execution_count": 23,
   "id": "fac61253",
   "metadata": {},
   "outputs": [
    {
     "data": {
      "text/plain": [
       "array([[0.07876867, 0.11815301, 0.11158895],\n",
       "       [0.08637392, 0.12956089, 0.12236306],\n",
       "       [0.09017655, 0.13526483, 0.12775011]])"
      ]
     },
     "execution_count": 23,
     "metadata": {},
     "output_type": "execute_result"
    }
   ],
   "source": [
    "po"
   ]
  },
  {
   "cell_type": "code",
   "execution_count": 24,
   "id": "d25a6b75",
   "metadata": {},
   "outputs": [
    {
     "data": {
      "text/plain": [
       "array([[0.08085106, 0.11702128, 0.1106383 ],\n",
       "       [0.08297872, 0.13829787, 0.11702128],\n",
       "       [0.09148936, 0.12765957, 0.13404255]])"
      ]
     },
     "execution_count": 24,
     "metadata": {},
     "output_type": "execute_result"
    }
   ],
   "source": [
    "f"
   ]
  },
  {
   "cell_type": "code",
   "execution_count": 25,
   "id": "9983fa38",
   "metadata": {},
   "outputs": [],
   "source": [
    "fo = f*N\n",
    "fe = po*N"
   ]
  },
  {
   "cell_type": "code",
   "execution_count": 27,
   "id": "3faf90a9",
   "metadata": {},
   "outputs": [
    {
     "data": {
      "text/plain": [
       "array([[38., 55., 52.],\n",
       "       [39., 65., 55.],\n",
       "       [43., 60., 63.]])"
      ]
     },
     "execution_count": 27,
     "metadata": {},
     "output_type": "execute_result"
    }
   ],
   "source": [
    "fo"
   ]
  },
  {
   "cell_type": "code",
   "execution_count": 28,
   "id": "0f87afc5",
   "metadata": {},
   "outputs": [
    {
     "data": {
      "text/plain": [
       "array([[37.0212766 , 55.53191489, 52.44680851],\n",
       "       [40.59574468, 60.89361702, 57.5106383 ],\n",
       "       [42.38297872, 63.57446809, 60.04255319]])"
      ]
     },
     "execution_count": 28,
     "metadata": {},
     "output_type": "execute_result"
    }
   ],
   "source": [
    "fe"
   ]
  },
  {
   "cell_type": "code",
   "execution_count": null,
   "id": "f4362695",
   "metadata": {},
   "outputs": [],
   "source": []
  }
 ],
 "metadata": {
  "kernelspec": {
   "display_name": "Python 3 (ipykernel)",
   "language": "python",
   "name": "python3"
  },
  "language_info": {
   "codemirror_mode": {
    "name": "ipython",
    "version": 3
   },
   "file_extension": ".py",
   "mimetype": "text/x-python",
   "name": "python",
   "nbconvert_exporter": "python",
   "pygments_lexer": "ipython3",
   "version": "3.9.12"
  }
 },
 "nbformat": 4,
 "nbformat_minor": 5
}
