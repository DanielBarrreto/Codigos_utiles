{
 "cells": [
  {
   "cell_type": "code",
   "execution_count": 4,
   "id": "4495bdf0",
   "metadata": {},
   "outputs": [
    {
     "data": {
      "text/html": [
       "<style>.container { width:90% !important; }</style>"
      ],
      "text/plain": [
       "<IPython.core.display.HTML object>"
      ]
     },
     "metadata": {},
     "output_type": "display_data"
    }
   ],
   "source": [
    "from IPython.display import display, HTML\n",
    "display(HTML(\"<style>.container { width:90% !important; }</style>\"))\n",
    "\n",
    "import numpy as np\n",
    "import matplotlib.pyplot as plt\n",
    "from scipy.stats import bernoulli\n",
    "from scipy.stats import binom\n",
    "from scipy.stats import poisson"
   ]
  },
  {
   "cell_type": "code",
   "execution_count": 5,
   "id": "f1671dae",
   "metadata": {},
   "outputs": [],
   "source": [
    "def GetHisto(Data,bins):\n",
    "    \n",
    "    h, bins = np.histogram(Data,bins=bins)\n",
    "    w = np.diff(bins) # Ancho de clase\n",
    "    m = bins[:-1] + 0.5*w[0]\n",
    "    \n",
    "    hnorm = h/np.sum(h*w)\n",
    "    \n",
    "    return h,hnorm,m,w"
   ]
  },
  {
   "cell_type": "code",
   "execution_count": 6,
   "id": "7226f45f",
   "metadata": {},
   "outputs": [],
   "source": [
    "p = 1/6\n",
    "N = 1000"
   ]
  },
  {
   "cell_type": "code",
   "execution_count": 7,
   "id": "9dc10ff1",
   "metadata": {},
   "outputs": [],
   "source": [
    "b = bernoulli.rvs(p , size=N)"
   ]
  },
  {
   "cell_type": "code",
   "execution_count": 8,
   "id": "c3d92dba",
   "metadata": {},
   "outputs": [
    {
     "data": {
      "text/plain": [
       "array([0., 1., 2.])"
      ]
     },
     "execution_count": 8,
     "metadata": {},
     "output_type": "execute_result"
    }
   ],
   "source": [
    "xbins = np.linspace(0,2,3)\n",
    "xbins"
   ]
  },
  {
   "cell_type": "code",
   "execution_count": 9,
   "id": "318facc3",
   "metadata": {},
   "outputs": [],
   "source": [
    "Hb,HNb,mb,w = GetHisto(b,xbins)"
   ]
  },
  {
   "cell_type": "code",
   "execution_count": 10,
   "id": "00288137",
   "metadata": {},
   "outputs": [
    {
     "data": {
      "text/plain": [
       "array([824, 176])"
      ]
     },
     "execution_count": 10,
     "metadata": {},
     "output_type": "execute_result"
    }
   ],
   "source": [
    "Hb"
   ]
  },
  {
   "cell_type": "code",
   "execution_count": 11,
   "id": "df19d1bf",
   "metadata": {},
   "outputs": [
    {
     "data": {
      "text/plain": [
       "array([0.824, 0.176])"
      ]
     },
     "execution_count": 11,
     "metadata": {},
     "output_type": "execute_result"
    }
   ],
   "source": [
    "HNb"
   ]
  },
  {
   "cell_type": "code",
   "execution_count": 12,
   "id": "84342312",
   "metadata": {},
   "outputs": [
    {
     "data": {
      "text/plain": [
       "<BarContainer object of 2 artists>"
      ]
     },
     "execution_count": 12,
     "metadata": {},
     "output_type": "execute_result"
    },
    {
     "data": {
      "image/png": "[encoded data removed]",
      "text/plain": [
       "<Figure size 432x288 with 1 Axes>"
      ]
     },
     "metadata": {
      "needs_background": "light"
     },
     "output_type": "display_data"
    }
   ],
   "source": [
    "plt.bar( mb, HNb, width=w, ec='k' )"
   ]
  },
  {
   "cell_type": "code",
   "execution_count": 14,
   "id": "21dc2748",
   "metadata": {},
   "outputs": [
    {
     "name": "stdout",
     "output_type": "stream",
     "text": [
      "0.176 0.16666666666666666\n"
     ]
    }
   ],
   "source": [
    "x = np.array([0,1])\n",
    "E = np.sum( HNb*x )\n",
    "print(E, 1/6.)"
   ]
  },
  {
   "cell_type": "code",
   "execution_count": 15,
   "id": "78c50883",
   "metadata": {},
   "outputs": [],
   "source": [
    "n, p = 2, 1/6."
   ]
  },
  {
   "cell_type": "code",
   "execution_count": 18,
   "id": "1f3e09ff",
   "metadata": {},
   "outputs": [
    {
     "data": {
      "text/plain": [
       "array([0., 1., 2., 3.])"
      ]
     },
     "execution_count": 18,
     "metadata": {},
     "output_type": "execute_result"
    }
   ],
   "source": [
    "binomial = binom.rvs( n,p,size=N )\n",
    "xbins = np.linspace(0,3,4)\n",
    "xbins"
   ]
  },
  {
   "cell_type": "code",
   "execution_count": 19,
   "id": "a9c8ab97",
   "metadata": {},
   "outputs": [],
   "source": [
    "Hb,HNb,mb,w = GetHisto(binomial,xbins)"
   ]
  },
  {
   "cell_type": "code",
   "execution_count": 21,
   "id": "58f93dcc",
   "metadata": {},
   "outputs": [
    {
     "data": {
      "text/plain": [
       "array([0.716, 0.261, 0.023])"
      ]
     },
     "execution_count": 21,
     "metadata": {},
     "output_type": "execute_result"
    }
   ],
   "source": [
    "HNb"
   ]
  },
  {
   "cell_type": "code",
   "execution_count": 24,
   "id": "20891ae4",
   "metadata": {},
   "outputs": [
    {
     "name": "stdout",
     "output_type": "stream",
     "text": [
      "0.6944444444444444 0.027777777777777776\n"
     ]
    }
   ],
   "source": [
    "print(25/36.,1/36.)"
   ]
  },
  {
   "cell_type": "code",
   "execution_count": 22,
   "id": "e948eff0",
   "metadata": {},
   "outputs": [
    {
     "data": {
      "text/plain": [
       "<BarContainer object of 3 artists>"
      ]
     },
     "execution_count": 22,
     "metadata": {},
     "output_type": "execute_result"
    },
    {
     "data": {
      "image/png": "[encoded data removed]",
      "text/plain": [
       "<Figure size 432x288 with 1 Axes>"
      ]
     },
     "metadata": {
      "needs_background": "light"
     },
     "output_type": "display_data"
    }
   ],
   "source": [
    "plt.bar( mb, HNb, width=w, ec='k' )"
   ]
  },
  {
   "cell_type": "code",
   "execution_count": 28,
   "id": "7add5b1d",
   "metadata": {},
   "outputs": [],
   "source": [
    "mu = 0.5\n",
    "Pois = poisson.rvs(mu, size=N)\n",
    "#Pois"
   ]
  },
  {
   "cell_type": "code",
   "execution_count": 29,
   "id": "459d3d72",
   "metadata": {},
   "outputs": [
    {
     "data": {
      "text/plain": [
       "array([0., 1., 2., 3., 4., 5., 6.])"
      ]
     },
     "execution_count": 29,
     "metadata": {},
     "output_type": "execute_result"
    }
   ],
   "source": [
    "xbins = np.linspace(0,6,7)\n",
    "xbins"
   ]
  },
  {
   "cell_type": "code",
   "execution_count": 30,
   "id": "d25573cd",
   "metadata": {},
   "outputs": [],
   "source": [
    "Hb,HNb,mb,w = GetHisto(Pois,xbins)"
   ]
  },
  {
   "cell_type": "code",
   "execution_count": 31,
   "id": "16a2e5e1",
   "metadata": {},
   "outputs": [
    {
     "data": {
      "text/plain": [
       "<BarContainer object of 6 artists>"
      ]
     },
     "execution_count": 31,
     "metadata": {},
     "output_type": "execute_result"
    },
    {
     "data": {
      "image/png": "[encoded data removed]",
      "text/plain": [
       "<Figure size 432x288 with 1 Axes>"
      ]
     },
     "metadata": {
      "needs_background": "light"
     },
     "output_type": "display_data"
    }
   ],
   "source": [
    "plt.bar( mb, HNb, width=w, ec='k' )"
   ]
  },
  {
   "cell_type": "code",
   "execution_count": null,
   "id": "c0b5e3fe",
   "metadata": {},
   "outputs": [],
   "source": []
  }
 ],
 "metadata": {
  "kernelspec": {
   "display_name": "Python 3 (ipykernel)",
   "language": "python",
   "name": "python3"
  },
  "language_info": {
   "codemirror_mode": {
    "name": "ipython",
    "version": 3
   },
   "file_extension": ".py",
   "mimetype": "text/x-python",
   "name": "python",
   "nbconvert_exporter": "python",
   "pygments_lexer": "ipython3",
   "version": "3.9.12"
  }
 },
 "nbformat": 4,
 "nbformat_minor": 5
}
