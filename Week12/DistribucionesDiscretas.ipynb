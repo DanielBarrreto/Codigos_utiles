{
 "cells": [
  {
   "cell_type": "code",
   "execution_count": 4,
   "id": "4495bdf0",
   "metadata": {},
   "outputs": [
    {
     "data": {
      "text/html": [
       "<style>.container { width:90% !important; }</style>"
      ],
      "text/plain": [
       "<IPython.core.display.HTML object>"
      ]
     },
     "metadata": {},
     "output_type": "display_data"
    }
   ],
   "source": [
    "from IPython.display import display, HTML\n",
    "display(HTML(\"<style>.container { width:90% !important; }</style>\"))\n",
    "\n",
    "import numpy as np\n",
    "import matplotlib.pyplot as plt\n",
    "from scipy.stats import bernoulli\n",
    "from scipy.stats import binom\n",
    "from scipy.stats import poisson"
   ]
  },
  {
   "cell_type": "code",
   "execution_count": 5,
   "id": "f1671dae",
   "metadata": {},
   "outputs": [],
   "source": [
    "def GetHisto(Data,bins):\n",
    "    \n",
    "    h, bins = np.histogram(Data,bins=bins)\n",
    "    w = np.diff(bins) # Ancho de clase\n",
    "    m = bins[:-1] + 0.5*w[0]\n",
    "    \n",
    "    hnorm = h/np.sum(h*w)\n",
    "    \n",
    "    return h,hnorm,m,w"
   ]
  },
  {
   "cell_type": "code",
   "execution_count": 6,
   "id": "98a43971",
   "metadata": {},
   "outputs": [],
   "source": [
    "p = 1/6\n",
    "N = 1000"
   ]
  },
  {
   "cell_type": "code",
   "execution_count": 7,
   "id": "c68d4ca7",
   "metadata": {},
   "outputs": [],
   "source": [
    "b = bernoulli.rvs(p , size=N)"
   ]
  },
  {
   "cell_type": "code",
   "execution_count": 8,
   "id": "c78378de",
   "metadata": {},
   "outputs": [
    {
     "data": {
      "text/plain": [
       "array([0., 1., 2.])"
      ]
     },
     "execution_count": 8,
     "metadata": {},
     "output_type": "execute_result"
    }
   ],
   "source": [
    "xbins = np.linspace(0,2,3)\n",
    "xbins"
   ]
  },
  {
   "cell_type": "code",
   "execution_count": 9,
   "id": "c87a2c71",
   "metadata": {},
   "outputs": [],
   "source": [
    "Hb,HNb,mb,w = GetHisto(b,xbins)"
   ]
  },
  {
   "cell_type": "code",
   "execution_count": 10,
   "id": "843a31a9",
   "metadata": {},
   "outputs": [
    {
     "data": {
      "text/plain": [
       "array([824, 176])"
      ]
     },
     "execution_count": 10,
     "metadata": {},
     "output_type": "execute_result"
    }
   ],
   "source": [
    "Hb"
   ]
  },
  {
   "cell_type": "code",
   "execution_count": 11,
   "id": "ca322c28",
   "metadata": {},
   "outputs": [
    {
     "data": {
      "text/plain": [
       "array([0.824, 0.176])"
      ]
     },
     "execution_count": 11,
     "metadata": {},
     "output_type": "execute_result"
    }
   ],
   "source": [
    "HNb"
   ]
  },
  {
   "cell_type": "code",
   "execution_count": 12,
   "id": "be6fa618",
   "metadata": {},
   "outputs": [
    {
     "data": {
      "text/plain": [
       "<BarContainer object of 2 artists>"
      ]
     },
     "execution_count": 12,
     "metadata": {},
     "output_type": "execute_result"
    },
    {
     "data": {
      "image/png": "[encoded data removed]",
      "text/plain": [
       "<Figure size 432x288 with 1 Axes>"
      ]
     },
     "metadata": {
      "needs_background": "light"
     },
     "output_type": "display_data"
    }
   ],
   "source": [
    "plt.bar( mb, HNb, width=w, ec='k' )"
   ]
  },
  {
   "cell_type": "code",
   "execution_count": null,
   "id": "6d143920",
   "metadata": {},
   "outputs": [],
   "source": []
  }
 ],
 "metadata": {
  "kernelspec": {
   "display_name": "Python 3 (ipykernel)",
   "language": "python",
   "name": "python3"
  },
  "language_info": {
   "codemirror_mode": {
    "name": "ipython",
    "version": 3
   },
   "file_extension": ".py",
   "mimetype": "text/x-python",
   "name": "python",
   "nbconvert_exporter": "python",
   "pygments_lexer": "ipython3",
   "version": "3.9.12"
  }
 },
 "nbformat": 4,
 "nbformat_minor": 5
}
