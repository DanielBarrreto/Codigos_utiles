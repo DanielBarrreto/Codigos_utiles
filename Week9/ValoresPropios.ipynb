{
 "cells": [
  {
   "cell_type": "code",
   "execution_count": 25,
   "id": "62a16127",
   "metadata": {},
   "outputs": [],
   "source": [
    "import numpy as np"
   ]
  },
  {
   "cell_type": "code",
   "execution_count": 26,
   "id": "320652a6",
   "metadata": {},
   "outputs": [
    {
     "data": {
      "text/plain": [
       "array([[ 1.,  2., -1.],\n",
       "       [ 1.,  0.,  1.],\n",
       "       [ 4., -4.,  5.]])"
      ]
     },
     "execution_count": 26,
     "metadata": {},
     "output_type": "execute_result"
    }
   ],
   "source": [
    "A = np.array([[1.,2.,-1.],[1.,0.,1.],[4.,-4.,5.]])\n",
    "A"
   ]
  },
  {
   "cell_type": "code",
   "execution_count": 27,
   "id": "ca3260ca",
   "metadata": {},
   "outputs": [
    {
     "data": {
      "text/plain": [
       "(array([3., 2., 1.]),\n",
       " array([[-0.23570226,  0.43643578,  0.40824829],\n",
       "        [ 0.23570226, -0.21821789, -0.40824829],\n",
       "        [ 0.94280904, -0.87287156, -0.81649658]]))"
      ]
     },
     "execution_count": 27,
     "metadata": {},
     "output_type": "execute_result"
    }
   ],
   "source": [
    "np.linalg.eig(A)"
   ]
  },
  {
   "cell_type": "code",
   "execution_count": 46,
   "id": "43c01e0f",
   "metadata": {},
   "outputs": [],
   "source": [
    "def EigValue(A,c=0,itmax=100,tolerancia=1e-15):\n",
    "    \n",
    "    n = A.shape[0]\n",
    "    \n",
    "    v0 = np.zeros(n)\n",
    "    \n",
    "    v0[c] = 1.\n",
    "    \n",
    "    lambda1 = 0.\n",
    "    \n",
    "    for k in range(itmax):\n",
    "        \n",
    "        v1 = np.dot(A,v0)\n",
    "        v1 = v1/np.linalg.norm(v1) # Normaliza\n",
    "        \n",
    "        v2 = np.dot(A,v1)\n",
    "        #v2 = v2/np.linalg.norm(v1)\n",
    "        \n",
    "        lambda0 = lambda1\n",
    "        lambda1 = v2[0]/v1[0]\n",
    "        \n",
    "        v0 = v2\n",
    "        \n",
    "        if np.abs(lambda0 - lambda1) <= tolerancia:\n",
    "            #print(k)\n",
    "            break\n",
    "            \n",
    "    return lambda1,v1"
   ]
  },
  {
   "cell_type": "markdown",
   "id": "907b870f",
   "metadata": {},
   "source": [
    "# Deflación\n",
    "$$ \\mathbb{B} = \\mathbb{A} - \\lambda_{1}(\\vec{v}_{1}\\otimes\\vec{v}_{1}) $$"
   ]
  },
  {
   "cell_type": "code",
   "execution_count": 47,
   "id": "2a48c8eb",
   "metadata": {},
   "outputs": [],
   "source": [
    "def Tensor(v):\n",
    "    \n",
    "    n = v.shape[0]\n",
    "    T = np.zeros((n,n))\n",
    "    \n",
    "    for i in range(n):\n",
    "        for j in range(n):\n",
    "            T[i,j] = v[i]*v[j]\n",
    "    \n",
    "    return T"
   ]
  },
  {
   "cell_type": "code",
   "execution_count": 48,
   "id": "abaf7e05",
   "metadata": {},
   "outputs": [
    {
     "name": "stdout",
     "output_type": "stream",
     "text": [
      "3.000000000000001 [-0.23570226  0.23570226  0.94280904]\n"
     ]
    }
   ],
   "source": [
    "value1,vector1 = EigValue(A)\n",
    "print(value1,vector1)"
   ]
  },
  {
   "cell_type": "code",
   "execution_count": 49,
   "id": "69eee815",
   "metadata": {},
   "outputs": [],
   "source": [
    "def GetEigValues(A):\n",
    "    \n",
    "    A1 = A.copy()\n",
    "    \n",
    "    values = np.zeros(A.shape[0])\n",
    "    vectors = np.zeros_like(A)\n",
    "    \n",
    "    for i in range(A.shape[0]):\n",
    "        \n",
    "        l,v = EigValue(A1,i)\n",
    "        \n",
    "        values[i] = l\n",
    "        vectors[:,i] = v\n",
    "      \n",
    "        # Deflación, los vectores propios de B no son los de A\n",
    "        B = A1 - l*Tensor(v)\n",
    "        \n",
    "        # Actualizamos la matriz\n",
    "        A1 = B\n",
    "        \n",
    "    return values,vectors"
   ]
  },
  {
   "cell_type": "code",
   "execution_count": 50,
   "id": "89efda2f",
   "metadata": {},
   "outputs": [
    {
     "data": {
      "text/plain": [
       "(array([3., 2., 1.]),\n",
       " array([[-0.23570226,  0.17069719, -0.46316957],\n",
       "        [ 0.23570226,  0.23897606, -0.31237017],\n",
       "        [ 0.94280904,  0.95590424, -0.82939667]]))"
      ]
     },
     "execution_count": 50,
     "metadata": {},
     "output_type": "execute_result"
    }
   ],
   "source": [
    "GetEigValues(A)"
   ]
  },
  {
   "cell_type": "code",
   "execution_count": 51,
   "id": "506eec87",
   "metadata": {},
   "outputs": [
    {
     "data": {
      "text/plain": [
       "(array([3., 2., 1.]),\n",
       " array([[-0.23570226,  0.43643578,  0.40824829],\n",
       "        [ 0.23570226, -0.21821789, -0.40824829],\n",
       "        [ 0.94280904, -0.87287156, -0.81649658]]))"
      ]
     },
     "execution_count": 51,
     "metadata": {},
     "output_type": "execute_result"
    }
   ],
   "source": [
    "np.linalg.eig(A)"
   ]
  },
  {
   "cell_type": "code",
   "execution_count": null,
   "id": "3c07a4bb",
   "metadata": {},
   "outputs": [],
   "source": []
  },
  {
   "cell_type": "code",
   "execution_count": null,
   "id": "fcda5db2",
   "metadata": {},
   "outputs": [],
   "source": []
  }
 ],
 "metadata": {
  "kernelspec": {
   "display_name": "Python 3 (ipykernel)",
   "language": "python",
   "name": "python3"
  },
  "language_info": {
   "codemirror_mode": {
    "name": "ipython",
    "version": 3
   },
   "file_extension": ".py",
   "mimetype": "text/x-python",
   "name": "python",
   "nbconvert_exporter": "python",
   "pygments_lexer": "ipython3",
   "version": "3.9.12"
  }
 },
 "nbformat": 4,
 "nbformat_minor": 5
}
