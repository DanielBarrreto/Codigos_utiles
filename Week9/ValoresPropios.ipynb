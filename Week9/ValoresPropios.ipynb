{
 "cells": [
  {
   "cell_type": "code",
   "execution_count": 252,
   "id": "62a16127",
   "metadata": {},
   "outputs": [],
   "source": [
    "import numpy as np"
   ]
  },
  {
   "cell_type": "code",
   "execution_count": 253,
   "id": "320652a6",
   "metadata": {},
   "outputs": [
    {
     "data": {
      "text/plain": [
       "array([[ 1.,  2., -1.],\n",
       "       [ 1.,  0.,  1.],\n",
       "       [ 4., -4.,  5.]])"
      ]
     },
     "execution_count": 253,
     "metadata": {},
     "output_type": "execute_result"
    }
   ],
   "source": [
    "A = np.array([[1.,2.,-1.],[1.,0.,1.],[4.,-4.,5.]])\n",
    "A"
   ]
  },
  {
   "cell_type": "code",
   "execution_count": 254,
   "id": "ca3260ca",
   "metadata": {},
   "outputs": [
    {
     "data": {
      "text/plain": [
       "(array([3., 2., 1.]),\n",
       " array([[-0.23570226,  0.43643578,  0.40824829],\n",
       "        [ 0.23570226, -0.21821789, -0.40824829],\n",
       "        [ 0.94280904, -0.87287156, -0.81649658]]))"
      ]
     },
     "execution_count": 254,
     "metadata": {},
     "output_type": "execute_result"
    }
   ],
   "source": [
    "np.linalg.eig(A)"
   ]
  },
  {
   "cell_type": "code",
   "execution_count": 256,
   "id": "43c01e0f",
   "metadata": {},
   "outputs": [],
   "source": [
    "def EigValue(A,c=0,itmax=1000,tolerancia=1e-18):\n",
    "    \n",
    "    n = A.shape[0]\n",
    "    v0 = np.zeros(n)\n",
    "    \n",
    "    v0[c] = 1.        # Esta componente la asignamos a 1 al iniciar\n",
    "    lambda0 = np.inf  # Valor propio indefinido al iniciar\n",
    "    \n",
    "    for k in range(itmax):\n",
    "        \n",
    "        v1 = np.dot(A,v0)\n",
    "        lambda1 = v1[c]/v0[c]\n",
    "        \n",
    "        v1 = v1/np.linalg.norm(v1) # Normalizamos el vector luego de calcular\n",
    "                    \n",
    "        if np.abs(lambda0 - lambda1) <= tolerancia:\n",
    "            break\n",
    "           \n",
    "        # Actualizamos\n",
    "        lambda0 = lambda1\n",
    "        #print(lambda0,v0,v1)\n",
    "        v0 = v1\n",
    "                 \n",
    "    return lambda0,v0"
   ]
  },
  {
   "cell_type": "code",
   "execution_count": 257,
   "id": "4bb6a7b7",
   "metadata": {},
   "outputs": [
    {
     "data": {
      "text/plain": [
       "(3.0000000000000018, array([-0.23570226,  0.23570226,  0.94280904]))"
      ]
     },
     "execution_count": 257,
     "metadata": {},
     "output_type": "execute_result"
    }
   ],
   "source": [
    "EigValue(A)"
   ]
  },
  {
   "cell_type": "markdown",
   "id": "907b870f",
   "metadata": {},
   "source": [
    "# Deflación\n",
    "$$ \\mathbb{B} = \\mathbb{A} - \\lambda_{1}(\\vec{v}_{1}\\otimes\\vec{v}_{1}) $$"
   ]
  },
  {
   "cell_type": "code",
   "execution_count": 258,
   "id": "2a48c8eb",
   "metadata": {},
   "outputs": [],
   "source": [
    "def Tensor(v):\n",
    "    \n",
    "    n = v.shape[0]\n",
    "    T = np.zeros((n,n))\n",
    "    \n",
    "    for i in range(n):\n",
    "        for j in range(n):\n",
    "            T[i,j] = v[i]*v[j]\n",
    "    \n",
    "    return T"
   ]
  },
  {
   "cell_type": "code",
   "execution_count": 259,
   "id": "abaf7e05",
   "metadata": {},
   "outputs": [
    {
     "name": "stdout",
     "output_type": "stream",
     "text": [
      "3.0000000000000018 [-0.23570226  0.23570226  0.94280904]\n"
     ]
    }
   ],
   "source": [
    "value1,vector1 = EigValue(A)\n",
    "print(value1,vector1)"
   ]
  },
  {
   "cell_type": "code",
   "execution_count": 261,
   "id": "2c53ef38",
   "metadata": {},
   "outputs": [],
   "source": [
    "def GetEigValues(A):\n",
    "    \n",
    "    A1 = A.copy()\n",
    "    \n",
    "    values = np.zeros(A1.shape[0])\n",
    "    vectors = np.zeros_like(A1)\n",
    "    \n",
    "    for i in range(A.shape[0]):\n",
    "        \n",
    "        l,v = EigValue(A1,i) \n",
    "        \n",
    "        values[i] = l\n",
    "        vectors[:,i] = v\n",
    "      \n",
    "        # Deflación: los vectores propios de B no necesariamente son los de A\n",
    "        B = A1 - l*Tensor(v)\n",
    "        \n",
    "        # Actualizamos la matriz\n",
    "        A1 = B\n",
    "        \n",
    "    return values,vectors"
   ]
  },
  {
   "cell_type": "code",
   "execution_count": 262,
   "id": "0e41e0ab",
   "metadata": {},
   "outputs": [
    {
     "data": {
      "text/plain": [
       "(array([3., 2., 1.]),\n",
       " array([[-0.23570226,  0.17069719, -0.46316957],\n",
       "        [ 0.23570226,  0.23897606, -0.31237017],\n",
       "        [ 0.94280904,  0.95590424, -0.82939667]]))"
      ]
     },
     "execution_count": 262,
     "metadata": {},
     "output_type": "execute_result"
    }
   ],
   "source": [
    "GetEigValues(A)"
   ]
  },
  {
   "cell_type": "code",
   "execution_count": 263,
   "id": "a363bf4f",
   "metadata": {},
   "outputs": [
    {
     "data": {
      "text/plain": [
       "(array([3., 2., 1.]),\n",
       " array([[-0.23570226,  0.43643578,  0.40824829],\n",
       "        [ 0.23570226, -0.21821789, -0.40824829],\n",
       "        [ 0.94280904, -0.87287156, -0.81649658]]))"
      ]
     },
     "execution_count": 263,
     "metadata": {},
     "output_type": "execute_result"
    }
   ],
   "source": [
    "np.linalg.eig(A)"
   ]
  },
  {
   "cell_type": "code",
   "execution_count": 264,
   "id": "63d2cd9c",
   "metadata": {},
   "outputs": [
    {
     "data": {
      "text/plain": [
       "(array([-3.,  1.]),\n",
       " array([[-0.98058068, -0.93499753],\n",
       "        [ 0.19611614,  0.35465423]]))"
      ]
     },
     "execution_count": 264,
     "metadata": {},
     "output_type": "execute_result"
    }
   ],
   "source": [
    "# Otro ejemplo\n",
    "B = np.array([[-4.,-5.],[1.,2.]])\n",
    "GetEigValues(B)"
   ]
  },
  {
   "cell_type": "code",
   "execution_count": 265,
   "id": "04f18246",
   "metadata": {},
   "outputs": [
    {
     "data": {
      "text/plain": [
       "(array([-3.,  1.]),\n",
       " array([[-0.98058068,  0.70710678],\n",
       "        [ 0.19611614, -0.70710678]]))"
      ]
     },
     "execution_count": 265,
     "metadata": {},
     "output_type": "execute_result"
    }
   ],
   "source": [
    "np.linalg.eig(B)"
   ]
  },
  {
   "cell_type": "code",
   "execution_count": null,
   "id": "e6876387",
   "metadata": {},
   "outputs": [],
   "source": []
  }
 ],
 "metadata": {
  "kernelspec": {
   "display_name": "Python 3 (ipykernel)",
   "language": "python",
   "name": "python3"
  },
  "language_info": {
   "codemirror_mode": {
    "name": "ipython",
    "version": 3
   },
   "file_extension": ".py",
   "mimetype": "text/x-python",
   "name": "python",
   "nbconvert_exporter": "python",
   "pygments_lexer": "ipython3",
   "version": "3.9.12"
  }
 },
 "nbformat": 4,
 "nbformat_minor": 5
}
