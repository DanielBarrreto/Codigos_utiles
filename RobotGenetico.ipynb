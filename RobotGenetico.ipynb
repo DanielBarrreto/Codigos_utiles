{
 "cells": [
  {
   "cell_type": "code",
   "execution_count": 37,
   "id": "78b04968",
   "metadata": {},
   "outputs": [],
   "source": [
    "import numpy as np\n",
    "import matplotlib.pyplot as plt\n",
    "from IPython.display import clear_output\n",
    "import time"
   ]
  },
  {
   "cell_type": "code",
   "execution_count": 38,
   "id": "4af0b552",
   "metadata": {},
   "outputs": [],
   "source": [
    "class Robot:\n",
    "    \n",
    "    def __init__(self,dt,Id=0):\n",
    "        \n",
    "        # Time\n",
    "        self.dt = dt\n",
    "        self.Id = Id\n",
    "        \n",
    "         # Status \n",
    "        self.Status = 1\n",
    "        \n",
    "        # Position\n",
    "        self.r = np.array([0.,0.])\n",
    "        \n",
    "        # Velocity\n",
    "        theta = np.random.uniform(0,2*np.pi)\n",
    "        V = 1.\n",
    "        self.v = np.array([V*np.cos(theta),V*np.sin(theta)])\n",
    "        \n",
    "    def Reset(self):\n",
    "        \n",
    "        self.Status = 1\n",
    "        self.r = np.array([0.,0.])\n",
    "        \n",
    "    def Evolution(self):\n",
    "        self.r += self.v*self.dt\n",
    "        \n",
    "    def CheckLimits(self,Limits):\n",
    "        \n",
    "        for i in range(2):\n",
    "            if self.r[i] > Limits[i][1] or self.r[i] < Limits[i][0]:\n",
    "                self.Status = 0\n",
    "                \n",
    "    def Print(self):\n",
    "        print( '{} {} {} {}'.format(self.r,self.v,self.Id,self.Status) )"
   ]
  },
  {
   "cell_type": "code",
   "execution_count": 39,
   "id": "08613e9c",
   "metadata": {},
   "outputs": [],
   "source": [
    "dt = 0.05\n",
    "t = np.arange(0.,2.,dt)\n",
    "Limits=np.array([[-1,1],[-1,1]])"
   ]
  },
  {
   "cell_type": "code",
   "execution_count": 40,
   "id": "c7c8a0aa",
   "metadata": {},
   "outputs": [],
   "source": [
    "r1 = Robot(dt,0)\n",
    "r2 = Robot(dt,1)"
   ]
  },
  {
   "cell_type": "code",
   "execution_count": 41,
   "id": "611771c5",
   "metadata": {},
   "outputs": [],
   "source": [
    "Robots = [r1,r2]"
   ]
  },
  {
   "cell_type": "code",
   "execution_count": 48,
   "id": "375088b6",
   "metadata": {},
   "outputs": [],
   "source": [
    "def TimeEvolution(Robots,e):\n",
    "    \n",
    "    for it in range(len(t)):\n",
    "        \n",
    "        clear_output(wait=True)\n",
    "        \n",
    "        for i,p in enumerate(Robots):\n",
    "            \n",
    "            p.Evolution()\n",
    "            p.CheckLimits(Limits)\n",
    "            \n",
    "            p.Print()\n",
    "            \n",
    "        time.sleep(0.01)"
   ]
  },
  {
   "cell_type": "code",
   "execution_count": 49,
   "id": "6950bdc4",
   "metadata": {},
   "outputs": [],
   "source": [
    "def Genetic(Robots, epochs = 10):\n",
    "    \n",
    "    for e in range( epochs ):\n",
    "        \n",
    "        print(e)\n",
    "        TimeEvolution(Robots,e)\n",
    "        \n",
    "        for p in Robots:\n",
    "            p.Reset()\n",
    "        \n",
    "    return Robots"
   ]
  },
  {
   "cell_type": "code",
   "execution_count": 50,
   "id": "97da55db",
   "metadata": {},
   "outputs": [
    {
     "name": "stdout",
     "output_type": "stream",
     "text": [
      "[-1.48280823  1.34211763] [-0.74140412  0.67105882] 0 0\n",
      "[-0.29312304  1.97840311] [-0.14656152  0.98920156] 1 0\n"
     ]
    }
   ],
   "source": [
    "Robots = Genetic(Robots)"
   ]
  },
  {
   "cell_type": "code",
   "execution_count": null,
   "id": "863f8555",
   "metadata": {},
   "outputs": [],
   "source": []
  }
 ],
 "metadata": {
  "kernelspec": {
   "display_name": "Python 3 (ipykernel)",
   "language": "python",
   "name": "python3"
  },
  "language_info": {
   "codemirror_mode": {
    "name": "ipython",
    "version": 3
   },
   "file_extension": ".py",
   "mimetype": "text/x-python",
   "name": "python",
   "nbconvert_exporter": "python",
   "pygments_lexer": "ipython3",
   "version": "3.9.12"
  }
 },
 "nbformat": 4,
 "nbformat_minor": 5
}
