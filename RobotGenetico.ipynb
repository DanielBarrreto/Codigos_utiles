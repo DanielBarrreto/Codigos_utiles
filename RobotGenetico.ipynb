{
 "cells": [
  {
   "cell_type": "code",
   "execution_count": 1,
   "id": "78b04968",
   "metadata": {},
   "outputs": [],
   "source": [
    "import numpy as np\n",
    "import matplotlib.pyplot as plt\n",
    "from IPython.display import clear_output\n",
    "import time"
   ]
  },
  {
   "cell_type": "code",
   "execution_count": 6,
   "id": "4af0b552",
   "metadata": {},
   "outputs": [],
   "source": [
    "class Robot:\n",
    "    \n",
    "    def __init__(self,dt,Id=0):\n",
    "        \n",
    "        # Time\n",
    "        self.dt = dt\n",
    "        self.Id = Id\n",
    "        \n",
    "        # Position\n",
    "        self.r = np.array([0.,0.])\n",
    "        \n",
    "        # Status \n",
    "        self.Status = 1\n",
    "        \n",
    "        # Velocity\n",
    "        theta = np.random.uniform(0,2*np.pi)\n",
    "        V = 10.\n",
    "        self.v = np.array([V*np.cos(theta),V*np.sin(theta)])\n",
    "        \n",
    "    def Evolution(self):\n",
    "        self.r += self.v*self.dt\n",
    "        \n",
    "    def CheckLimits(self,Limits):\n",
    "        \n",
    "        for i in range(2):\n",
    "            if self.r[i] > Limits[i][1] or self.r[i] < Limits[i][0]:\n",
    "                self.Status = 0"
   ]
  },
  {
   "cell_type": "code",
   "execution_count": 7,
   "id": "08613e9c",
   "metadata": {},
   "outputs": [],
   "source": [
    "dt = 0.01\n",
    "Limits=np.array([[-1,1],[-1,1]])\n",
    "r1 = Robot(dt,0)"
   ]
  },
  {
   "cell_type": "code",
   "execution_count": 10,
   "id": "97da55db",
   "metadata": {},
   "outputs": [
    {
     "name": "stdout",
     "output_type": "stream",
     "text": [
      "0 [19.87427981  1.01143559] [9.98707528 0.50825909] 0\n"
     ]
    }
   ],
   "source": [
    "for it in range(100):\n",
    "    clear_output(True)\n",
    "    print(r1.Id,r1.r,r1.v,r1.Status)\n",
    "    r1.CheckLimits(Limits)\n",
    "    r1.Evolution()\n",
    "    time.sleep(1)"
   ]
  },
  {
   "cell_type": "code",
   "execution_count": null,
   "id": "863f8555",
   "metadata": {},
   "outputs": [],
   "source": []
  }
 ],
 "metadata": {
  "kernelspec": {
   "display_name": "Python 3 (ipykernel)",
   "language": "python",
   "name": "python3"
  },
  "language_info": {
   "codemirror_mode": {
    "name": "ipython",
    "version": 3
   },
   "file_extension": ".py",
   "mimetype": "text/x-python",
   "name": "python",
   "nbconvert_exporter": "python",
   "pygments_lexer": "ipython3",
   "version": "3.9.12"
  }
 },
 "nbformat": 4,
 "nbformat_minor": 5
}
