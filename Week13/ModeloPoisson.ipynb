{
 "cells": [
  {
   "cell_type": "code",
   "execution_count": 1,
   "id": "a2df3c1c",
   "metadata": {},
   "outputs": [],
   "source": [
    "import numpy as np"
   ]
  },
  {
   "cell_type": "code",
   "execution_count": 8,
   "id": "725641d2",
   "metadata": {},
   "outputs": [],
   "source": [
    "Prior = np.array([0.4,0.3,0.2,0.1])\n",
    "lambda_ = np.array([1,2,3,4]) # El mundo de los modelos"
   ]
  },
  {
   "cell_type": "code",
   "execution_count": 9,
   "id": "c4d7c45e",
   "metadata": {},
   "outputs": [],
   "source": [
    "Poisson = lambda mu,x : np.exp(-mu)*mu**x / np.math.factorial(x)"
   ]
  },
  {
   "cell_type": "code",
   "execution_count": 10,
   "id": "cd73e533",
   "metadata": {},
   "outputs": [],
   "source": [
    "Likelihood = Poisson(lambda_,4)"
   ]
  },
  {
   "cell_type": "code",
   "execution_count": 11,
   "id": "4eebe7be",
   "metadata": {},
   "outputs": [
    {
     "data": {
      "text/plain": [
       "array([0.01532831, 0.09022352, 0.16803136, 0.19536681])"
      ]
     },
     "execution_count": 11,
     "metadata": {},
     "output_type": "execute_result"
    }
   ],
   "source": [
    "Likelihood"
   ]
  },
  {
   "cell_type": "code",
   "execution_count": 12,
   "id": "9cf84f33",
   "metadata": {},
   "outputs": [
    {
     "data": {
      "text/plain": [
       "0.0863413332964712"
      ]
     },
     "execution_count": 12,
     "metadata": {},
     "output_type": "execute_result"
    }
   ],
   "source": [
    "Probx = np.sum(Likelihood*Prior)\n",
    "Probx"
   ]
  },
  {
   "cell_type": "code",
   "execution_count": 13,
   "id": "6ba8d8c8",
   "metadata": {},
   "outputs": [],
   "source": [
    "Posterior = (Likelihood*prior)/Probx"
   ]
  },
  {
   "cell_type": "code",
   "execution_count": 14,
   "id": "982d7e86",
   "metadata": {},
   "outputs": [
    {
     "data": {
      "text/plain": [
       "array([0.07101262, 0.31348898, 0.38922576, 0.22627264])"
      ]
     },
     "execution_count": 14,
     "metadata": {},
     "output_type": "execute_result"
    }
   ],
   "source": [
    "Posterior"
   ]
  },
  {
   "cell_type": "code",
   "execution_count": null,
   "id": "e4f6f67b",
   "metadata": {},
   "outputs": [],
   "source": []
  }
 ],
 "metadata": {
  "kernelspec": {
   "display_name": "Python 3 (ipykernel)",
   "language": "python",
   "name": "python3"
  },
  "language_info": {
   "codemirror_mode": {
    "name": "ipython",
    "version": 3
   },
   "file_extension": ".py",
   "mimetype": "text/x-python",
   "name": "python",
   "nbconvert_exporter": "python",
   "pygments_lexer": "ipython3",
   "version": "3.9.12"
  }
 },
 "nbformat": 4,
 "nbformat_minor": 5
}
