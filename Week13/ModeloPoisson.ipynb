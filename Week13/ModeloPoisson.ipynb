{
 "cells": [
  {
   "cell_type": "code",
   "execution_count": 1,
   "id": "3596c266",
   "metadata": {},
   "outputs": [],
   "source": [
    "import numpy as np"
   ]
  },
  {
   "cell_type": "code",
   "execution_count": 2,
   "id": "7edc0f3b",
   "metadata": {},
   "outputs": [],
   "source": [
    "prior = np.array([0.4,0.3,0.2,0.1])\n",
    "lambda_ = np.array([1,2,3,4]) # El mundo de los modelos"
   ]
  },
  {
   "cell_type": "code",
   "execution_count": 4,
   "id": "9380fc2b",
   "metadata": {},
   "outputs": [],
   "source": [
    "Poisson = lambda mu,x : np.exp(-mu)*mu**x / np.math.factorial(x)"
   ]
  },
  {
   "cell_type": "code",
   "execution_count": null,
   "id": "39e56017",
   "metadata": {},
   "outputs": [],
   "source": []
  }
 ],
 "metadata": {
  "kernelspec": {
   "display_name": "Python 3 (ipykernel)",
   "language": "python",
   "name": "python3"
  },
  "language_info": {
   "codemirror_mode": {
    "name": "ipython",
    "version": 3
   },
   "file_extension": ".py",
   "mimetype": "text/x-python",
   "name": "python",
   "nbconvert_exporter": "python",
   "pygments_lexer": "ipython3",
   "version": "3.9.12"
  }
 },
 "nbformat": 4,
 "nbformat_minor": 5
}
