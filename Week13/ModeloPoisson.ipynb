{
 "cells": [
  {
   "cell_type": "code",
   "execution_count": 1,
   "id": "5024f248",
   "metadata": {},
   "outputs": [],
   "source": [
    "import numpy as np"
   ]
  },
  {
   "cell_type": "code",
   "execution_count": 8,
   "id": "22752916",
   "metadata": {},
   "outputs": [],
   "source": [
    "Prior = np.array([0.4,0.3,0.2,0.1])\n",
    "lambda_ = np.array([1,2,3,4]) # El mundo de los modelos"
   ]
  },
  {
   "cell_type": "code",
   "execution_count": 9,
   "id": "bb9d3610",
   "metadata": {},
   "outputs": [],
   "source": [
    "Poisson = lambda mu,x : np.exp(-mu)*mu**x / np.math.factorial(x)"
   ]
  },
  {
   "cell_type": "code",
   "execution_count": 10,
   "id": "939983b9",
   "metadata": {},
   "outputs": [],
   "source": [
    "Likelihood = Poisson(lambda_,4)"
   ]
  },
  {
   "cell_type": "code",
   "execution_count": 11,
   "id": "cec0760f",
   "metadata": {},
   "outputs": [
    {
     "data": {
      "text/plain": [
       "array([0.01532831, 0.09022352, 0.16803136, 0.19536681])"
      ]
     },
     "execution_count": 11,
     "metadata": {},
     "output_type": "execute_result"
    }
   ],
   "source": [
    "Likelihood"
   ]
  },
  {
   "cell_type": "code",
   "execution_count": 12,
   "id": "3c5b2f14",
   "metadata": {},
   "outputs": [
    {
     "data": {
      "text/plain": [
       "0.0863413332964712"
      ]
     },
     "execution_count": 12,
     "metadata": {},
     "output_type": "execute_result"
    }
   ],
   "source": [
    "Probx = np.sum(Likelihood*Prior)\n",
    "Probx"
   ]
  },
  {
   "cell_type": "code",
   "execution_count": 13,
   "id": "017e3f15",
   "metadata": {},
   "outputs": [],
   "source": [
    "Posterior = (Likelihood*prior)/Probx"
   ]
  },
  {
   "cell_type": "code",
   "execution_count": 14,
   "id": "7a838843",
   "metadata": {},
   "outputs": [
    {
     "data": {
      "text/plain": [
       "array([0.07101262, 0.31348898, 0.38922576, 0.22627264])"
      ]
     },
     "execution_count": 14,
     "metadata": {},
     "output_type": "execute_result"
    }
   ],
   "source": [
    "Posterior"
   ]
  },
  {
   "cell_type": "code",
   "execution_count": null,
   "id": "e5f7e489",
   "metadata": {},
   "outputs": [],
   "source": []
  }
 ],
 "metadata": {
  "kernelspec": {
   "display_name": "Python 3 (ipykernel)",
   "language": "python",
   "name": "python3"
  },
  "language_info": {
   "codemirror_mode": {
    "name": "ipython",
    "version": 3
   },
   "file_extension": ".py",
   "mimetype": "text/x-python",
   "name": "python",
   "nbconvert_exporter": "python",
   "pygments_lexer": "ipython3",
   "version": "3.9.12"
  }
 },
 "nbformat": 4,
 "nbformat_minor": 5
}
