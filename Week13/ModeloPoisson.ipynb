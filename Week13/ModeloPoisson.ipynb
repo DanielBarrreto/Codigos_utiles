{
 "cells": [
  {
   "cell_type": "code",
   "execution_count": 1,
   "id": "9ada98e1",
   "metadata": {},
   "outputs": [],
   "source": [
    "import numpy as np"
   ]
  },
  {
   "cell_type": "code",
   "execution_count": 8,
   "id": "b574e68f",
   "metadata": {},
   "outputs": [],
   "source": [
    "Prior = np.array([0.4,0.3,0.2,0.1])\n",
    "lambda_ = np.array([1,2,3,4]) # El mundo de los modelos"
   ]
  },
  {
   "cell_type": "code",
   "execution_count": 9,
   "id": "7bcd4499",
   "metadata": {},
   "outputs": [],
   "source": [
    "Poisson = lambda mu,x : np.exp(-mu)*mu**x / np.math.factorial(x)"
   ]
  },
  {
   "cell_type": "code",
   "execution_count": 10,
   "id": "00d62a71",
   "metadata": {},
   "outputs": [],
   "source": [
    "Likelihood = Poisson(lambda_,4)"
   ]
  },
  {
   "cell_type": "code",
   "execution_count": 11,
   "id": "ee0f8f15",
   "metadata": {},
   "outputs": [
    {
     "data": {
      "text/plain": [
       "array([0.01532831, 0.09022352, 0.16803136, 0.19536681])"
      ]
     },
     "execution_count": 11,
     "metadata": {},
     "output_type": "execute_result"
    }
   ],
   "source": [
    "Likelihood"
   ]
  },
  {
   "cell_type": "code",
   "execution_count": 12,
   "id": "c0561959",
   "metadata": {},
   "outputs": [
    {
     "data": {
      "text/plain": [
       "0.0863413332964712"
      ]
     },
     "execution_count": 12,
     "metadata": {},
     "output_type": "execute_result"
    }
   ],
   "source": [
    "Probx = np.sum(Likelihood*Prior)\n",
    "Probx"
   ]
  },
  {
   "cell_type": "code",
   "execution_count": 13,
   "id": "29815caf",
   "metadata": {},
   "outputs": [],
   "source": [
    "Posterior = (Likelihood*prior)/Probx"
   ]
  },
  {
   "cell_type": "code",
   "execution_count": 14,
   "id": "11f51a48",
   "metadata": {},
   "outputs": [
    {
     "data": {
      "text/plain": [
       "array([0.07101262, 0.31348898, 0.38922576, 0.22627264])"
      ]
     },
     "execution_count": 14,
     "metadata": {},
     "output_type": "execute_result"
    }
   ],
   "source": [
    "Posterior"
   ]
  },
  {
   "cell_type": "code",
   "execution_count": 15,
   "id": "f4f941fe",
   "metadata": {},
   "outputs": [
    {
     "data": {
      "text/plain": [
       "array([4.69914178e-05, 3.25611358e-03, 1.69407219e-02, 3.05345539e-02])"
      ]
     },
     "execution_count": 15,
     "metadata": {},
     "output_type": "execute_result"
    }
   ],
   "source": [
    "# Caso de dos canales\n",
    "JointLikelihood = Poisson(lambda_,4)*Poisson(lambda_,5)\n",
    "JointLikelihood"
   ]
  },
  {
   "cell_type": "code",
   "execution_count": 17,
   "id": "4c0a85d8",
   "metadata": {},
   "outputs": [
    {
     "data": {
      "text/plain": [
       "0.007437230409082155"
      ]
     },
     "execution_count": 17,
     "metadata": {},
     "output_type": "execute_result"
    }
   ],
   "source": [
    "Probx = np.sum(JointLikelihood*Prior)\n",
    "Probx"
   ]
  },
  {
   "cell_type": "code",
   "execution_count": 18,
   "id": "30403377",
   "metadata": {},
   "outputs": [],
   "source": [
    "Posterior = (JointLikelihood*prior)/Probx"
   ]
  },
  {
   "cell_type": "code",
   "execution_count": 19,
   "id": "ead914a5",
   "metadata": {},
   "outputs": [
    {
     "data": {
      "text/plain": [
       "array([0.00252736, 0.1313438 , 0.45556534, 0.41056351])"
      ]
     },
     "execution_count": 19,
     "metadata": {},
     "output_type": "execute_result"
    }
   ],
   "source": [
    "Posterior"
   ]
  },
  {
   "cell_type": "code",
   "execution_count": null,
   "id": "a560cff8",
   "metadata": {},
   "outputs": [],
   "source": []
  }
 ],
 "metadata": {
  "kernelspec": {
   "display_name": "Python 3 (ipykernel)",
   "language": "python",
   "name": "python3"
  },
  "language_info": {
   "codemirror_mode": {
    "name": "ipython",
    "version": 3
   },
   "file_extension": ".py",
   "mimetype": "text/x-python",
   "name": "python",
   "nbconvert_exporter": "python",
   "pygments_lexer": "ipython3",
   "version": "3.9.12"
  }
 },
 "nbformat": 4,
 "nbformat_minor": 5
}
